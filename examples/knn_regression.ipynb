{
 "cells": [
  {
   "cell_type": "code",
   "execution_count": 1,
   "metadata": {},
   "outputs": [],
   "source": [
    "import matplotlib.pyplot as plt\n",
    "import numpy as np\n",
    "import pandas as pd\n",
    "from pathlib import Path\n",
    "from sklearn.neighbors import KNeighborsRegressor\n",
    "from sklearn.metrics import mean_squared_error\n",
    "from sklearn.model_selection import train_test_split, KFold\n",
    "from sklearn.pipeline import Pipeline\n",
    "from sklearn.preprocessing import StandardScaler\n",
    "\n",
    "plt.style.use(\"customstyle.mplstyle\")\n",
    "\n",
    "DATA_FOLDER = Path(\"../data\")"
   ]
  },
  {
   "cell_type": "markdown",
   "metadata": {},
   "source": [
    "# K-Nearest Neighbors Regression\n",
    "\n",
    "We use a K-Nearest Neighbors Regression."
   ]
  },
  {
   "cell_type": "code",
   "execution_count": 2,
   "metadata": {},
   "outputs": [],
   "source": [
    "collisions = pd.read_pickle(DATA_FOLDER / \"final_dataset_train.pkl\")\n",
    "collisions_df = collisions.drop(columns=[\"physicalid\", \"geometry\"])"
   ]
  },
  {
   "cell_type": "code",
   "execution_count": 44,
   "metadata": {},
   "outputs": [],
   "source": [
    "features = [\n",
    "    \"st_width\",\n",
    "    \"has_humps\",\n",
    "    \"has_parking_meters\",\n",
    "    \"has_bike_lane\",\n",
    "    \"is_av\",\n",
    "    \"is_st\",\n",
    "    \"is_rd\",\n",
    "    \"n_trees\",\n",
    "]"
   ]
  },
  {
   "cell_type": "code",
   "execution_count": 45,
   "metadata": {},
   "outputs": [],
   "source": [
    "kfold = KFold(shuffle=True, random_state=2531)\n",
    "mses = np.zeros((5, 50))\n",
    "\n",
    "for i, (tt_idx, ho_idx) in enumerate(kfold.split(collisions_df)):\n",
    "    coll_tt = collisions_df.iloc[tt_idx]\n",
    "    coll_ho = collisions_df.iloc[ho_idx]\n",
    "\n",
    "    for j in range(1, 51):\n",
    "        knnpipe = Pipeline(\n",
    "            [(\"scaler\", StandardScaler()), (\"knn\", KNeighborsRegressor(j))]\n",
    "        )\n",
    "\n",
    "        knnpipe.fit(coll_tt[features], coll_tt[\"collision_rate\"])\n",
    "        pred = knnpipe.predict(coll_ho[features])\n",
    "        mses[i, j - 1] = mean_squared_error(coll_ho[\"collision_rate\"], pred)"
   ]
  },
  {
   "cell_type": "code",
   "execution_count": 50,
   "metadata": {},
   "outputs": [
    {
     "data": {
      "text/plain": [
       "48"
      ]
     },
     "execution_count": 50,
     "metadata": {},
     "output_type": "execute_result"
    }
   ],
   "source": [
    "np.argmin(mses.mean(axis=0))"
   ]
  },
  {
   "cell_type": "markdown",
   "metadata": {},
   "source": [
    "Note due to the indexing this is k = 49. Also questionable if we should go this high since it starts to level off way sooner."
   ]
  },
  {
   "cell_type": "code",
   "execution_count": 51,
   "metadata": {},
   "outputs": [
    {
     "data": {
      "text/plain": [
       "0.013864492265836026"
      ]
     },
     "execution_count": 51,
     "metadata": {},
     "output_type": "execute_result"
    }
   ],
   "source": [
    "mses.mean(axis=0)[48]"
   ]
  },
  {
   "cell_type": "code",
   "execution_count": 47,
   "metadata": {},
   "outputs": [
    {
     "data": {
      "image/png": "[encoded data removed]",
      "text/plain": [
       "<Figure size 640x480 with 1 Axes>"
      ]
     },
     "metadata": {},
     "output_type": "display_data"
    }
   ],
   "source": [
    "plt.figure()\n",
    "plt.plot(range(1, 51), mses.mean(axis=0))\n",
    "plt.show()"
   ]
  },
  {
   "cell_type": "code",
   "execution_count": null,
   "metadata": {},
   "outputs": [],
   "source": []
  }
 ],
 "metadata": {
  "kernelspec": {
   "display_name": ".venv",
   "language": "python",
   "name": "python3"
  },
  "language_info": {
   "codemirror_mode": {
    "name": "ipython",
    "version": 3
   },
   "file_extension": ".py",
   "mimetype": "text/x-python",
   "name": "python",
   "nbconvert_exporter": "python",
   "pygments_lexer": "ipython3",
   "version": "3.11.5"
  }
 },
 "nbformat": 4,
 "nbformat_minor": 2
}

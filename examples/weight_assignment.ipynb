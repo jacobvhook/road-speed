{
 "cells": [
  {
   "cell_type": "code",
   "execution_count": 1,
   "metadata": {},
   "outputs": [],
   "source": [
    "import sys\n",
    "\n",
    "sys.path.insert(0, \"../src\")"
   ]
  },
  {
   "cell_type": "code",
   "execution_count": 2,
   "metadata": {},
   "outputs": [],
   "source": [
    "from dotenv import load_dotenv\n",
    "import os\n",
    "\n",
    "load_dotenv()\n",
    "\n",
    "nyc_app_token = os.getenv(\"NYC_OPENDATA_APPTOKEN\")"
   ]
  },
  {
   "cell_type": "code",
   "execution_count": 3,
   "metadata": {},
   "outputs": [],
   "source": [
    "from data_downloader import OpenDataDownloader, GeometryFormatter\n",
    "\n",
    "loader = OpenDataDownloader(nyc_app_token)"
   ]
  },
  {
   "cell_type": "code",
   "execution_count": 4,
   "metadata": {},
   "outputs": [],
   "source": [
    "crashes = loader.load_data(\"crashes\", limit=10000)\n",
    "streets = loader.load_data(\"centerline\")"
   ]
  },
  {
   "cell_type": "code",
   "execution_count": 5,
   "metadata": {},
   "outputs": [],
   "source": [
    "crashes_gdf = GeometryFormatter(crashes).from_lat_long()\n",
    "streets_gdf = GeometryFormatter(streets).from_geometry_column(\"the_geom\")"
   ]
  },
  {
   "cell_type": "code",
   "execution_count": 6,
   "metadata": {},
   "outputs": [],
   "source": [
    "from data_helpers import RoadFeaturesCalculator\n",
    "\n",
    "collision_rates = RoadFeaturesCalculator(\n",
    "    features_df=crashes_gdf, streets_df=streets_gdf\n",
    ").calculate_road_features(\n",
    "    id_column=\"collision_id\", feature_name=\"collision_rate\", date_column=\"crash_date\"\n",
    ")"
   ]
  },
  {
   "cell_type": "code",
   "execution_count": 7,
   "metadata": {},
   "outputs": [
    {
     "data": {
      "text/html": [
       "<div>\n",
       "<style scoped>\n",
       "    .dataframe tbody tr th:only-of-type {\n",
       "        vertical-align: middle;\n",
       "    }\n",
       "\n",
       "    .dataframe tbody tr th {\n",
       "        vertical-align: top;\n",
       "    }\n",
       "\n",
       "    .dataframe thead th {\n",
       "        text-align: right;\n",
       "    }\n",
       "</style>\n",
       "<table border=\"1\" class=\"dataframe\">\n",
       "  <thead>\n",
       "    <tr style=\"text-align: right;\">\n",
       "      <th></th>\n",
       "      <th>physicalid</th>\n",
       "      <th>collision_rate</th>\n",
       "    </tr>\n",
       "  </thead>\n",
       "  <tbody>\n",
       "    <tr>\n",
       "      <th>0</th>\n",
       "      <td>-1</td>\n",
       "      <td>0.0</td>\n",
       "    </tr>\n",
       "    <tr>\n",
       "      <th>1</th>\n",
       "      <td>10000</td>\n",
       "      <td>0.0</td>\n",
       "    </tr>\n",
       "    <tr>\n",
       "      <th>2</th>\n",
       "      <td>100000</td>\n",
       "      <td>0.0</td>\n",
       "    </tr>\n",
       "    <tr>\n",
       "      <th>3</th>\n",
       "      <td>100001</td>\n",
       "      <td>0.0</td>\n",
       "    </tr>\n",
       "    <tr>\n",
       "      <th>4</th>\n",
       "      <td>100003</td>\n",
       "      <td>0.0</td>\n",
       "    </tr>\n",
       "  </tbody>\n",
       "</table>\n",
       "</div>"
      ],
      "text/plain": [
       "  physicalid  collision_rate\n",
       "0         -1             0.0\n",
       "1      10000             0.0\n",
       "2     100000             0.0\n",
       "3     100001             0.0\n",
       "4     100003             0.0"
      ]
     },
     "execution_count": 7,
     "metadata": {},
     "output_type": "execute_result"
    }
   ],
   "source": [
    "collision_rates.head()"
   ]
  },
  {
   "cell_type": "code",
   "execution_count": 8,
   "metadata": {},
   "outputs": [],
   "source": [
    "trees = loader.load_data(\"trees\")"
   ]
  },
  {
   "cell_type": "code",
   "execution_count": 9,
   "metadata": {},
   "outputs": [],
   "source": [
    "trees_gdf = GeometryFormatter(trees).from_geometry_column(\"the_geom\")"
   ]
  },
  {
   "cell_type": "code",
   "execution_count": 10,
   "metadata": {},
   "outputs": [
    {
     "data": {
      "text/html": [
       "<div>\n",
       "<style scoped>\n",
       "    .dataframe tbody tr th:only-of-type {\n",
       "        vertical-align: middle;\n",
       "    }\n",
       "\n",
       "    .dataframe tbody tr th {\n",
       "        vertical-align: top;\n",
       "    }\n",
       "\n",
       "    .dataframe thead th {\n",
       "        text-align: right;\n",
       "    }\n",
       "</style>\n",
       "<table border=\"1\" class=\"dataframe\">\n",
       "  <thead>\n",
       "    <tr style=\"text-align: right;\">\n",
       "      <th></th>\n",
       "      <th>created_at</th>\n",
       "      <th>tree_id</th>\n",
       "      <th>block_id</th>\n",
       "      <th>geometry</th>\n",
       "      <th>tree_dbh</th>\n",
       "      <th>stump_diam</th>\n",
       "      <th>curb_loc</th>\n",
       "      <th>status</th>\n",
       "      <th>health</th>\n",
       "      <th>spc_latin</th>\n",
       "      <th>...</th>\n",
       "      <th>st_assem</th>\n",
       "      <th>st_senate</th>\n",
       "      <th>nta</th>\n",
       "      <th>nta_name</th>\n",
       "      <th>boro_ct</th>\n",
       "      <th>state</th>\n",
       "      <th>latitude</th>\n",
       "      <th>longitude</th>\n",
       "      <th>x_sp</th>\n",
       "      <th>y_sp</th>\n",
       "    </tr>\n",
       "  </thead>\n",
       "  <tbody>\n",
       "    <tr>\n",
       "      <th>0</th>\n",
       "      <td>08/27/2015</td>\n",
       "      <td>180683</td>\n",
       "      <td>348711</td>\n",
       "      <td>POINT (1027431.148 202756.769)</td>\n",
       "      <td>3</td>\n",
       "      <td>0</td>\n",
       "      <td>OnCurb</td>\n",
       "      <td>Alive</td>\n",
       "      <td>Fair</td>\n",
       "      <td>Acer rubrum</td>\n",
       "      <td>...</td>\n",
       "      <td>28</td>\n",
       "      <td>16</td>\n",
       "      <td>QN17</td>\n",
       "      <td>Forest Hills</td>\n",
       "      <td>4073900</td>\n",
       "      <td>New York</td>\n",
       "      <td>40.72309177</td>\n",
       "      <td>-73.84421522</td>\n",
       "      <td>1027431.14821</td>\n",
       "      <td>202756.768749</td>\n",
       "    </tr>\n",
       "    <tr>\n",
       "      <th>1</th>\n",
       "      <td>09/03/2015</td>\n",
       "      <td>200540</td>\n",
       "      <td>315986</td>\n",
       "      <td>POINT (1034455.701 228644.837)</td>\n",
       "      <td>21</td>\n",
       "      <td>0</td>\n",
       "      <td>OnCurb</td>\n",
       "      <td>Alive</td>\n",
       "      <td>Fair</td>\n",
       "      <td>Quercus palustris</td>\n",
       "      <td>...</td>\n",
       "      <td>27</td>\n",
       "      <td>11</td>\n",
       "      <td>QN49</td>\n",
       "      <td>Whitestone</td>\n",
       "      <td>4097300</td>\n",
       "      <td>New York</td>\n",
       "      <td>40.79411067</td>\n",
       "      <td>-73.81867946</td>\n",
       "      <td>1034455.70109</td>\n",
       "      <td>228644.837379</td>\n",
       "    </tr>\n",
       "    <tr>\n",
       "      <th>2</th>\n",
       "      <td>09/05/2015</td>\n",
       "      <td>204026</td>\n",
       "      <td>218365</td>\n",
       "      <td>POINT (1001822.831 200716.891)</td>\n",
       "      <td>3</td>\n",
       "      <td>0</td>\n",
       "      <td>OnCurb</td>\n",
       "      <td>Alive</td>\n",
       "      <td>Good</td>\n",
       "      <td>Gleditsia triacanthos var. inermis</td>\n",
       "      <td>...</td>\n",
       "      <td>50</td>\n",
       "      <td>18</td>\n",
       "      <td>BK90</td>\n",
       "      <td>East Williamsburg</td>\n",
       "      <td>3044900</td>\n",
       "      <td>New York</td>\n",
       "      <td>40.71758074</td>\n",
       "      <td>-73.9366077</td>\n",
       "      <td>1001822.83131</td>\n",
       "      <td>200716.891267</td>\n",
       "    </tr>\n",
       "    <tr>\n",
       "      <th>3</th>\n",
       "      <td>09/05/2015</td>\n",
       "      <td>204337</td>\n",
       "      <td>217969</td>\n",
       "      <td>POINT (1002420.358 199244.253)</td>\n",
       "      <td>10</td>\n",
       "      <td>0</td>\n",
       "      <td>OnCurb</td>\n",
       "      <td>Alive</td>\n",
       "      <td>Good</td>\n",
       "      <td>Gleditsia triacanthos var. inermis</td>\n",
       "      <td>...</td>\n",
       "      <td>53</td>\n",
       "      <td>18</td>\n",
       "      <td>BK90</td>\n",
       "      <td>East Williamsburg</td>\n",
       "      <td>3044900</td>\n",
       "      <td>New York</td>\n",
       "      <td>40.71353749</td>\n",
       "      <td>-73.93445616</td>\n",
       "      <td>1002420.35833</td>\n",
       "      <td>199244.253136</td>\n",
       "    </tr>\n",
       "    <tr>\n",
       "      <th>4</th>\n",
       "      <td>08/30/2015</td>\n",
       "      <td>189565</td>\n",
       "      <td>223043</td>\n",
       "      <td>POINT (990913.775 182202.426)</td>\n",
       "      <td>21</td>\n",
       "      <td>0</td>\n",
       "      <td>OnCurb</td>\n",
       "      <td>Alive</td>\n",
       "      <td>Good</td>\n",
       "      <td>Tilia americana</td>\n",
       "      <td>...</td>\n",
       "      <td>44</td>\n",
       "      <td>21</td>\n",
       "      <td>BK37</td>\n",
       "      <td>Park Slope-Gowanus</td>\n",
       "      <td>3016500</td>\n",
       "      <td>New York</td>\n",
       "      <td>40.66677776</td>\n",
       "      <td>-73.97597938</td>\n",
       "      <td>990913.775046</td>\n",
       "      <td>182202.425999</td>\n",
       "    </tr>\n",
       "  </tbody>\n",
       "</table>\n",
       "<p>5 rows × 42 columns</p>\n",
       "</div>"
      ],
      "text/plain": [
       "   created_at tree_id block_id                        geometry tree_dbh  \\\n",
       "0  08/27/2015  180683   348711  POINT (1027431.148 202756.769)        3   \n",
       "1  09/03/2015  200540   315986  POINT (1034455.701 228644.837)       21   \n",
       "2  09/05/2015  204026   218365  POINT (1001822.831 200716.891)        3   \n",
       "3  09/05/2015  204337   217969  POINT (1002420.358 199244.253)       10   \n",
       "4  08/30/2015  189565   223043   POINT (990913.775 182202.426)       21   \n",
       "\n",
       "  stump_diam curb_loc status health                           spc_latin  ...  \\\n",
       "0          0   OnCurb  Alive   Fair                         Acer rubrum  ...   \n",
       "1          0   OnCurb  Alive   Fair                   Quercus palustris  ...   \n",
       "2          0   OnCurb  Alive   Good  Gleditsia triacanthos var. inermis  ...   \n",
       "3          0   OnCurb  Alive   Good  Gleditsia triacanthos var. inermis  ...   \n",
       "4          0   OnCurb  Alive   Good                     Tilia americana  ...   \n",
       "\n",
       "  st_assem st_senate   nta            nta_name  boro_ct     state  \\\n",
       "0       28        16  QN17        Forest Hills  4073900  New York   \n",
       "1       27        11  QN49          Whitestone  4097300  New York   \n",
       "2       50        18  BK90   East Williamsburg  3044900  New York   \n",
       "3       53        18  BK90   East Williamsburg  3044900  New York   \n",
       "4       44        21  BK37  Park Slope-Gowanus  3016500  New York   \n",
       "\n",
       "      latitude     longitude           x_sp           y_sp  \n",
       "0  40.72309177  -73.84421522  1027431.14821  202756.768749  \n",
       "1  40.79411067  -73.81867946  1034455.70109  228644.837379  \n",
       "2  40.71758074   -73.9366077  1001822.83131  200716.891267  \n",
       "3  40.71353749  -73.93445616  1002420.35833  199244.253136  \n",
       "4  40.66677776  -73.97597938  990913.775046  182202.425999  \n",
       "\n",
       "[5 rows x 42 columns]"
      ]
     },
     "execution_count": 10,
     "metadata": {},
     "output_type": "execute_result"
    }
   ],
   "source": [
    "trees_gdf.head()"
   ]
  },
  {
   "cell_type": "code",
   "execution_count": 11,
   "metadata": {},
   "outputs": [],
   "source": [
    "trees_per_road = RoadFeaturesCalculator(\n",
    "    features_df=trees_gdf, streets_df=streets_gdf\n",
    ").calculate_road_features(\n",
    "    id_column=\"tree_id\", feature_name=\"number_of_trees\", buffer=40\n",
    ")"
   ]
  },
  {
   "cell_type": "code",
   "execution_count": 12,
   "metadata": {},
   "outputs": [
    {
     "data": {
      "text/plain": [
       "number_of_trees\n",
       "0.0    121617\n",
       "1.0        92\n",
       "2.0         6\n",
       "4.0         2\n",
       "3.0         1\n",
       "Name: count, dtype: int64"
      ]
     },
     "execution_count": 12,
     "metadata": {},
     "output_type": "execute_result"
    }
   ],
   "source": [
    "trees_per_road.number_of_trees.value_counts()"
   ]
  }
 ],
 "metadata": {
  "kernelspec": {
   "display_name": "erdos_sp_2024",
   "language": "python",
   "name": "python3"
  },
  "language_info": {
   "codemirror_mode": {
    "name": "ipython",
    "version": 3
   },
   "file_extension": ".py",
   "mimetype": "text/x-python",
   "name": "python",
   "nbconvert_exporter": "python",
   "pygments_lexer": "ipython3",
   "version": "3.11.7"
  }
 },
 "nbformat": 4,
 "nbformat_minor": 2
}

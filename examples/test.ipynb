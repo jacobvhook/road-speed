{
 "cells": [
  {
   "cell_type": "markdown",
   "metadata": {},
   "source": [
    "# Model performance"
   ]
  },
  {
   "cell_type": "markdown",
   "metadata": {},
   "source": [
    "In this notebook we evaluate our models' performances against the data in the test set. We find that the K-Nearest Neighbors model outperforms all the other models in the test set. We include a bar chart containing each model's performance when assessed by its test mean squared error."
   ]
  },
  {
   "cell_type": "code",
   "execution_count": 11,
   "metadata": {},
   "outputs": [],
   "source": [
    "import sys\n",
    "\n",
    "sys.path.insert(0, \"../src\")"
   ]
  },
  {
   "cell_type": "code",
   "execution_count": 12,
   "metadata": {},
   "outputs": [],
   "source": [
    "import matplotlib.pyplot as plt\n",
    "\n",
    "plt.style.use(\"customstyle.mplstyle\")"
   ]
  },
  {
   "cell_type": "code",
   "execution_count": 13,
   "metadata": {},
   "outputs": [],
   "source": [
    "import pandas as pd\n",
    "from pathlib import Path\n",
    "\n",
    "DATA_FOLDER = Path(\"../data\")\n",
    "MODELS_FOLDER = Path(\"../models/regression\")\n",
    "\n",
    "collisions = pd.read_pickle(DATA_FOLDER / \"final_dataset_test.pkl\")\n",
    "collisions = collisions[collisions[\"has_volume_meas\"]]"
   ]
  },
  {
   "cell_type": "code",
   "execution_count": 14,
   "metadata": {},
   "outputs": [],
   "source": [
    "X_test = collisions.drop(\n",
    "    columns=[\n",
    "        \"physicalid\",\n",
    "        \"geometry\",\n",
    "        \"has_parking_meters\",\n",
    "        \"collision_rate\",\n",
    "        \"collision_rate_per_length\",\n",
    "        \"has_volume_meas\",\n",
    "    ]\n",
    ")\n",
    "\n",
    "y_test = collisions[\"collision_rate_per_length\"]"
   ]
  },
  {
   "cell_type": "code",
   "execution_count": 15,
   "metadata": {},
   "outputs": [],
   "source": [
    "from sklearn.metrics import mean_squared_error\n",
    "from model_helpers.feature_transformers import LogarithmTransfomer, InverseTransformer\n",
    "from model_helpers.model_loader import ModelLoader"
   ]
  },
  {
   "cell_type": "code",
   "execution_count": 16,
   "metadata": {},
   "outputs": [],
   "source": [
    "baseline = ModelLoader().load(\"baseline\")\n",
    "linear_reg = ModelLoader().load(\"linear\")\n",
    "knn = ModelLoader().load(\"knn\")\n",
    "forest_reg = ModelLoader().load(\"random_forest\")\n",
    "xgboost = ModelLoader().load(\"xgboost\")"
   ]
  },
  {
   "cell_type": "code",
   "execution_count": 17,
   "metadata": {},
   "outputs": [],
   "source": [
    "def calculate_model_score(model, X, y):\n",
    "    y_pred = model.predict(X)\n",
    "    return mean_squared_error(y, y_pred)"
   ]
  },
  {
   "cell_type": "code",
   "execution_count": 18,
   "metadata": {},
   "outputs": [],
   "source": [
    "models = [baseline, linear_reg, knn, forest_reg, xgboost]\n",
    "model_names = [\"Baseline\", \"Linear\", \"K-NN\", \"Random forest\", \"XGBoost\"]\n",
    "scores = [calculate_model_score(model, X_test, y_test) for model in models]"
   ]
  },
  {
   "cell_type": "code",
   "execution_count": 19,
   "metadata": {},
   "outputs": [
    {
     "data": {
      "text/plain": [
       "Text(0.5, 0, 'Regression model')"
      ]
     },
     "execution_count": 19,
     "metadata": {},
     "output_type": "execute_result"
    },
    {
     "data": {
      "image/png": "[encoded data removed]",
      "text/plain": [
       "<Figure size 640x480 with 1 Axes>"
      ]
     },
     "metadata": {},
     "output_type": "display_data"
    }
   ],
   "source": [
    "barlist = plt.bar(model_names, scores, edgecolor=\"grey\")\n",
    "barlist[2].set_color(\"green\")\n",
    "plt.title(\"Model performance on test set\")\n",
    "plt.ylabel(\"Test mean squared error\")\n",
    "plt.xlabel(\"Regression model\")"
   ]
  },
  {
   "cell_type": "code",
   "execution_count": 20,
   "metadata": {},
   "outputs": [
    {
     "data": {
      "text/html": [
       "<div>\n",
       "<style scoped>\n",
       "    .dataframe tbody tr th:only-of-type {\n",
       "        vertical-align: middle;\n",
       "    }\n",
       "\n",
       "    .dataframe tbody tr th {\n",
       "        vertical-align: top;\n",
       "    }\n",
       "\n",
       "    .dataframe thead th {\n",
       "        text-align: right;\n",
       "    }\n",
       "</style>\n",
       "<table border=\"1\" class=\"dataframe\">\n",
       "  <thead>\n",
       "    <tr style=\"text-align: right;\">\n",
       "      <th></th>\n",
       "      <th>mse</th>\n",
       "    </tr>\n",
       "  </thead>\n",
       "  <tbody>\n",
       "    <tr>\n",
       "      <th>K-NN</th>\n",
       "      <td>3.484035e-07</td>\n",
       "    </tr>\n",
       "    <tr>\n",
       "      <th>XGBoost</th>\n",
       "      <td>3.555349e-07</td>\n",
       "    </tr>\n",
       "    <tr>\n",
       "      <th>Linear</th>\n",
       "      <td>3.829722e-07</td>\n",
       "    </tr>\n",
       "    <tr>\n",
       "      <th>Random forest</th>\n",
       "      <td>3.865000e-07</td>\n",
       "    </tr>\n",
       "    <tr>\n",
       "      <th>Baseline</th>\n",
       "      <td>4.850881e-07</td>\n",
       "    </tr>\n",
       "  </tbody>\n",
       "</table>\n",
       "</div>"
      ],
      "text/plain": [
       "                        mse\n",
       "K-NN           3.484035e-07\n",
       "XGBoost        3.555349e-07\n",
       "Linear         3.829722e-07\n",
       "Random forest  3.865000e-07\n",
       "Baseline       4.850881e-07"
      ]
     },
     "execution_count": 20,
     "metadata": {},
     "output_type": "execute_result"
    }
   ],
   "source": [
    "pd.DataFrame(scores, index=model_names, columns=[\"mse\"]).sort_values(by=\"mse\")"
   ]
  }
 ],
 "metadata": {
  "kernelspec": {
   "display_name": "erdos_sp_2024",
   "language": "python",
   "name": "python3"
  },
  "language_info": {
   "codemirror_mode": {
    "name": "ipython",
    "version": 3
   },
   "file_extension": ".py",
   "mimetype": "text/x-python",
   "name": "python",
   "nbconvert_exporter": "python",
   "pygments_lexer": "ipython3",
   "version": "3.11.7"
  }
 },
 "nbformat": 4,
 "nbformat_minor": 2
}

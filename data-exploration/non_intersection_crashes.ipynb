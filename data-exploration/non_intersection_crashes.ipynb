{
 "cells": [
  {
   "cell_type": "code",
   "execution_count": 1,
   "metadata": {},
   "outputs": [],
   "source": [
    "from dotenv import load_dotenv\n",
    "import os\n",
    "\n",
    "load_dotenv()\n",
    "nyc_app_token = os.getenv(\"NYC_OPENDATA_APPTOKEN\")"
   ]
  },
  {
   "cell_type": "code",
   "execution_count": 2,
   "metadata": {},
   "outputs": [],
   "source": [
    "from data_service import CrashDataService\n",
    "\n",
    "crash_service = CrashDataService(nyc_app_token=nyc_app_token, from_year=2021)"
   ]
  },
  {
   "cell_type": "code",
   "execution_count": 3,
   "metadata": {},
   "outputs": [],
   "source": [
    "non_intersection_crashes_recent = crash_service.get_non_intersection_crashes(\n",
    "    buffer=32, \n",
    "    join_speed_humps=True,\n",
    "    join_speed_limits=True,\n",
    "    destination_file_name=\"non_intersection_crashes_2021.csv\")"
   ]
  },
  {
   "cell_type": "code",
   "execution_count": 4,
   "metadata": {},
   "outputs": [
    {
     "name": "stdout",
     "output_type": "stream",
     "text": [
      "<class 'geopandas.geodataframe.GeoDataFrame'>\n",
      "RangeIndex: 78867 entries, 0 to 78866\n",
      "Data columns (total 7 columns):\n",
      " #   Column        Non-Null Count  Dtype         \n",
      "---  ------        --------------  -----         \n",
      " 0   collision_id  78867 non-null  object        \n",
      " 1   geometry      78867 non-null  geometry      \n",
      " 2   datetime      78867 non-null  datetime64[ns]\n",
      " 3   physicalid    78867 non-null  object        \n",
      " 4   shape_leng    78867 non-null  object        \n",
      " 5   humps         78867 non-null  float64       \n",
      " 6   postvz_sl     78529 non-null  float64       \n",
      "dtypes: datetime64[ns](1), float64(2), geometry(1), object(3)\n",
      "memory usage: 4.2+ MB\n"
     ]
    }
   ],
   "source": [
    "non_intersection_crashes_recent.info()"
   ]
  },
  {
   "cell_type": "code",
   "execution_count": 5,
   "metadata": {},
   "outputs": [
    {
     "data": {
      "text/html": [
       "<div>\n",
       "<style scoped>\n",
       "    .dataframe tbody tr th:only-of-type {\n",
       "        vertical-align: middle;\n",
       "    }\n",
       "\n",
       "    .dataframe tbody tr th {\n",
       "        vertical-align: top;\n",
       "    }\n",
       "\n",
       "    .dataframe thead th {\n",
       "        text-align: right;\n",
       "    }\n",
       "</style>\n",
       "<table border=\"1\" class=\"dataframe\">\n",
       "  <thead>\n",
       "    <tr style=\"text-align: right;\">\n",
       "      <th></th>\n",
       "      <th>collision_id</th>\n",
       "      <th>datetime</th>\n",
       "      <th>geometry</th>\n",
       "    </tr>\n",
       "  </thead>\n",
       "  <tbody>\n",
       "    <tr>\n",
       "      <th>3</th>\n",
       "      <td>4456314</td>\n",
       "      <td>2021-09-11 09:35:00</td>\n",
       "      <td>POINT (1021285.187 182384.298)</td>\n",
       "    </tr>\n",
       "    <tr>\n",
       "      <th>4</th>\n",
       "      <td>4486609</td>\n",
       "      <td>2021-12-14 08:13:00</td>\n",
       "      <td>POINT (1007194.075 188233.330)</td>\n",
       "    </tr>\n",
       "    <tr>\n",
       "      <th>6</th>\n",
       "      <td>4486555</td>\n",
       "      <td>2021-12-14 17:05:00</td>\n",
       "      <td>POINT (996219.950 197653.931)</td>\n",
       "    </tr>\n",
       "    <tr>\n",
       "      <th>7</th>\n",
       "      <td>4486660</td>\n",
       "      <td>2021-12-14 08:17:00</td>\n",
       "      <td>POINT (1030859.472 255616.610)</td>\n",
       "    </tr>\n",
       "    <tr>\n",
       "      <th>8</th>\n",
       "      <td>4487074</td>\n",
       "      <td>2021-12-14 21:10:00</td>\n",
       "      <td>POINT (1012794.294 184018.878)</td>\n",
       "    </tr>\n",
       "  </tbody>\n",
       "</table>\n",
       "</div>"
      ],
      "text/plain": [
       "  collision_id            datetime                        geometry\n",
       "3      4456314 2021-09-11 09:35:00  POINT (1021285.187 182384.298)\n",
       "4      4486609 2021-12-14 08:13:00  POINT (1007194.075 188233.330)\n",
       "6      4486555 2021-12-14 17:05:00   POINT (996219.950 197653.931)\n",
       "7      4486660 2021-12-14 08:17:00  POINT (1030859.472 255616.610)\n",
       "8      4487074 2021-12-14 21:10:00  POINT (1012794.294 184018.878)"
      ]
     },
     "execution_count": 5,
     "metadata": {},
     "output_type": "execute_result"
    }
   ],
   "source": [
    "crash_service.crashes.head()"
   ]
  }
 ],
 "metadata": {
  "kernelspec": {
   "display_name": "erdos_sp_2024",
   "language": "python",
   "name": "python3"
  },
  "language_info": {
   "codemirror_mode": {
    "name": "ipython",
    "version": 3
   },
   "file_extension": ".py",
   "mimetype": "text/x-python",
   "name": "python",
   "nbconvert_exporter": "python",
   "pygments_lexer": "ipython3",
   "version": "3.11.7"
  }
 },
 "nbformat": 4,
 "nbformat_minor": 2
}

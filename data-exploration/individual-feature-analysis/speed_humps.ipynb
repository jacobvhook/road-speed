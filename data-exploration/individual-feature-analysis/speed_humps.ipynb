{
 "cells": [
  {
   "cell_type": "markdown",
   "metadata": {},
   "source": [
    "# The effect of speed humps on collision rates"
   ]
  },
  {
   "cell_type": "markdown",
   "metadata": {},
   "source": [
    "The objective of this notebook is to visualize and measure the effect speed humps have on collision rates in New York City. When looking at collision data from NYC in a previous notebook, I noticed that roads with speed humps did not necesasrily have a lower collision rate than those without them. This may presumably be explained by the observation that most roads that do not have speed humps are safer roads in the first place: speed humps are usually installed when there is a reason to install them. It would be obviously wrong to conclude that speed humps have no effect on road safety, but a different strategy is needed to measure their impact.\n",
    "\n",
    "In this notebook, I will focus on roads which currently have speed humps and will compare their weekly collision rates before and after the speed humps were installed. This approach does yield the expected result: speed humps do reduce collision rates. Moreover, it appears that the relationship between the weekly collision rates before and after speed humps were installed is roughly linear."
   ]
  },
  {
   "cell_type": "markdown",
   "metadata": {},
   "source": [
    "### Data preparation"
   ]
  },
  {
   "cell_type": "markdown",
   "metadata": {},
   "source": [
    "This section prepares the data that will be needed and saves it in the `data` folder. Here's what I will do:\n",
    "\n",
    "1. I will assign each crash in NYC to a road.\n",
    "1. I will assign each road to a road section the speed humps dataset. Unlike the road sections in the `centerline` dataset, the speed humps dataset road sections do not terminate at intersections. In most cases, they correspond to several blocks. In this assignment process, I will only keep roads that find a match in the speed humps dataset, i.e. roads that have speed humps.\n",
    "1. Since we should ensure that we have enough data to calculate a weekly collision rate, I will ignore roads whose speed humps were installed within one year from today or within one year from the date of the first crash reported in the collisions dataset.\n",
    "1. I will create a seperate dataset only with collisions involving pedestrians.\n",
    "1. After aggreagting the results to count the number and rate of collisions per street, we need to make sure that every street where a collision occurred appears twice: once before and once after the installation of the speed humps."
   ]
  },
  {
   "cell_type": "code",
   "execution_count": 1,
   "metadata": {},
   "outputs": [],
   "source": [
    "import sys\n",
    "\n",
    "sys.path.insert(0, \"../\")"
   ]
  },
  {
   "cell_type": "code",
   "execution_count": 2,
   "metadata": {},
   "outputs": [],
   "source": [
    "from data_downloader import OpenDataDownloader"
   ]
  },
  {
   "cell_type": "code",
   "execution_count": 3,
   "metadata": {},
   "outputs": [],
   "source": [
    "from dotenv import load_dotenv\n",
    "import os\n",
    "\n",
    "load_dotenv()\n",
    "\n",
    "nyc_app_token = os.getenv(\"NYC_OPENDATA_APPTOKEN\")"
   ]
  },
  {
   "cell_type": "code",
   "execution_count": 4,
   "metadata": {},
   "outputs": [],
   "source": [
    "data_loader = OpenDataDownloader(nyc_app_token)"
   ]
  },
  {
   "cell_type": "code",
   "execution_count": 5,
   "metadata": {},
   "outputs": [],
   "source": [
    "import data_sources\n",
    "import geo\n",
    "\n",
    "humps = data_loader.load_geo_dataframe(\n",
    "    data_sources.SPEEDHUMPS_ENDPOINT,\n",
    "    geometry_column=\"the_geom\",\n",
    "    to_crs=geo.NYC_EPSG,\n",
    "    limit=3000000,\n",
    ")\n",
    "crashes = data_loader.load_data(data_sources.CRASHES_ENDPOINT, limit=3000000)\n",
    "centerline = data_loader.load_geo_dataframe(\n",
    "    data_sources.CENTERLINE_ENDPOINT,\n",
    "    geometry_column=\"the_geom\",\n",
    "    to_crs=geo.NYC_EPSG,\n",
    "    limit=3000000,\n",
    ")"
   ]
  },
  {
   "cell_type": "code",
   "execution_count": 6,
   "metadata": {},
   "outputs": [
    {
     "name": "stdout",
     "output_type": "stream",
     "text": [
      "<class 'pandas.core.frame.DataFrame'>\n",
      "RangeIndex: 2077598 entries, 0 to 2077597\n",
      "Data columns (total 29 columns):\n",
      " #   Column                         Dtype \n",
      "---  ------                         ----- \n",
      " 0   crash_date                     object\n",
      " 1   crash_time                     object\n",
      " 2   on_street_name                 object\n",
      " 3   off_street_name                object\n",
      " 4   number_of_persons_injured      object\n",
      " 5   number_of_persons_killed       object\n",
      " 6   number_of_pedestrians_injured  object\n",
      " 7   number_of_pedestrians_killed   object\n",
      " 8   number_of_cyclist_injured      object\n",
      " 9   number_of_cyclist_killed       object\n",
      " 10  number_of_motorist_injured     object\n",
      " 11  number_of_motorist_killed      object\n",
      " 12  contributing_factor_vehicle_1  object\n",
      " 13  contributing_factor_vehicle_2  object\n",
      " 14  collision_id                   object\n",
      " 15  vehicle_type_code1             object\n",
      " 16  vehicle_type_code2             object\n",
      " 17  borough                        object\n",
      " 18  zip_code                       object\n",
      " 19  latitude                       object\n",
      " 20  longitude                      object\n",
      " 21  location                       object\n",
      " 22  cross_street_name              object\n",
      " 23  contributing_factor_vehicle_3  object\n",
      " 24  vehicle_type_code_3            object\n",
      " 25  contributing_factor_vehicle_4  object\n",
      " 26  vehicle_type_code_4            object\n",
      " 27  contributing_factor_vehicle_5  object\n",
      " 28  vehicle_type_code_5            object\n",
      "dtypes: object(29)\n",
      "memory usage: 459.7+ MB\n"
     ]
    }
   ],
   "source": [
    "crashes.info()"
   ]
  },
  {
   "cell_type": "code",
   "execution_count": 7,
   "metadata": {},
   "outputs": [],
   "source": [
    "crashes_short = crashes[\n",
    "    [\n",
    "        \"collision_id\",\n",
    "        \"crash_date\",\n",
    "        \"number_of_pedestrians_injured\",\n",
    "        \"number_of_pedestrians_killed\",\n",
    "        \"longitude\",\n",
    "        \"latitude\",\n",
    "    ]\n",
    "].copy()"
   ]
  },
  {
   "cell_type": "code",
   "execution_count": 8,
   "metadata": {},
   "outputs": [],
   "source": [
    "import numpy as np\n",
    "\n",
    "crashes_short[\"crash_date\"] = crashes_short[\"crash_date\"].apply(np.datetime64)"
   ]
  },
  {
   "cell_type": "code",
   "execution_count": 9,
   "metadata": {},
   "outputs": [],
   "source": [
    "crashes_short.dropna(subset=[\"longitude\", \"latitude\"], inplace=True)"
   ]
  },
  {
   "cell_type": "code",
   "execution_count": 10,
   "metadata": {},
   "outputs": [],
   "source": [
    "import geopandas as gpd\n",
    "\n",
    "crashes_short = gpd.GeoDataFrame(\n",
    "    crashes_short,\n",
    "    geometry=gpd.points_from_xy(crashes_short[\"longitude\"], crashes_short[\"latitude\"]),\n",
    "    crs=geo.STD_EPSG,\n",
    ").to_crs(geo.NYC_EPSG)"
   ]
  },
  {
   "cell_type": "code",
   "execution_count": 11,
   "metadata": {},
   "outputs": [
    {
     "data": {
      "text/html": [
       "<div>\n",
       "<style scoped>\n",
       "    .dataframe tbody tr th:only-of-type {\n",
       "        vertical-align: middle;\n",
       "    }\n",
       "\n",
       "    .dataframe tbody tr th {\n",
       "        vertical-align: top;\n",
       "    }\n",
       "\n",
       "    .dataframe thead th {\n",
       "        text-align: right;\n",
       "    }\n",
       "</style>\n",
       "<table border=\"1\" class=\"dataframe\">\n",
       "  <thead>\n",
       "    <tr style=\"text-align: right;\">\n",
       "      <th></th>\n",
       "      <th>collision_id</th>\n",
       "      <th>crash_date</th>\n",
       "      <th>number_of_pedestrians_injured</th>\n",
       "      <th>number_of_pedestrians_killed</th>\n",
       "      <th>longitude</th>\n",
       "      <th>latitude</th>\n",
       "      <th>geometry</th>\n",
       "    </tr>\n",
       "  </thead>\n",
       "  <tbody>\n",
       "    <tr>\n",
       "      <th>3</th>\n",
       "      <td>4456314</td>\n",
       "      <td>2021-09-11</td>\n",
       "      <td>0</td>\n",
       "      <td>0</td>\n",
       "      <td>-73.8665</td>\n",
       "      <td>40.667202</td>\n",
       "      <td>POINT (1021285.187 182384.298)</td>\n",
       "    </tr>\n",
       "    <tr>\n",
       "      <th>4</th>\n",
       "      <td>4486609</td>\n",
       "      <td>2021-12-14</td>\n",
       "      <td>0</td>\n",
       "      <td>0</td>\n",
       "      <td>-73.917274</td>\n",
       "      <td>40.683304</td>\n",
       "      <td>POINT (1007194.075 188233.330)</td>\n",
       "    </tr>\n",
       "    <tr>\n",
       "      <th>6</th>\n",
       "      <td>4486555</td>\n",
       "      <td>2021-12-14</td>\n",
       "      <td>0</td>\n",
       "      <td>0</td>\n",
       "      <td>-73.956825</td>\n",
       "      <td>40.709183</td>\n",
       "      <td>POINT (996219.950 197653.931)</td>\n",
       "    </tr>\n",
       "    <tr>\n",
       "      <th>7</th>\n",
       "      <td>4486660</td>\n",
       "      <td>2021-12-14</td>\n",
       "      <td>0</td>\n",
       "      <td>0</td>\n",
       "      <td>-73.83148</td>\n",
       "      <td>40.86816</td>\n",
       "      <td>POINT (1030859.472 255616.610)</td>\n",
       "    </tr>\n",
       "    <tr>\n",
       "      <th>8</th>\n",
       "      <td>4487074</td>\n",
       "      <td>2021-12-14</td>\n",
       "      <td>0</td>\n",
       "      <td>0</td>\n",
       "      <td>-73.8971</td>\n",
       "      <td>40.67172</td>\n",
       "      <td>POINT (1012794.294 184018.878)</td>\n",
       "    </tr>\n",
       "  </tbody>\n",
       "</table>\n",
       "</div>"
      ],
      "text/plain": [
       "  collision_id crash_date number_of_pedestrians_injured  \\\n",
       "3      4456314 2021-09-11                             0   \n",
       "4      4486609 2021-12-14                             0   \n",
       "6      4486555 2021-12-14                             0   \n",
       "7      4486660 2021-12-14                             0   \n",
       "8      4487074 2021-12-14                             0   \n",
       "\n",
       "  number_of_pedestrians_killed   longitude   latitude  \\\n",
       "3                            0    -73.8665  40.667202   \n",
       "4                            0  -73.917274  40.683304   \n",
       "6                            0  -73.956825  40.709183   \n",
       "7                            0   -73.83148   40.86816   \n",
       "8                            0    -73.8971   40.67172   \n",
       "\n",
       "                         geometry  \n",
       "3  POINT (1021285.187 182384.298)  \n",
       "4  POINT (1007194.075 188233.330)  \n",
       "6   POINT (996219.950 197653.931)  \n",
       "7  POINT (1030859.472 255616.610)  \n",
       "8  POINT (1012794.294 184018.878)  "
      ]
     },
     "execution_count": 11,
     "metadata": {},
     "output_type": "execute_result"
    }
   ],
   "source": [
    "crashes_short.head()"
   ]
  },
  {
   "cell_type": "code",
   "execution_count": 12,
   "metadata": {},
   "outputs": [],
   "source": [
    "centerline_short = centerline[[\"physicalid\", \"shape_leng\", \"geometry\"]].copy()"
   ]
  },
  {
   "cell_type": "code",
   "execution_count": 13,
   "metadata": {},
   "outputs": [],
   "source": [
    "centerline_short[\"buffered\"] = centerline_short[\"geometry\"].buffer(25)\n",
    "centerline_short.rename(\n",
    "    columns={\n",
    "        \"buffered\": \"geometry\",\n",
    "        \"geometry\": \"road_geom\",\n",
    "        \"shape_leng\": \"road_leng\",\n",
    "    },\n",
    "    inplace=True,\n",
    ")"
   ]
  },
  {
   "cell_type": "code",
   "execution_count": 14,
   "metadata": {},
   "outputs": [],
   "source": [
    "crashes_road = crashes_short.sjoin(centerline_short, how=\"left\", predicate=\"within\")"
   ]
  },
  {
   "cell_type": "code",
   "execution_count": 15,
   "metadata": {},
   "outputs": [
    {
     "name": "stdout",
     "output_type": "stream",
     "text": [
      "<class 'geopandas.geodataframe.GeoDataFrame'>\n",
      "Index: 5814357 entries, 3 to 2077597\n",
      "Data columns (total 11 columns):\n",
      " #   Column                         Dtype         \n",
      "---  ------                         -----         \n",
      " 0   collision_id                   object        \n",
      " 1   crash_date                     datetime64[ns]\n",
      " 2   number_of_pedestrians_injured  object        \n",
      " 3   number_of_pedestrians_killed   object        \n",
      " 4   longitude                      object        \n",
      " 5   latitude                       object        \n",
      " 6   geometry                       geometry      \n",
      " 7   index_right                    float64       \n",
      " 8   physicalid                     object        \n",
      " 9   road_leng                      object        \n",
      " 10  road_geom                      geometry      \n",
      "dtypes: datetime64[ns](1), float64(1), geometry(2), object(7)\n",
      "memory usage: 532.3+ MB\n"
     ]
    }
   ],
   "source": [
    "crashes_road.info()"
   ]
  },
  {
   "cell_type": "code",
   "execution_count": 16,
   "metadata": {},
   "outputs": [],
   "source": [
    "crashes_road.rename(\n",
    "    columns={\"road_geom\": \"geometry\", \"geometry\": \"crash_location\"}, inplace=True\n",
    ")"
   ]
  },
  {
   "cell_type": "code",
   "execution_count": 17,
   "metadata": {},
   "outputs": [],
   "source": [
    "crashes_road = crashes_road[\n",
    "    [\n",
    "        \"crash_date\",\n",
    "        \"number_of_pedestrians_injured\",\n",
    "        \"number_of_pedestrians_killed\",\n",
    "        \"geometry\",\n",
    "        \"physicalid\",\n",
    "        \"road_leng\",\n",
    "        \"crash_location\",\n",
    "        \"collision_id\",\n",
    "    ]\n",
    "].copy()"
   ]
  },
  {
   "cell_type": "code",
   "execution_count": 18,
   "metadata": {},
   "outputs": [
    {
     "name": "stdout",
     "output_type": "stream",
     "text": [
      "<class 'geopandas.geodataframe.GeoDataFrame'>\n",
      "RangeIndex: 3763 entries, 0 to 3762\n",
      "Data columns (total 7 columns):\n",
      " #   Column      Non-Null Count  Dtype   \n",
      "---  ------      --------------  -----   \n",
      " 0   on_street   3763 non-null   object  \n",
      " 1   from_stree  3763 non-null   object  \n",
      " 2   to_street   3762 non-null   object  \n",
      " 3   humps       3763 non-null   object  \n",
      " 4   date_insta  3763 non-null   object  \n",
      " 5   shape_leng  3763 non-null   object  \n",
      " 6   geometry    3763 non-null   geometry\n",
      "dtypes: geometry(1), object(6)\n",
      "memory usage: 205.9+ KB\n"
     ]
    }
   ],
   "source": [
    "humps.info()"
   ]
  },
  {
   "cell_type": "code",
   "execution_count": 19,
   "metadata": {},
   "outputs": [],
   "source": [
    "humps[\"geometry\"] = humps[\"geometry\"].buffer(25)"
   ]
  },
  {
   "cell_type": "code",
   "execution_count": 20,
   "metadata": {},
   "outputs": [],
   "source": [
    "crashes_hump_roads = crashes_road.sjoin(humps, how=\"inner\", predicate=\"within\")"
   ]
  },
  {
   "cell_type": "code",
   "execution_count": 21,
   "metadata": {},
   "outputs": [
    {
     "name": "stdout",
     "output_type": "stream",
     "text": [
      "<class 'geopandas.geodataframe.GeoDataFrame'>\n",
      "Index: 327394 entries, 3 to 2077584\n",
      "Data columns (total 15 columns):\n",
      " #   Column                         Non-Null Count   Dtype         \n",
      "---  ------                         --------------   -----         \n",
      " 0   crash_date                     327394 non-null  datetime64[ns]\n",
      " 1   number_of_pedestrians_injured  327394 non-null  object        \n",
      " 2   number_of_pedestrians_killed   327394 non-null  object        \n",
      " 3   geometry                       327394 non-null  geometry      \n",
      " 4   physicalid                     327394 non-null  object        \n",
      " 5   road_leng                      327394 non-null  object        \n",
      " 6   crash_location                 327394 non-null  geometry      \n",
      " 7   collision_id                   327394 non-null  object        \n",
      " 8   index_right                    327394 non-null  int64         \n",
      " 9   on_street                      327394 non-null  object        \n",
      " 10  from_stree                     327394 non-null  object        \n",
      " 11  to_street                      327376 non-null  object        \n",
      " 12  humps                          327394 non-null  object        \n",
      " 13  date_insta                     327394 non-null  object        \n",
      " 14  shape_leng                     327394 non-null  object        \n",
      "dtypes: datetime64[ns](1), geometry(2), int64(1), object(11)\n",
      "memory usage: 40.0+ MB\n"
     ]
    }
   ],
   "source": [
    "crashes_hump_roads.info()"
   ]
  },
  {
   "cell_type": "code",
   "execution_count": 22,
   "metadata": {},
   "outputs": [],
   "source": [
    "crashes_hump_roads = crashes_hump_roads[\n",
    "    [\n",
    "        \"crash_date\",\n",
    "        \"number_of_pedestrians_injured\",\n",
    "        \"number_of_pedestrians_killed\",\n",
    "        \"geometry\",\n",
    "        \"physicalid\",\n",
    "        \"road_leng\",\n",
    "        \"humps\",\n",
    "        \"date_insta\",\n",
    "        \"shape_leng\",\n",
    "        \"collision_id\",\n",
    "    ]\n",
    "].copy()"
   ]
  },
  {
   "cell_type": "code",
   "execution_count": 23,
   "metadata": {},
   "outputs": [],
   "source": [
    "startdate = crashes_hump_roads[\"crash_date\"].min()"
   ]
  },
  {
   "cell_type": "code",
   "execution_count": 24,
   "metadata": {},
   "outputs": [
    {
     "data": {
      "text/plain": [
       "Timestamp('2012-07-01 00:00:00')"
      ]
     },
     "execution_count": 24,
     "metadata": {},
     "output_type": "execute_result"
    }
   ],
   "source": [
    "startdate"
   ]
  },
  {
   "cell_type": "code",
   "execution_count": 25,
   "metadata": {},
   "outputs": [],
   "source": [
    "crashes_hump_roads[\"date_insta\"] = crashes_hump_roads[\"date_insta\"].apply(np.datetime64)"
   ]
  },
  {
   "cell_type": "markdown",
   "metadata": {},
   "source": [
    "There are a few roads duplicated in the `centerline` dataset and their corresponding shapes have slightly different lengths. Here I want to have at most two rows per road (one for collisions before speed humps, and another for collisions after speed humps), so I chose to aggregate by taking the maximum of those lengths. A similar comment also applies to data regarding speed humps."
   ]
  },
  {
   "cell_type": "code",
   "execution_count": 26,
   "metadata": {},
   "outputs": [],
   "source": [
    "road_info = crashes_hump_roads.groupby(by=[\"physicalid\"], as_index=False).agg(\n",
    "    {\"humps\": \"max\", \"shape_leng\": \"max\", \"road_leng\": \"max\", \"date_insta\": \"max\"}\n",
    ")\n",
    "\n",
    "crashes_hump_roads = crashes_hump_roads.merge(\n",
    "    road_info, how=\"left\", on=\"physicalid\", suffixes=[\"_old\", \"\"]\n",
    ").drop(columns=[\"humps_old\", \"shape_leng_old\", \"date_insta_old\", \"road_leng_old\"])"
   ]
  },
  {
   "cell_type": "code",
   "execution_count": 27,
   "metadata": {},
   "outputs": [
    {
     "name": "stdout",
     "output_type": "stream",
     "text": [
      "<class 'geopandas.geodataframe.GeoDataFrame'>\n",
      "RangeIndex: 327394 entries, 0 to 327393\n",
      "Data columns (total 10 columns):\n",
      " #   Column                         Non-Null Count   Dtype         \n",
      "---  ------                         --------------   -----         \n",
      " 0   crash_date                     327394 non-null  datetime64[ns]\n",
      " 1   number_of_pedestrians_injured  327394 non-null  object        \n",
      " 2   number_of_pedestrians_killed   327394 non-null  object        \n",
      " 3   geometry                       327394 non-null  geometry      \n",
      " 4   physicalid                     327394 non-null  object        \n",
      " 5   collision_id                   327394 non-null  object        \n",
      " 6   humps                          327394 non-null  object        \n",
      " 7   shape_leng                     327394 non-null  object        \n",
      " 8   road_leng                      327394 non-null  object        \n",
      " 9   date_insta                     327394 non-null  datetime64[ns]\n",
      "dtypes: datetime64[ns](2), geometry(1), object(7)\n",
      "memory usage: 25.0+ MB\n"
     ]
    }
   ],
   "source": [
    "crashes_hump_roads.info()"
   ]
  },
  {
   "cell_type": "code",
   "execution_count": 28,
   "metadata": {},
   "outputs": [],
   "source": [
    "chr_2013 = crashes_hump_roads[\n",
    "    (crashes_hump_roads[\"date_insta\"] > startdate + np.timedelta64(365, \"D\"))\n",
    "    & (\n",
    "        crashes_hump_roads[\"date_insta\"]\n",
    "        < np.datetime64(\"today\") + np.timedelta64(-365, \"D\")\n",
    "    )\n",
    "].copy()"
   ]
  },
  {
   "cell_type": "code",
   "execution_count": 29,
   "metadata": {},
   "outputs": [
    {
     "name": "stdout",
     "output_type": "stream",
     "text": [
      "<class 'geopandas.geodataframe.GeoDataFrame'>\n",
      "Index: 176875 entries, 0 to 327390\n",
      "Data columns (total 10 columns):\n",
      " #   Column                         Non-Null Count   Dtype         \n",
      "---  ------                         --------------   -----         \n",
      " 0   crash_date                     176875 non-null  datetime64[ns]\n",
      " 1   number_of_pedestrians_injured  176875 non-null  object        \n",
      " 2   number_of_pedestrians_killed   176875 non-null  object        \n",
      " 3   geometry                       176875 non-null  geometry      \n",
      " 4   physicalid                     176875 non-null  object        \n",
      " 5   collision_id                   176875 non-null  object        \n",
      " 6   humps                          176875 non-null  object        \n",
      " 7   shape_leng                     176875 non-null  object        \n",
      " 8   road_leng                      176875 non-null  object        \n",
      " 9   date_insta                     176875 non-null  datetime64[ns]\n",
      "dtypes: datetime64[ns](2), geometry(1), object(7)\n",
      "memory usage: 14.8+ MB\n"
     ]
    }
   ],
   "source": [
    "chr_2013.info()"
   ]
  },
  {
   "cell_type": "code",
   "execution_count": 30,
   "metadata": {},
   "outputs": [],
   "source": [
    "chr_2013[\"number_of_pedestrians_injured\"] = (\n",
    "    chr_2013[\"number_of_pedestrians_injured\"].fillna(value=0).astype(int)\n",
    ")\n",
    "chr_2013[\"number_of_pedestrians_killed\"] = (\n",
    "    chr_2013[\"number_of_pedestrians_killed\"].fillna(value=0).astype(int)\n",
    ")\n",
    "\n",
    "chr_2013[\"number_of_pedestrians_involved\"] = (\n",
    "    chr_2013[\"number_of_pedestrians_injured\"] + chr_2013[\"number_of_pedestrians_killed\"]\n",
    ")\n",
    "chr_2013[\"pedestrians_involved\"] = chr_2013[\"number_of_pedestrians_involved\"] > 0"
   ]
  },
  {
   "cell_type": "code",
   "execution_count": 31,
   "metadata": {},
   "outputs": [],
   "source": [
    "chr_2013[\"after_humps\"] = chr_2013[\"date_insta\"] < chr_2013[\"crash_date\"]"
   ]
  },
  {
   "cell_type": "code",
   "execution_count": 32,
   "metadata": {},
   "outputs": [
    {
     "name": "stdout",
     "output_type": "stream",
     "text": [
      "<class 'geopandas.geodataframe.GeoDataFrame'>\n",
      "Index: 176875 entries, 0 to 327390\n",
      "Data columns (total 13 columns):\n",
      " #   Column                          Non-Null Count   Dtype         \n",
      "---  ------                          --------------   -----         \n",
      " 0   crash_date                      176875 non-null  datetime64[ns]\n",
      " 1   number_of_pedestrians_injured   176875 non-null  int64         \n",
      " 2   number_of_pedestrians_killed    176875 non-null  int64         \n",
      " 3   geometry                        176875 non-null  geometry      \n",
      " 4   physicalid                      176875 non-null  object        \n",
      " 5   collision_id                    176875 non-null  object        \n",
      " 6   humps                           176875 non-null  object        \n",
      " 7   shape_leng                      176875 non-null  object        \n",
      " 8   road_leng                       176875 non-null  object        \n",
      " 9   date_insta                      176875 non-null  datetime64[ns]\n",
      " 10  number_of_pedestrians_involved  176875 non-null  int64         \n",
      " 11  pedestrians_involved            176875 non-null  bool          \n",
      " 12  after_humps                     176875 non-null  bool          \n",
      "dtypes: bool(2), datetime64[ns](2), geometry(1), int64(3), object(5)\n",
      "memory usage: 16.5+ MB\n"
     ]
    }
   ],
   "source": [
    "chr_2013.info()"
   ]
  },
  {
   "cell_type": "code",
   "execution_count": 33,
   "metadata": {},
   "outputs": [],
   "source": [
    "chr_2013[\"humps\"] = chr_2013[\"humps\"].astype(float)\n",
    "chr_2013[\"shape_leng\"] = chr_2013[\"shape_leng\"].astype(float)\n",
    "chr_2013[\"road_leng\"] = chr_2013[\"road_leng\"].astype(float)"
   ]
  },
  {
   "cell_type": "code",
   "execution_count": 34,
   "metadata": {},
   "outputs": [],
   "source": [
    "chr_2013_pedestrians = (\n",
    "    chr_2013[chr_2013[\"pedestrians_involved\"]]\n",
    "    .copy()\n",
    "    .drop(columns=\"pedestrians_involved\")\n",
    ")"
   ]
  },
  {
   "cell_type": "code",
   "execution_count": 35,
   "metadata": {},
   "outputs": [],
   "source": [
    "crashes_per_road_pedestrians = chr_2013_pedestrians.groupby(\n",
    "    by=[\"physicalid\", \"after_humps\"], as_index=False\n",
    ").agg(\n",
    "    {\n",
    "        \"number_of_pedestrians_injured\": \"sum\",\n",
    "        \"number_of_pedestrians_killed\": \"sum\",\n",
    "        \"number_of_pedestrians_involved\": \"sum\",\n",
    "        \"collision_id\": \"count\",\n",
    "        \"humps\": \"max\",\n",
    "        \"shape_leng\": \"max\",\n",
    "        \"date_insta\": \"max\",\n",
    "        \"road_leng\": \"max\",\n",
    "    }\n",
    ")\n",
    "\n",
    "crashes_per_road = chr_2013.groupby(\n",
    "    by=[\"physicalid\", \"after_humps\"], as_index=False\n",
    ").agg(\n",
    "    {\n",
    "        \"collision_id\": \"count\",\n",
    "        \"humps\": \"max\",\n",
    "        \"shape_leng\": \"max\",\n",
    "        \"date_insta\": \"max\",\n",
    "        \"road_leng\": \"max\",\n",
    "    }\n",
    ")\n",
    "\n",
    "crashes_per_road = crashes_per_road.rename(columns={\"collision_id\": \"collisions\"})\n",
    "crashes_per_road_pedestrians = crashes_per_road_pedestrians.rename(\n",
    "    columns={\"collision_id\": \"collisions\"}\n",
    ")"
   ]
  },
  {
   "cell_type": "code",
   "execution_count": 36,
   "metadata": {},
   "outputs": [
    {
     "name": "stdout",
     "output_type": "stream",
     "text": [
      "<class 'pandas.core.frame.DataFrame'>\n",
      "RangeIndex: 5413 entries, 0 to 5412\n",
      "Data columns (total 7 columns):\n",
      " #   Column       Non-Null Count  Dtype         \n",
      "---  ------       --------------  -----         \n",
      " 0   physicalid   5413 non-null   object        \n",
      " 1   after_humps  5413 non-null   bool          \n",
      " 2   collisions   5413 non-null   int64         \n",
      " 3   humps        5413 non-null   float64       \n",
      " 4   shape_leng   5413 non-null   float64       \n",
      " 5   date_insta   5413 non-null   datetime64[ns]\n",
      " 6   road_leng    5413 non-null   float64       \n",
      "dtypes: bool(1), datetime64[ns](1), float64(3), int64(1), object(1)\n",
      "memory usage: 259.1+ KB\n"
     ]
    }
   ],
   "source": [
    "crashes_per_road.info()"
   ]
  },
  {
   "cell_type": "code",
   "execution_count": 37,
   "metadata": {},
   "outputs": [],
   "source": [
    "import pandas as pd\n",
    "\n",
    "\n",
    "def get_incidents_per_week(\n",
    "    row: pd.DataFrame, initial_date: np.datetime64, incident_col_name: str\n",
    ") -> pd.Series:\n",
    "    if row[\"after_humps\"]:\n",
    "        n_weeks = (np.datetime64(\"today\") - row[\"date_insta\"]) / np.timedelta64(1, \"W\")\n",
    "    else:\n",
    "        n_weeks = (row[\"date_insta\"] - initial_date) / np.timedelta64(1, \"W\")\n",
    "    return row[incident_col_name] / n_weeks"
   ]
  },
  {
   "cell_type": "code",
   "execution_count": 38,
   "metadata": {},
   "outputs": [],
   "source": [
    "initial_date = np.datetime64(startdate)\n",
    "\n",
    "crashes_per_road[\"collisions_per_week\"] = crashes_per_road[\n",
    "    [\"after_humps\", \"date_insta\", \"collisions\"]\n",
    "].apply(lambda o: get_incidents_per_week(o, initial_date, \"collisions\"), axis=1)\n",
    "crashes_per_road_pedestrians[\"collisions_per_week\"] = crashes_per_road_pedestrians[\n",
    "    [\"after_humps\", \"date_insta\", \"collisions\"]\n",
    "].apply(lambda o: get_incidents_per_week(o, initial_date, \"collisions\"), axis=1)"
   ]
  },
  {
   "cell_type": "code",
   "execution_count": 39,
   "metadata": {},
   "outputs": [
    {
     "data": {
      "text/html": [
       "<div>\n",
       "<style scoped>\n",
       "    .dataframe tbody tr th:only-of-type {\n",
       "        vertical-align: middle;\n",
       "    }\n",
       "\n",
       "    .dataframe tbody tr th {\n",
       "        vertical-align: top;\n",
       "    }\n",
       "\n",
       "    .dataframe thead th {\n",
       "        text-align: right;\n",
       "    }\n",
       "</style>\n",
       "<table border=\"1\" class=\"dataframe\">\n",
       "  <thead>\n",
       "    <tr style=\"text-align: right;\">\n",
       "      <th></th>\n",
       "      <th>physicalid</th>\n",
       "      <th>after_humps</th>\n",
       "      <th>collisions</th>\n",
       "      <th>humps</th>\n",
       "      <th>shape_leng</th>\n",
       "      <th>date_insta</th>\n",
       "      <th>road_leng</th>\n",
       "      <th>collisions_per_week</th>\n",
       "    </tr>\n",
       "  </thead>\n",
       "  <tbody>\n",
       "    <tr>\n",
       "      <th>0</th>\n",
       "      <td>10000</td>\n",
       "      <td>False</td>\n",
       "      <td>22</td>\n",
       "      <td>1.0</td>\n",
       "      <td>254.863422</td>\n",
       "      <td>2015-09-11</td>\n",
       "      <td>254.863378</td>\n",
       "      <td>0.131962</td>\n",
       "    </tr>\n",
       "    <tr>\n",
       "      <th>1</th>\n",
       "      <td>10000</td>\n",
       "      <td>True</td>\n",
       "      <td>11</td>\n",
       "      <td>1.0</td>\n",
       "      <td>254.863422</td>\n",
       "      <td>2015-09-11</td>\n",
       "      <td>254.863378</td>\n",
       "      <td>0.024616</td>\n",
       "    </tr>\n",
       "    <tr>\n",
       "      <th>2</th>\n",
       "      <td>100024</td>\n",
       "      <td>False</td>\n",
       "      <td>13</td>\n",
       "      <td>2.0</td>\n",
       "      <td>981.885023</td>\n",
       "      <td>2018-06-15</td>\n",
       "      <td>981.885150</td>\n",
       "      <td>0.041839</td>\n",
       "    </tr>\n",
       "    <tr>\n",
       "      <th>3</th>\n",
       "      <td>100024</td>\n",
       "      <td>True</td>\n",
       "      <td>15</td>\n",
       "      <td>2.0</td>\n",
       "      <td>981.885023</td>\n",
       "      <td>2018-06-15</td>\n",
       "      <td>981.885150</td>\n",
       "      <td>0.049528</td>\n",
       "    </tr>\n",
       "    <tr>\n",
       "      <th>4</th>\n",
       "      <td>100131</td>\n",
       "      <td>False</td>\n",
       "      <td>4</td>\n",
       "      <td>1.0</td>\n",
       "      <td>523.792986</td>\n",
       "      <td>2019-03-28</td>\n",
       "      <td>523.793152</td>\n",
       "      <td>0.011377</td>\n",
       "    </tr>\n",
       "  </tbody>\n",
       "</table>\n",
       "</div>"
      ],
      "text/plain": [
       "  physicalid  after_humps  collisions  humps  shape_leng date_insta  \\\n",
       "0      10000        False          22    1.0  254.863422 2015-09-11   \n",
       "1      10000         True          11    1.0  254.863422 2015-09-11   \n",
       "2     100024        False          13    2.0  981.885023 2018-06-15   \n",
       "3     100024         True          15    2.0  981.885023 2018-06-15   \n",
       "4     100131        False           4    1.0  523.792986 2019-03-28   \n",
       "\n",
       "    road_leng  collisions_per_week  \n",
       "0  254.863378             0.131962  \n",
       "1  254.863378             0.024616  \n",
       "2  981.885150             0.041839  \n",
       "3  981.885150             0.049528  \n",
       "4  523.793152             0.011377  "
      ]
     },
     "execution_count": 39,
     "metadata": {},
     "output_type": "execute_result"
    }
   ],
   "source": [
    "crashes_per_road.head()"
   ]
  },
  {
   "cell_type": "code",
   "execution_count": 40,
   "metadata": {},
   "outputs": [],
   "source": [
    "crashes_per_road_pedestrians[\n",
    "    \"pedestrians_involved_per_week\"\n",
    "] = crashes_per_road_pedestrians[\n",
    "    [\"after_humps\", \"date_insta\", \"number_of_pedestrians_involved\"]\n",
    "].apply(\n",
    "    lambda o: get_incidents_per_week(o, initial_date, \"number_of_pedestrians_involved\"),\n",
    "    axis=1,\n",
    ")"
   ]
  },
  {
   "cell_type": "code",
   "execution_count": 41,
   "metadata": {},
   "outputs": [
    {
     "data": {
      "text/html": [
       "<div>\n",
       "<style scoped>\n",
       "    .dataframe tbody tr th:only-of-type {\n",
       "        vertical-align: middle;\n",
       "    }\n",
       "\n",
       "    .dataframe tbody tr th {\n",
       "        vertical-align: top;\n",
       "    }\n",
       "\n",
       "    .dataframe thead th {\n",
       "        text-align: right;\n",
       "    }\n",
       "</style>\n",
       "<table border=\"1\" class=\"dataframe\">\n",
       "  <thead>\n",
       "    <tr style=\"text-align: right;\">\n",
       "      <th></th>\n",
       "      <th>physicalid</th>\n",
       "      <th>after_humps</th>\n",
       "      <th>number_of_pedestrians_injured</th>\n",
       "      <th>number_of_pedestrians_killed</th>\n",
       "      <th>number_of_pedestrians_involved</th>\n",
       "      <th>collisions</th>\n",
       "      <th>humps</th>\n",
       "      <th>shape_leng</th>\n",
       "      <th>date_insta</th>\n",
       "      <th>road_leng</th>\n",
       "      <th>collisions_per_week</th>\n",
       "      <th>pedestrians_involved_per_week</th>\n",
       "    </tr>\n",
       "  </thead>\n",
       "  <tbody>\n",
       "    <tr>\n",
       "      <th>0</th>\n",
       "      <td>100024</td>\n",
       "      <td>True</td>\n",
       "      <td>3</td>\n",
       "      <td>0</td>\n",
       "      <td>3</td>\n",
       "      <td>3</td>\n",
       "      <td>2.0</td>\n",
       "      <td>981.885023</td>\n",
       "      <td>2018-06-15</td>\n",
       "      <td>981.885150</td>\n",
       "      <td>0.009906</td>\n",
       "      <td>0.009906</td>\n",
       "    </tr>\n",
       "    <tr>\n",
       "      <th>1</th>\n",
       "      <td>100141</td>\n",
       "      <td>True</td>\n",
       "      <td>1</td>\n",
       "      <td>0</td>\n",
       "      <td>1</td>\n",
       "      <td>1</td>\n",
       "      <td>3.0</td>\n",
       "      <td>1026.867713</td>\n",
       "      <td>2015-04-29</td>\n",
       "      <td>442.559554</td>\n",
       "      <td>0.002145</td>\n",
       "      <td>0.002145</td>\n",
       "    </tr>\n",
       "    <tr>\n",
       "      <th>2</th>\n",
       "      <td>100142</td>\n",
       "      <td>False</td>\n",
       "      <td>2</td>\n",
       "      <td>0</td>\n",
       "      <td>2</td>\n",
       "      <td>2</td>\n",
       "      <td>3.0</td>\n",
       "      <td>1026.867713</td>\n",
       "      <td>2015-04-29</td>\n",
       "      <td>584.308133</td>\n",
       "      <td>0.013566</td>\n",
       "      <td>0.013566</td>\n",
       "    </tr>\n",
       "    <tr>\n",
       "      <th>3</th>\n",
       "      <td>100142</td>\n",
       "      <td>True</td>\n",
       "      <td>1</td>\n",
       "      <td>0</td>\n",
       "      <td>1</td>\n",
       "      <td>1</td>\n",
       "      <td>3.0</td>\n",
       "      <td>1026.867713</td>\n",
       "      <td>2015-04-29</td>\n",
       "      <td>584.308133</td>\n",
       "      <td>0.002145</td>\n",
       "      <td>0.002145</td>\n",
       "    </tr>\n",
       "    <tr>\n",
       "      <th>4</th>\n",
       "      <td>100378</td>\n",
       "      <td>True</td>\n",
       "      <td>11</td>\n",
       "      <td>0</td>\n",
       "      <td>11</td>\n",
       "      <td>9</td>\n",
       "      <td>2.0</td>\n",
       "      <td>638.973355</td>\n",
       "      <td>2013-09-20</td>\n",
       "      <td>260.606301</td>\n",
       "      <td>0.016368</td>\n",
       "      <td>0.020005</td>\n",
       "    </tr>\n",
       "  </tbody>\n",
       "</table>\n",
       "</div>"
      ],
      "text/plain": [
       "  physicalid  after_humps  number_of_pedestrians_injured  \\\n",
       "0     100024         True                              3   \n",
       "1     100141         True                              1   \n",
       "2     100142        False                              2   \n",
       "3     100142         True                              1   \n",
       "4     100378         True                             11   \n",
       "\n",
       "   number_of_pedestrians_killed  number_of_pedestrians_involved  collisions  \\\n",
       "0                             0                               3           3   \n",
       "1                             0                               1           1   \n",
       "2                             0                               2           2   \n",
       "3                             0                               1           1   \n",
       "4                             0                              11           9   \n",
       "\n",
       "   humps   shape_leng date_insta   road_leng  collisions_per_week  \\\n",
       "0    2.0   981.885023 2018-06-15  981.885150             0.009906   \n",
       "1    3.0  1026.867713 2015-04-29  442.559554             0.002145   \n",
       "2    3.0  1026.867713 2015-04-29  584.308133             0.013566   \n",
       "3    3.0  1026.867713 2015-04-29  584.308133             0.002145   \n",
       "4    2.0   638.973355 2013-09-20  260.606301             0.016368   \n",
       "\n",
       "   pedestrians_involved_per_week  \n",
       "0                       0.009906  \n",
       "1                       0.002145  \n",
       "2                       0.013566  \n",
       "3                       0.002145  \n",
       "4                       0.020005  "
      ]
     },
     "execution_count": 41,
     "metadata": {},
     "output_type": "execute_result"
    }
   ],
   "source": [
    "crashes_per_road_pedestrians.head()"
   ]
  },
  {
   "cell_type": "markdown",
   "metadata": {},
   "source": [
    "At this point, if a road did not have any collisions before or after speed humps were installed, there will be no row reporting 0 collisions. We want to add those roads so that we can compare the collision rate evolution."
   ]
  },
  {
   "cell_type": "code",
   "execution_count": 42,
   "metadata": {},
   "outputs": [],
   "source": [
    "roads_pedestrians = crashes_per_road_pedestrians[\n",
    "    [\"physicalid\", \"humps\", \"shape_leng\", \"road_leng\", \"date_insta\"]\n",
    "].drop_duplicates()\n",
    "roads = crashes_per_road[\n",
    "    [\"physicalid\", \"humps\", \"shape_leng\", \"road_leng\", \"date_insta\"]\n",
    "].drop_duplicates()"
   ]
  },
  {
   "cell_type": "code",
   "execution_count": 43,
   "metadata": {},
   "outputs": [],
   "source": [
    "after_humps_combinations = pd.DataFrame({\"after_humps\": [False, True]})"
   ]
  },
  {
   "cell_type": "code",
   "execution_count": 44,
   "metadata": {},
   "outputs": [],
   "source": [
    "cross_join = roads.merge(after_humps_combinations, how=\"cross\")\n",
    "cross_join_pedestrians = roads_pedestrians.merge(after_humps_combinations, how=\"cross\")"
   ]
  },
  {
   "cell_type": "code",
   "execution_count": 45,
   "metadata": {},
   "outputs": [],
   "source": [
    "crashes_per_road_pedestrians = cross_join_pedestrians.merge(\n",
    "    crashes_per_road_pedestrians,\n",
    "    how=\"left\",\n",
    "    on=[\"physicalid\", \"after_humps\", \"humps\", \"date_insta\", \"road_leng\", \"shape_leng\"],\n",
    ")\n",
    "crashes_per_road = cross_join.merge(\n",
    "    crashes_per_road,\n",
    "    how=\"left\",\n",
    "    on=[\"physicalid\", \"after_humps\", \"humps\", \"date_insta\", \"road_leng\", \"shape_leng\"],\n",
    ")"
   ]
  },
  {
   "cell_type": "code",
   "execution_count": 46,
   "metadata": {},
   "outputs": [
    {
     "name": "stdout",
     "output_type": "stream",
     "text": [
      "<class 'pandas.core.frame.DataFrame'>\n",
      "RangeIndex: 5648 entries, 0 to 5647\n",
      "Data columns (total 8 columns):\n",
      " #   Column               Non-Null Count  Dtype         \n",
      "---  ------               --------------  -----         \n",
      " 0   physicalid           5648 non-null   object        \n",
      " 1   humps                5648 non-null   float64       \n",
      " 2   shape_leng           5648 non-null   float64       \n",
      " 3   road_leng            5648 non-null   float64       \n",
      " 4   date_insta           5648 non-null   datetime64[ns]\n",
      " 5   after_humps          5648 non-null   bool          \n",
      " 6   collisions           5413 non-null   float64       \n",
      " 7   collisions_per_week  5413 non-null   float64       \n",
      "dtypes: bool(1), datetime64[ns](1), float64(5), object(1)\n",
      "memory usage: 314.5+ KB\n"
     ]
    }
   ],
   "source": [
    "crashes_per_road.info()"
   ]
  },
  {
   "cell_type": "code",
   "execution_count": 47,
   "metadata": {},
   "outputs": [],
   "source": [
    "crashes_per_road_pedestrians = crashes_per_road_pedestrians.fillna(value=0)\n",
    "crashes_per_road = crashes_per_road.fillna(value=0)"
   ]
  },
  {
   "cell_type": "code",
   "execution_count": 48,
   "metadata": {},
   "outputs": [
    {
     "name": "stdout",
     "output_type": "stream",
     "text": [
      "<class 'pandas.core.frame.DataFrame'>\n",
      "RangeIndex: 4154 entries, 0 to 4153\n",
      "Data columns (total 12 columns):\n",
      " #   Column                          Non-Null Count  Dtype         \n",
      "---  ------                          --------------  -----         \n",
      " 0   physicalid                      4154 non-null   object        \n",
      " 1   humps                           4154 non-null   float64       \n",
      " 2   shape_leng                      4154 non-null   float64       \n",
      " 3   road_leng                       4154 non-null   float64       \n",
      " 4   date_insta                      4154 non-null   datetime64[ns]\n",
      " 5   after_humps                     4154 non-null   bool          \n",
      " 6   number_of_pedestrians_injured   4154 non-null   float64       \n",
      " 7   number_of_pedestrians_killed    4154 non-null   float64       \n",
      " 8   number_of_pedestrians_involved  4154 non-null   float64       \n",
      " 9   collisions                      4154 non-null   float64       \n",
      " 10  collisions_per_week             4154 non-null   float64       \n",
      " 11  pedestrians_involved_per_week   4154 non-null   float64       \n",
      "dtypes: bool(1), datetime64[ns](1), float64(9), object(1)\n",
      "memory usage: 361.2+ KB\n"
     ]
    }
   ],
   "source": [
    "crashes_per_road_pedestrians.info()"
   ]
  },
  {
   "cell_type": "code",
   "execution_count": 49,
   "metadata": {},
   "outputs": [
    {
     "name": "stdout",
     "output_type": "stream",
     "text": [
      "<class 'pandas.core.frame.DataFrame'>\n",
      "RangeIndex: 5648 entries, 0 to 5647\n",
      "Data columns (total 8 columns):\n",
      " #   Column               Non-Null Count  Dtype         \n",
      "---  ------               --------------  -----         \n",
      " 0   physicalid           5648 non-null   object        \n",
      " 1   humps                5648 non-null   float64       \n",
      " 2   shape_leng           5648 non-null   float64       \n",
      " 3   road_leng            5648 non-null   float64       \n",
      " 4   date_insta           5648 non-null   datetime64[ns]\n",
      " 5   after_humps          5648 non-null   bool          \n",
      " 6   collisions           5648 non-null   float64       \n",
      " 7   collisions_per_week  5648 non-null   float64       \n",
      "dtypes: bool(1), datetime64[ns](1), float64(5), object(1)\n",
      "memory usage: 314.5+ KB\n"
     ]
    }
   ],
   "source": [
    "crashes_per_road.info()"
   ]
  },
  {
   "cell_type": "code",
   "execution_count": 50,
   "metadata": {},
   "outputs": [],
   "source": [
    "crashes_per_road.to_csv(\"../data/crashes_per_road.csv\", index=False)\n",
    "crashes_per_road_pedestrians.to_csv(\n",
    "    \"../data/crashes_per_road_pedestrians.csv\", index=False\n",
    ")"
   ]
  },
  {
   "cell_type": "markdown",
   "metadata": {},
   "source": [
    "### Data analysis"
   ]
  },
  {
   "cell_type": "code",
   "execution_count": 51,
   "metadata": {},
   "outputs": [],
   "source": [
    "from pathlib import Path\n",
    "\n",
    "# Import pandas and numpy so that we can run this second part of the notebook independently of the first\n",
    "import pandas as pd\n",
    "import numpy as np\n",
    "\n",
    "crashes_road_path = Path(\"../data/crashes_per_road.csv\")\n",
    "crashes_road_pedestrians_path = Path(\"../data/crashes_per_road_pedestrians.csv\")\n",
    "\n",
    "if \"crashes_per_road\" not in globals() and crashes_road_path.exists():\n",
    "    crashes_per_road = pd.read_csv(crashes_road_path)\n",
    "\n",
    "if (\n",
    "    \"crashes_per_road_pedestrians\" not in globals()\n",
    "    and crashes_road_pedestrians_path.exists()\n",
    "):\n",
    "    crashes_per_road_pedestrians = pd.read_csv(crashes_road_pedestrians_path)"
   ]
  },
  {
   "cell_type": "code",
   "execution_count": 52,
   "metadata": {},
   "outputs": [],
   "source": [
    "import matplotlib.pyplot as plt\n",
    "import seaborn as sns\n",
    "\n",
    "plt.rcParams[\"axes.spines.top\"] = False\n",
    "plt.rcParams[\"axes.spines.right\"] = False\n",
    "plt.rcParams[\"axes.titlesize\"] = 12\n",
    "plt.rcParams[\"axes.titleweight\"] = \"bold\"\n",
    "plt.rcParams[\"axes.titlelocation\"] = \"left\""
   ]
  },
  {
   "cell_type": "code",
   "execution_count": 53,
   "metadata": {},
   "outputs": [
    {
     "data": {
      "text/plain": [
       "<matplotlib.legend.Legend at 0x7fc4e7158590>"
      ]
     },
     "execution_count": 53,
     "metadata": {},
     "output_type": "execute_result"
    },
    {
     "data": {
      "image/png": "[encoded data removed]",
      "text/plain": [
       "<Figure size 2000x500 with 3 Axes>"
      ]
     },
     "metadata": {},
     "output_type": "display_data"
    }
   ],
   "source": [
    "_, ax = plt.subplots(1, 3, figsize=(20, 5))\n",
    "\n",
    "sns.histplot(\n",
    "    data=crashes_per_road_pedestrians,\n",
    "    x=\"pedestrians_involved_per_week\",\n",
    "    hue=\"after_humps\",\n",
    "    bins=80,\n",
    "    ax=ax[2],\n",
    ")\n",
    "\n",
    "sns.histplot(\n",
    "    data=crashes_per_road_pedestrians,\n",
    "    x=\"collisions_per_week\",\n",
    "    hue=\"after_humps\",\n",
    "    bins=80,\n",
    "    ax=ax[1],\n",
    ")\n",
    "\n",
    "sns.histplot(\n",
    "    data=crashes_per_road, x=\"collisions_per_week\", hue=\"after_humps\", bins=80, ax=ax[0]\n",
    ")\n",
    "\n",
    "ax[0].set_xlabel(\"Weekly collision rate\")\n",
    "ax[0].set_ylabel(\"Number of roads\")\n",
    "ax[0].set_title(\"Evolution of weekly collision rates\")\n",
    "ax[0].legend([\"After humps\", \"Before humps\"], loc=\"center right\")\n",
    "\n",
    "ax[2].set_xlabel(\"Number of pedestrians injured or killed per week\")\n",
    "ax[2].set_ylabel(\"Number of roads\")\n",
    "ax[2].set_title(\"Evolution of weekly rates of pedestrians injured\")\n",
    "ax[2].legend([\"After humps\", \"Before humps\"], loc=\"center right\")\n",
    "\n",
    "ax[1].set_xlabel(\"Weekly vehicle-pedestrian collision rates\")\n",
    "ax[1].set_ylabel(\"Number of roads\")\n",
    "ax[1].set_title(\"Evolution of vehicle-pedestrian collision weekly rate\")\n",
    "ax[1].legend([\"After humps\", \"Before humps\"], loc=\"center right\")"
   ]
  },
  {
   "cell_type": "markdown",
   "metadata": {},
   "source": [
    "These three histograms show the change in weekly collision/injury rates. They seem to indicate that the installation of speed humps shifts the histograms' center of mass to the left, meaning that there is a noticeable decrease in the weekly rate of collisions in general, but also in collisions involving pedestrians and the rate of pedestrian injuries (deaths included). A more convincing picture is obtained when the rate of collisions in a road after humps are installed is plotted against the rate of collisions before their installation."
   ]
  },
  {
   "cell_type": "markdown",
   "metadata": {},
   "source": [
    "Since there are many roads with very low collision rates and few with very high collision rates, it will be helpful to take the logarithms of these rates for visualization purposes."
   ]
  },
  {
   "cell_type": "code",
   "execution_count": 54,
   "metadata": {},
   "outputs": [],
   "source": [
    "crashes_per_road_pedestrians[\"log_collisions_per_week\"] = np.log1p(\n",
    "    crashes_per_road_pedestrians[\"collisions_per_week\"]\n",
    ")\n",
    "crashes_per_road_pedestrians[\"log_pedestrians_per_week\"] = np.log1p(\n",
    "    crashes_per_road_pedestrians[\"pedestrians_involved_per_week\"]\n",
    ")\n",
    "\n",
    "crashes_per_road[\"log_collisions_per_week\"] = np.log1p(\n",
    "    crashes_per_road[\"collisions_per_week\"]\n",
    ")"
   ]
  },
  {
   "cell_type": "code",
   "execution_count": 55,
   "metadata": {},
   "outputs": [],
   "source": [
    "crashes_per_road_pedestrians_before = (\n",
    "    crashes_per_road_pedestrians[~crashes_per_road_pedestrians[\"after_humps\"]]\n",
    "    .drop(columns=\"after_humps\")\n",
    "    .copy()\n",
    ")\n",
    "crashes_per_road_pedestrians_after = (\n",
    "    crashes_per_road_pedestrians[crashes_per_road_pedestrians[\"after_humps\"]]\n",
    "    .drop(columns=\"after_humps\")\n",
    "    .copy()\n",
    ")\n",
    "\n",
    "crashes_per_road_before = (\n",
    "    crashes_per_road[~crashes_per_road[\"after_humps\"]]\n",
    "    .drop(columns=[\"after_humps\"])\n",
    "    .copy()\n",
    ")\n",
    "crashes_per_road_after = (\n",
    "    crashes_per_road[crashes_per_road[\"after_humps\"]]\n",
    "    .drop(columns=[\"after_humps\"])\n",
    "    .copy()\n",
    ")"
   ]
  },
  {
   "cell_type": "code",
   "execution_count": 56,
   "metadata": {},
   "outputs": [],
   "source": [
    "crashes_per_road_pedestrians_before = crashes_per_road_pedestrians_before[\n",
    "    [\n",
    "        \"physicalid\",\n",
    "        \"humps\",\n",
    "        \"pedestrians_involved_per_week\",\n",
    "        \"collisions_per_week\",\n",
    "        \"log_collisions_per_week\",\n",
    "        \"log_pedestrians_per_week\",\n",
    "        \"shape_leng\",\n",
    "    ]\n",
    "]\n",
    "crashes_per_road_pedestrians_after = crashes_per_road_pedestrians_after[\n",
    "    [\n",
    "        \"physicalid\",\n",
    "        \"humps\",\n",
    "        \"pedestrians_involved_per_week\",\n",
    "        \"collisions_per_week\",\n",
    "        \"log_collisions_per_week\",\n",
    "        \"log_pedestrians_per_week\",\n",
    "        \"shape_leng\",\n",
    "    ]\n",
    "]\n",
    "\n",
    "crashes_per_road_before = crashes_per_road_before[\n",
    "    [\n",
    "        \"physicalid\",\n",
    "        \"humps\",\n",
    "        \"collisions_per_week\",\n",
    "        \"log_collisions_per_week\",\n",
    "        \"shape_leng\",\n",
    "    ]\n",
    "]\n",
    "crashes_per_road_after = crashes_per_road_after[\n",
    "    [\n",
    "        \"physicalid\",\n",
    "        \"humps\",\n",
    "        \"collisions_per_week\",\n",
    "        \"log_collisions_per_week\",\n",
    "        \"shape_leng\",\n",
    "    ]\n",
    "]"
   ]
  },
  {
   "cell_type": "code",
   "execution_count": 57,
   "metadata": {},
   "outputs": [],
   "source": [
    "crashes_pedestrians_difference = crashes_per_road_pedestrians_before.merge(\n",
    "    crashes_per_road_pedestrians_after,\n",
    "    on=[\"physicalid\", \"humps\", \"shape_leng\"],\n",
    "    suffixes=[\"_before\", \"_after\"],\n",
    ")\n",
    "crashes_difference = crashes_per_road_before.merge(\n",
    "    crashes_per_road_after,\n",
    "    on=[\"physicalid\", \"humps\", \"shape_leng\"],\n",
    "    suffixes=[\"_before\", \"_after\"],\n",
    ")"
   ]
  },
  {
   "cell_type": "code",
   "execution_count": 58,
   "metadata": {},
   "outputs": [
    {
     "data": {
      "image/png": "[encoded data removed]",
      "text/plain": [
       "<Figure size 1600x500 with 3 Axes>"
      ]
     },
     "metadata": {},
     "output_type": "display_data"
    }
   ],
   "source": [
    "fig, ax = plt.subplots(1, 3, figsize=(16, 5))\n",
    "\n",
    "sns.regplot(\n",
    "    data=crashes_difference,\n",
    "    x=\"log_collisions_per_week_before\",\n",
    "    y=\"log_collisions_per_week_after\",\n",
    "    ax=ax[0],\n",
    "    scatter_kws={\"alpha\": 0.5, \"edgecolors\": \"white\"},\n",
    "    line_kws={\"color\": \"orange\"},\n",
    ")\n",
    "\n",
    "sns.regplot(\n",
    "    data=crashes_pedestrians_difference,\n",
    "    x=\"log_collisions_per_week_before\",\n",
    "    y=\"log_collisions_per_week_after\",\n",
    "    ax=ax[1],\n",
    "    scatter_kws={\"alpha\": 0.5, \"edgecolors\": \"white\"},\n",
    "    line_kws={\"color\": \"orange\"},\n",
    ")\n",
    "\n",
    "sns.regplot(\n",
    "    data=crashes_pedestrians_difference,\n",
    "    x=\"log_pedestrians_per_week_before\",\n",
    "    y=\"log_pedestrians_per_week_after\",\n",
    "    ax=ax[2],\n",
    "    scatter_kws={\"alpha\": 0.5, \"edgecolors\": \"white\"},\n",
    "    line_kws={\"color\": \"orange\"},\n",
    ")\n",
    "\n",
    "for i in range(3):\n",
    "    ax[i].plot([0, 1.5], [0, 1.5], c=\"black\", linestyle=\"dashed\", alpha=0.3)\n",
    "\n",
    "ax[0].set_title(\"Collision rates\")\n",
    "ax[0].set_xbound(lower=-0.05, upper=1.6)\n",
    "ax[0].set_ybound(lower=-0.05, upper=1.6)\n",
    "ax[0].set_xlabel(\"Log weekly collision rate before humps\")\n",
    "ax[0].set_ylabel(\"Log weekly collision rate after humps\")\n",
    "\n",
    "ax[1].set_title(\"Vehicle-pedestrian collision rates\")\n",
    "ax[1].set_xbound(lower=-0.005, upper=0.16)\n",
    "ax[1].set_ybound(lower=-0.005, upper=0.16)\n",
    "ax[1].set_xlabel(\"Log weekly collision rate before humps\")\n",
    "ax[1].set_ylabel(\"Log weekly collision rate after humps\")\n",
    "\n",
    "ax[2].set_title(\"Death and injury rates\")\n",
    "ax[2].set_xbound(lower=-0.005, upper=0.16)\n",
    "ax[2].set_ybound(lower=-0.005, upper=0.16)\n",
    "ax[2].set_xlabel(\"Log weekly injury and death rate before humps\")\n",
    "ax[2].set_ylabel(\"Log weekly injury and death rate after humps\")\n",
    "\n",
    "\n",
    "fig.tight_layout()"
   ]
  },
  {
   "cell_type": "markdown",
   "metadata": {},
   "source": [
    "The plots above show the weekly collision or injury rates after humps were installed against the rates before their installation. Each blue dot represents a road in New York City where humps are now present (and, as mentioned before, have not been installed within one year from now or from the earliest reported crash) and at least one collision occurred between July 2012 and now. The light grey dashed line is the diagonal. If installing speed humps reduces collision rates, we should see more blue dots below this line than above. Indeed, that is what we see. Finally, the orange line is the least squares regression line."
   ]
  },
  {
   "cell_type": "markdown",
   "metadata": {},
   "source": [
    "There appears to exist a linear relationship in the three plots above, but especially in the first one. The Pearson correlation coefficients confirm this."
   ]
  },
  {
   "cell_type": "code",
   "execution_count": 59,
   "metadata": {},
   "outputs": [
    {
     "data": {
      "text/html": [
       "<div>\n",
       "<style scoped>\n",
       "    .dataframe tbody tr th:only-of-type {\n",
       "        vertical-align: middle;\n",
       "    }\n",
       "\n",
       "    .dataframe tbody tr th {\n",
       "        vertical-align: top;\n",
       "    }\n",
       "\n",
       "    .dataframe thead th {\n",
       "        text-align: right;\n",
       "    }\n",
       "</style>\n",
       "<table border=\"1\" class=\"dataframe\">\n",
       "  <thead>\n",
       "    <tr style=\"text-align: right;\">\n",
       "      <th></th>\n",
       "      <th>log_collisions_per_week_before</th>\n",
       "      <th>log_collisions_per_week_after</th>\n",
       "    </tr>\n",
       "  </thead>\n",
       "  <tbody>\n",
       "    <tr>\n",
       "      <th>log_collisions_per_week_before</th>\n",
       "      <td>1.000000</td>\n",
       "      <td>0.849908</td>\n",
       "    </tr>\n",
       "    <tr>\n",
       "      <th>log_collisions_per_week_after</th>\n",
       "      <td>0.849908</td>\n",
       "      <td>1.000000</td>\n",
       "    </tr>\n",
       "  </tbody>\n",
       "</table>\n",
       "</div>"
      ],
      "text/plain": [
       "                                log_collisions_per_week_before  \\\n",
       "log_collisions_per_week_before                        1.000000   \n",
       "log_collisions_per_week_after                         0.849908   \n",
       "\n",
       "                                log_collisions_per_week_after  \n",
       "log_collisions_per_week_before                       0.849908  \n",
       "log_collisions_per_week_after                        1.000000  "
      ]
     },
     "execution_count": 59,
     "metadata": {},
     "output_type": "execute_result"
    }
   ],
   "source": [
    "crashes_difference[\n",
    "    [\"log_collisions_per_week_before\", \"log_collisions_per_week_after\"]\n",
    "].corr()"
   ]
  },
  {
   "cell_type": "code",
   "execution_count": 60,
   "metadata": {},
   "outputs": [
    {
     "data": {
      "text/html": [
       "<div>\n",
       "<style scoped>\n",
       "    .dataframe tbody tr th:only-of-type {\n",
       "        vertical-align: middle;\n",
       "    }\n",
       "\n",
       "    .dataframe tbody tr th {\n",
       "        vertical-align: top;\n",
       "    }\n",
       "\n",
       "    .dataframe thead th {\n",
       "        text-align: right;\n",
       "    }\n",
       "</style>\n",
       "<table border=\"1\" class=\"dataframe\">\n",
       "  <thead>\n",
       "    <tr style=\"text-align: right;\">\n",
       "      <th></th>\n",
       "      <th>log_collisions_per_week_before</th>\n",
       "      <th>log_collisions_per_week_after</th>\n",
       "      <th>log_pedestrians_per_week_before</th>\n",
       "      <th>log_pedestrians_per_week_after</th>\n",
       "    </tr>\n",
       "  </thead>\n",
       "  <tbody>\n",
       "    <tr>\n",
       "      <th>log_collisions_per_week_before</th>\n",
       "      <td>1.000000</td>\n",
       "      <td>0.578788</td>\n",
       "      <td>0.988514</td>\n",
       "      <td>0.569411</td>\n",
       "    </tr>\n",
       "    <tr>\n",
       "      <th>log_collisions_per_week_after</th>\n",
       "      <td>0.578788</td>\n",
       "      <td>1.000000</td>\n",
       "      <td>0.572017</td>\n",
       "      <td>0.990908</td>\n",
       "    </tr>\n",
       "    <tr>\n",
       "      <th>log_pedestrians_per_week_before</th>\n",
       "      <td>0.988514</td>\n",
       "      <td>0.572017</td>\n",
       "      <td>1.000000</td>\n",
       "      <td>0.562420</td>\n",
       "    </tr>\n",
       "    <tr>\n",
       "      <th>log_pedestrians_per_week_after</th>\n",
       "      <td>0.569411</td>\n",
       "      <td>0.990908</td>\n",
       "      <td>0.562420</td>\n",
       "      <td>1.000000</td>\n",
       "    </tr>\n",
       "  </tbody>\n",
       "</table>\n",
       "</div>"
      ],
      "text/plain": [
       "                                 log_collisions_per_week_before  \\\n",
       "log_collisions_per_week_before                         1.000000   \n",
       "log_collisions_per_week_after                          0.578788   \n",
       "log_pedestrians_per_week_before                        0.988514   \n",
       "log_pedestrians_per_week_after                         0.569411   \n",
       "\n",
       "                                 log_collisions_per_week_after  \\\n",
       "log_collisions_per_week_before                        0.578788   \n",
       "log_collisions_per_week_after                         1.000000   \n",
       "log_pedestrians_per_week_before                       0.572017   \n",
       "log_pedestrians_per_week_after                        0.990908   \n",
       "\n",
       "                                 log_pedestrians_per_week_before  \\\n",
       "log_collisions_per_week_before                          0.988514   \n",
       "log_collisions_per_week_after                           0.572017   \n",
       "log_pedestrians_per_week_before                         1.000000   \n",
       "log_pedestrians_per_week_after                          0.562420   \n",
       "\n",
       "                                 log_pedestrians_per_week_after  \n",
       "log_collisions_per_week_before                         0.569411  \n",
       "log_collisions_per_week_after                          0.990908  \n",
       "log_pedestrians_per_week_before                        0.562420  \n",
       "log_pedestrians_per_week_after                         1.000000  "
      ]
     },
     "execution_count": 60,
     "metadata": {},
     "output_type": "execute_result"
    }
   ],
   "source": [
    "crashes_pedestrians_difference[\n",
    "    [\n",
    "        \"log_collisions_per_week_before\",\n",
    "        \"log_collisions_per_week_after\",\n",
    "        \"log_pedestrians_per_week_before\",\n",
    "        \"log_pedestrians_per_week_after\",\n",
    "    ]\n",
    "].corr()"
   ]
  },
  {
   "cell_type": "markdown",
   "metadata": {},
   "source": [
    "This analysis does not answer the question of how many speed humps should be installed if we want to reduce collision rates by a given factor. I tried to work on this question but, so far, I did not find any correlation between the number of speed humps per unit of length and the change in collision rates. This is something that we have to think about."
   ]
  }
 ],
 "metadata": {
  "kernelspec": {
   "display_name": "erdos_sp_2024",
   "language": "python",
   "name": "python3"
  },
  "language_info": {
   "codemirror_mode": {
    "name": "ipython",
    "version": 3
   },
   "file_extension": ".py",
   "mimetype": "text/x-python",
   "name": "python",
   "nbconvert_exporter": "python",
   "pygments_lexer": "ipython3",
   "version": "3.11.7"
  }
 },
 "nbformat": 4,
 "nbformat_minor": 2
}

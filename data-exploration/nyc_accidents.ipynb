{
 "cells": [
  {
   "cell_type": "markdown",
   "metadata": {},
   "source": [
    "## Creating a dataset"
   ]
  },
  {
   "cell_type": "markdown",
   "metadata": {},
   "source": [
    "The main purpose of this notebook is to combine a few datasets of interest to our project into a single one with the aim of creating a minimal working example and a baseline model. I had to make some options throughout the process, and some have some shortcomings that we will have to address. For instance, I am using all the data available for a given street when creating a model, but some features of a street change with time (perhaps some speed humps were installed last year in the street we are studying). Any model based on the dataset created in this notebook will ignore this considerations. "
   ]
  },
  {
   "cell_type": "markdown",
   "metadata": {},
   "source": [
    "The baseline model and MWE will both try to estimate the number of crashes occurring in a given street of NYC, at a given time of day during the period of one month.\n",
    "\n",
    "The most important data sources are the files `crashes_20240316.csv` and `centerline.geojson` in the `data` folder. The former lists all reported crashes occurring in New York city since July 2012, while the latter is a list of NYC streets along with some properties. We can use GeoPandas to join them: `crashes` comes with latitutde and longitude, while `centerline` has a `geometry` feature that outlines the roads on a map."
   ]
  },
  {
   "cell_type": "code",
   "execution_count": 44,
   "metadata": {},
   "outputs": [],
   "source": [
    "import pandas as pd\n",
    "import numpy as np"
   ]
  },
  {
   "cell_type": "code",
   "execution_count": 45,
   "metadata": {},
   "outputs": [],
   "source": [
    "NYC_EPSG = \"EPSG:2263\"\n",
    "STD_EPSG = \"EPSG:4326\""
   ]
  },
  {
   "cell_type": "code",
   "execution_count": 46,
   "metadata": {},
   "outputs": [],
   "source": [
    "from pathlib import Path\n",
    "\n",
    "DATA_FOLDER = Path(\"./data\")"
   ]
  },
  {
   "cell_type": "code",
   "execution_count": 47,
   "metadata": {},
   "outputs": [],
   "source": [
    "CRASHES_DATASET = DATA_FOLDER / \"crashes_20240316.csv\"\n",
    "CENTERLINE_DATASET = DATA_FOLDER / \"centerline.geojson\"\n",
    "SPEEDLIMS_DATASET = DATA_FOLDER / \"speedlimits.geojson\"\n",
    "HUMPS_DATASET = DATA_FOLDER / \"humps.geojson\""
   ]
  },
  {
   "cell_type": "code",
   "execution_count": 48,
   "metadata": {},
   "outputs": [
    {
     "name": "stderr",
     "output_type": "stream",
     "text": [
      "/tmp/ipykernel_218328/3195495548.py:1: DtypeWarning: Columns (3) have mixed types. Specify dtype option on import or set low_memory=False.\n",
      "  crashes = pd.read_csv(CRASHES_DATASET)\n"
     ]
    },
    {
     "data": {
      "text/html": [
       "<div>\n",
       "<style scoped>\n",
       "    .dataframe tbody tr th:only-of-type {\n",
       "        vertical-align: middle;\n",
       "    }\n",
       "\n",
       "    .dataframe tbody tr th {\n",
       "        vertical-align: top;\n",
       "    }\n",
       "\n",
       "    .dataframe thead th {\n",
       "        text-align: right;\n",
       "    }\n",
       "</style>\n",
       "<table border=\"1\" class=\"dataframe\">\n",
       "  <thead>\n",
       "    <tr style=\"text-align: right;\">\n",
       "      <th></th>\n",
       "      <th>CRASH DATE</th>\n",
       "      <th>CRASH TIME</th>\n",
       "      <th>BOROUGH</th>\n",
       "      <th>ZIP CODE</th>\n",
       "      <th>LATITUDE</th>\n",
       "      <th>LONGITUDE</th>\n",
       "      <th>LOCATION</th>\n",
       "      <th>ON STREET NAME</th>\n",
       "      <th>CROSS STREET NAME</th>\n",
       "      <th>OFF STREET NAME</th>\n",
       "      <th>...</th>\n",
       "      <th>CONTRIBUTING FACTOR VEHICLE 2</th>\n",
       "      <th>CONTRIBUTING FACTOR VEHICLE 3</th>\n",
       "      <th>CONTRIBUTING FACTOR VEHICLE 4</th>\n",
       "      <th>CONTRIBUTING FACTOR VEHICLE 5</th>\n",
       "      <th>COLLISION_ID</th>\n",
       "      <th>VEHICLE TYPE CODE 1</th>\n",
       "      <th>VEHICLE TYPE CODE 2</th>\n",
       "      <th>VEHICLE TYPE CODE 3</th>\n",
       "      <th>VEHICLE TYPE CODE 4</th>\n",
       "      <th>VEHICLE TYPE CODE 5</th>\n",
       "    </tr>\n",
       "  </thead>\n",
       "  <tbody>\n",
       "    <tr>\n",
       "      <th>0</th>\n",
       "      <td>09/11/2021</td>\n",
       "      <td>2:39</td>\n",
       "      <td>NaN</td>\n",
       "      <td>NaN</td>\n",
       "      <td>NaN</td>\n",
       "      <td>NaN</td>\n",
       "      <td>NaN</td>\n",
       "      <td>WHITESTONE EXPRESSWAY</td>\n",
       "      <td>20 AVENUE</td>\n",
       "      <td>NaN</td>\n",
       "      <td>...</td>\n",
       "      <td>Unspecified</td>\n",
       "      <td>NaN</td>\n",
       "      <td>NaN</td>\n",
       "      <td>NaN</td>\n",
       "      <td>4455765</td>\n",
       "      <td>Sedan</td>\n",
       "      <td>Sedan</td>\n",
       "      <td>NaN</td>\n",
       "      <td>NaN</td>\n",
       "      <td>NaN</td>\n",
       "    </tr>\n",
       "    <tr>\n",
       "      <th>1</th>\n",
       "      <td>03/26/2022</td>\n",
       "      <td>11:45</td>\n",
       "      <td>NaN</td>\n",
       "      <td>NaN</td>\n",
       "      <td>NaN</td>\n",
       "      <td>NaN</td>\n",
       "      <td>NaN</td>\n",
       "      <td>QUEENSBORO BRIDGE UPPER</td>\n",
       "      <td>NaN</td>\n",
       "      <td>NaN</td>\n",
       "      <td>...</td>\n",
       "      <td>NaN</td>\n",
       "      <td>NaN</td>\n",
       "      <td>NaN</td>\n",
       "      <td>NaN</td>\n",
       "      <td>4513547</td>\n",
       "      <td>Sedan</td>\n",
       "      <td>NaN</td>\n",
       "      <td>NaN</td>\n",
       "      <td>NaN</td>\n",
       "      <td>NaN</td>\n",
       "    </tr>\n",
       "    <tr>\n",
       "      <th>2</th>\n",
       "      <td>06/29/2022</td>\n",
       "      <td>6:55</td>\n",
       "      <td>NaN</td>\n",
       "      <td>NaN</td>\n",
       "      <td>NaN</td>\n",
       "      <td>NaN</td>\n",
       "      <td>NaN</td>\n",
       "      <td>THROGS NECK BRIDGE</td>\n",
       "      <td>NaN</td>\n",
       "      <td>NaN</td>\n",
       "      <td>...</td>\n",
       "      <td>Unspecified</td>\n",
       "      <td>NaN</td>\n",
       "      <td>NaN</td>\n",
       "      <td>NaN</td>\n",
       "      <td>4541903</td>\n",
       "      <td>Sedan</td>\n",
       "      <td>Pick-up Truck</td>\n",
       "      <td>NaN</td>\n",
       "      <td>NaN</td>\n",
       "      <td>NaN</td>\n",
       "    </tr>\n",
       "    <tr>\n",
       "      <th>3</th>\n",
       "      <td>09/11/2021</td>\n",
       "      <td>9:35</td>\n",
       "      <td>BROOKLYN</td>\n",
       "      <td>11208.0</td>\n",
       "      <td>40.667202</td>\n",
       "      <td>-73.866500</td>\n",
       "      <td>(40.667202, -73.8665)</td>\n",
       "      <td>NaN</td>\n",
       "      <td>NaN</td>\n",
       "      <td>1211      LORING AVENUE</td>\n",
       "      <td>...</td>\n",
       "      <td>NaN</td>\n",
       "      <td>NaN</td>\n",
       "      <td>NaN</td>\n",
       "      <td>NaN</td>\n",
       "      <td>4456314</td>\n",
       "      <td>Sedan</td>\n",
       "      <td>NaN</td>\n",
       "      <td>NaN</td>\n",
       "      <td>NaN</td>\n",
       "      <td>NaN</td>\n",
       "    </tr>\n",
       "    <tr>\n",
       "      <th>4</th>\n",
       "      <td>12/14/2021</td>\n",
       "      <td>8:13</td>\n",
       "      <td>BROOKLYN</td>\n",
       "      <td>11233.0</td>\n",
       "      <td>40.683304</td>\n",
       "      <td>-73.917274</td>\n",
       "      <td>(40.683304, -73.917274)</td>\n",
       "      <td>SARATOGA AVENUE</td>\n",
       "      <td>DECATUR STREET</td>\n",
       "      <td>NaN</td>\n",
       "      <td>...</td>\n",
       "      <td>NaN</td>\n",
       "      <td>NaN</td>\n",
       "      <td>NaN</td>\n",
       "      <td>NaN</td>\n",
       "      <td>4486609</td>\n",
       "      <td>NaN</td>\n",
       "      <td>NaN</td>\n",
       "      <td>NaN</td>\n",
       "      <td>NaN</td>\n",
       "      <td>NaN</td>\n",
       "    </tr>\n",
       "  </tbody>\n",
       "</table>\n",
       "<p>5 rows × 29 columns</p>\n",
       "</div>"
      ],
      "text/plain": [
       "   CRASH DATE CRASH TIME   BOROUGH ZIP CODE   LATITUDE  LONGITUDE  \\\n",
       "0  09/11/2021       2:39       NaN      NaN        NaN        NaN   \n",
       "1  03/26/2022      11:45       NaN      NaN        NaN        NaN   \n",
       "2  06/29/2022       6:55       NaN      NaN        NaN        NaN   \n",
       "3  09/11/2021       9:35  BROOKLYN  11208.0  40.667202 -73.866500   \n",
       "4  12/14/2021       8:13  BROOKLYN  11233.0  40.683304 -73.917274   \n",
       "\n",
       "                  LOCATION           ON STREET NAME CROSS STREET NAME  \\\n",
       "0                      NaN    WHITESTONE EXPRESSWAY         20 AVENUE   \n",
       "1                      NaN  QUEENSBORO BRIDGE UPPER               NaN   \n",
       "2                      NaN       THROGS NECK BRIDGE               NaN   \n",
       "3    (40.667202, -73.8665)                      NaN               NaN   \n",
       "4  (40.683304, -73.917274)          SARATOGA AVENUE    DECATUR STREET   \n",
       "\n",
       "           OFF STREET NAME  ...  CONTRIBUTING FACTOR VEHICLE 2  \\\n",
       "0                      NaN  ...                    Unspecified   \n",
       "1                      NaN  ...                            NaN   \n",
       "2                      NaN  ...                    Unspecified   \n",
       "3  1211      LORING AVENUE  ...                            NaN   \n",
       "4                      NaN  ...                            NaN   \n",
       "\n",
       "   CONTRIBUTING FACTOR VEHICLE 3  CONTRIBUTING FACTOR VEHICLE 4  \\\n",
       "0                            NaN                            NaN   \n",
       "1                            NaN                            NaN   \n",
       "2                            NaN                            NaN   \n",
       "3                            NaN                            NaN   \n",
       "4                            NaN                            NaN   \n",
       "\n",
       "   CONTRIBUTING FACTOR VEHICLE 5  COLLISION_ID  VEHICLE TYPE CODE 1  \\\n",
       "0                            NaN       4455765                Sedan   \n",
       "1                            NaN       4513547                Sedan   \n",
       "2                            NaN       4541903                Sedan   \n",
       "3                            NaN       4456314                Sedan   \n",
       "4                            NaN       4486609                  NaN   \n",
       "\n",
       "   VEHICLE TYPE CODE 2  VEHICLE TYPE CODE 3 VEHICLE TYPE CODE 4  \\\n",
       "0                Sedan                  NaN                 NaN   \n",
       "1                  NaN                  NaN                 NaN   \n",
       "2        Pick-up Truck                  NaN                 NaN   \n",
       "3                  NaN                  NaN                 NaN   \n",
       "4                  NaN                  NaN                 NaN   \n",
       "\n",
       "  VEHICLE TYPE CODE 5  \n",
       "0                 NaN  \n",
       "1                 NaN  \n",
       "2                 NaN  \n",
       "3                 NaN  \n",
       "4                 NaN  \n",
       "\n",
       "[5 rows x 29 columns]"
      ]
     },
     "execution_count": 48,
     "metadata": {},
     "output_type": "execute_result"
    }
   ],
   "source": [
    "crashes = pd.read_csv(CRASHES_DATASET)\n",
    "crashes.head()"
   ]
  },
  {
   "cell_type": "markdown",
   "metadata": {},
   "source": [
    "For the sake of this example, I will only keep a few columns. There are several other features of this dataset that we may be interested about. For instance, we may want to know how many people died in a given car crash so that we can rank each in terms of its severity."
   ]
  },
  {
   "cell_type": "code",
   "execution_count": 49,
   "metadata": {},
   "outputs": [],
   "source": [
    "columns_to_keep = [\"CRASH DATE\", \"CRASH TIME\", \"LATITUDE\", \"LONGITUDE\"]"
   ]
  },
  {
   "cell_type": "code",
   "execution_count": 50,
   "metadata": {},
   "outputs": [],
   "source": [
    "crashes_eda = crashes[columns_to_keep]"
   ]
  },
  {
   "cell_type": "code",
   "execution_count": 51,
   "metadata": {},
   "outputs": [
    {
     "name": "stdout",
     "output_type": "stream",
     "text": [
      "<class 'pandas.core.frame.DataFrame'>\n",
      "RangeIndex: 2072951 entries, 0 to 2072950\n",
      "Data columns (total 29 columns):\n",
      " #   Column                         Non-Null Count    Dtype  \n",
      "---  ------                         --------------    -----  \n",
      " 0   CRASH DATE                     2072951 non-null  object \n",
      " 1   CRASH TIME                     2072951 non-null  object \n",
      " 2   BOROUGH                        1427992 non-null  object \n",
      " 3   ZIP CODE                       1427742 non-null  object \n",
      " 4   LATITUDE                       1839466 non-null  float64\n",
      " 5   LONGITUDE                      1839466 non-null  float64\n",
      " 6   LOCATION                       1839466 non-null  object \n",
      " 7   ON STREET NAME                 1633104 non-null  object \n",
      " 8   CROSS STREET NAME              1289811 non-null  object \n",
      " 9   OFF STREET NAME                347474 non-null   object \n",
      " 10  NUMBER OF PERSONS INJURED      2072933 non-null  float64\n",
      " 11  NUMBER OF PERSONS KILLED       2072920 non-null  float64\n",
      " 12  NUMBER OF PEDESTRIANS INJURED  2072951 non-null  int64  \n",
      " 13  NUMBER OF PEDESTRIANS KILLED   2072951 non-null  int64  \n",
      " 14  NUMBER OF CYCLIST INJURED      2072951 non-null  int64  \n",
      " 15  NUMBER OF CYCLIST KILLED       2072951 non-null  int64  \n",
      " 16  NUMBER OF MOTORIST INJURED     2072951 non-null  int64  \n",
      " 17  NUMBER OF MOTORIST KILLED      2072951 non-null  int64  \n",
      " 18  CONTRIBUTING FACTOR VEHICLE 1  2066163 non-null  object \n",
      " 19  CONTRIBUTING FACTOR VEHICLE 2  1751805 non-null  object \n",
      " 20  CONTRIBUTING FACTOR VEHICLE 3  148048 non-null   object \n",
      " 21  CONTRIBUTING FACTOR VEHICLE 4  33416 non-null    object \n",
      " 22  CONTRIBUTING FACTOR VEHICLE 5  9054 non-null     object \n",
      " 23  COLLISION_ID                   2072951 non-null  int64  \n",
      " 24  VEHICLE TYPE CODE 1            2059293 non-null  object \n",
      " 25  VEHICLE TYPE CODE 2            1677090 non-null  object \n",
      " 26  VEHICLE TYPE CODE 3            142695 non-null   object \n",
      " 27  VEHICLE TYPE CODE 4            32257 non-null    object \n",
      " 28  VEHICLE TYPE CODE 5            8778 non-null     object \n",
      "dtypes: float64(4), int64(7), object(18)\n",
      "memory usage: 458.6+ MB\n"
     ]
    }
   ],
   "source": [
    "crashes.info(show_counts=True)"
   ]
  },
  {
   "cell_type": "markdown",
   "metadata": {},
   "source": [
    "We can only work with rows with non-null latitude and longitude entries."
   ]
  },
  {
   "cell_type": "code",
   "execution_count": 52,
   "metadata": {},
   "outputs": [
    {
     "name": "stdout",
     "output_type": "stream",
     "text": [
      "<class 'pandas.core.frame.DataFrame'>\n",
      "Index: 1839466 entries, 3 to 2072950\n",
      "Data columns (total 4 columns):\n",
      " #   Column      Non-Null Count    Dtype  \n",
      "---  ------      --------------    -----  \n",
      " 0   CRASH DATE  1839466 non-null  object \n",
      " 1   CRASH TIME  1839466 non-null  object \n",
      " 2   LATITUDE    1839466 non-null  float64\n",
      " 3   LONGITUDE   1839466 non-null  float64\n",
      "dtypes: float64(2), object(2)\n",
      "memory usage: 70.2+ MB\n"
     ]
    }
   ],
   "source": [
    "crashes_eda = crashes_eda.dropna(subset=[\"LONGITUDE\", \"LATITUDE\"])\n",
    "crashes_eda.info(show_counts=True)"
   ]
  },
  {
   "cell_type": "code",
   "execution_count": 53,
   "metadata": {},
   "outputs": [],
   "source": [
    "import datetime\n",
    "\n",
    "\n",
    "def create_datetime_feature(row: pd.DataFrame) -> datetime.datetime:\n",
    "    month, day, year = list(map(int, row[\"CRASH DATE\"].split(\"/\")))\n",
    "    hour, minute = list(map(int, row[\"CRASH TIME\"].split(\":\")))\n",
    "    return datetime.datetime(year, month, day, hour, minute)"
   ]
  },
  {
   "cell_type": "code",
   "execution_count": 54,
   "metadata": {},
   "outputs": [],
   "source": [
    "crashes_eda[\"DATETIME\"] = crashes_eda[[\"CRASH DATE\", \"CRASH TIME\"]].apply(\n",
    "    create_datetime_feature, axis=1\n",
    ")"
   ]
  },
  {
   "cell_type": "code",
   "execution_count": 55,
   "metadata": {},
   "outputs": [],
   "source": [
    "crashes_eda.drop(columns=[\"CRASH DATE\", \"CRASH TIME\"], inplace=True)"
   ]
  },
  {
   "cell_type": "code",
   "execution_count": 56,
   "metadata": {},
   "outputs": [],
   "source": [
    "import geopandas as gpd\n",
    "\n",
    "centerline = gpd.read_file(CENTERLINE_DATASET)\n",
    "speed_lims = gpd.read_file(SPEEDLIMS_DATASET)\n",
    "humps = gpd.read_file(HUMPS_DATASET)"
   ]
  },
  {
   "cell_type": "code",
   "execution_count": 57,
   "metadata": {},
   "outputs": [],
   "source": [
    "centerline_cols_keep = [\n",
    "    \"rw_type\",\n",
    "    \"bike_lane\",\n",
    "    \"shape_leng\",\n",
    "    \"trafdir\",\n",
    "    \"geometry\",\n",
    "    \"st_width\",\n",
    "]\n",
    "centerline = centerline[centerline_cols_keep]"
   ]
  },
  {
   "cell_type": "code",
   "execution_count": 58,
   "metadata": {},
   "outputs": [
    {
     "data": {
      "text/plain": [
       "geometry\n",
       "MULTILINESTRING ((-73.94652 40.75345, -73.9463...    2\n",
       "MULTILINESTRING ((-73.94729 40.75378, -73.9465...    2\n",
       "MULTILINESTRING ((-74.01905 40.63670, -74.0189...    2\n",
       "MULTILINESTRING ((-73.95977 40.81876, -73.9593...    2\n",
       "MULTILINESTRING ((-73.95857 40.75884, -73.9585...    2\n",
       "                                                    ..\n",
       "MULTILINESTRING ((-74.01151 40.70296, -74.0111...    1\n",
       "MULTILINESTRING ((-73.91100 40.88212, -73.9108...    1\n",
       "MULTILINESTRING ((-73.89560 40.88509, -73.8955...    1\n",
       "MULTILINESTRING ((-73.89566 40.88528, -73.8956...    1\n",
       "MULTILINESTRING ((-73.90943 40.88265, -73.9094...    1\n",
       "Name: count, Length: 121427, dtype: int64"
      ]
     },
     "execution_count": 58,
     "metadata": {},
     "output_type": "execute_result"
    }
   ],
   "source": [
    "centerline.geometry.value_counts()"
   ]
  },
  {
   "cell_type": "markdown",
   "metadata": {},
   "source": [
    "There are several duplicated roads in the `centerline` dataset. Perhaps each corresponds to a direction of traffic? For now, I will only keep the first one."
   ]
  },
  {
   "cell_type": "code",
   "execution_count": 59,
   "metadata": {},
   "outputs": [],
   "source": [
    "centerline = centerline.drop_duplicates(subset=[\"geometry\"])"
   ]
  },
  {
   "cell_type": "code",
   "execution_count": 60,
   "metadata": {},
   "outputs": [],
   "source": [
    "centerline.to_crs(NYC_EPSG, inplace=True)\n",
    "speed_lims.to_crs(NYC_EPSG, inplace=True)\n",
    "humps.to_crs(NYC_EPSG, inplace=True)\n",
    "speed_lims[\"centroid\"] = speed_lims.geometry.centroid"
   ]
  },
  {
   "cell_type": "code",
   "execution_count": 61,
   "metadata": {},
   "outputs": [],
   "source": [
    "speed_lims.rename(\n",
    "    columns={\"geometry\": \"road_geom\", \"centroid\": \"geometry\"}, inplace=True\n",
    ")"
   ]
  },
  {
   "cell_type": "code",
   "execution_count": 62,
   "metadata": {},
   "outputs": [],
   "source": [
    "centerline[\"buffered\"] = centerline.geometry.buffer(32)\n",
    "centerline.rename(\n",
    "    columns={\"geometry\": \"road_geom\", \"buffered\": \"geometry\"}, inplace=True\n",
    ")"
   ]
  },
  {
   "cell_type": "code",
   "execution_count": 63,
   "metadata": {},
   "outputs": [],
   "source": [
    "road_info = centerline.sjoin(speed_lims, how=\"left\")"
   ]
  },
  {
   "cell_type": "code",
   "execution_count": 64,
   "metadata": {},
   "outputs": [],
   "source": [
    "road_info.drop(\n",
    "    columns=[\"shape_leng_right\", \"road_geom_right\", \"index_right\"], inplace=True\n",
    ")\n",
    "road_info.rename(\n",
    "    columns={\"shape_leng_left\": \"shape_leng\", \"road_geom_left\": \"road_geom\"},\n",
    "    inplace=True,\n",
    ")"
   ]
  },
  {
   "cell_type": "code",
   "execution_count": 65,
   "metadata": {},
   "outputs": [
    {
     "name": "stdout",
     "output_type": "stream",
     "text": [
      "<class 'geopandas.geodataframe.GeoDataFrame'>\n",
      "Index: 260941 entries, 0 to 121655\n",
      "Data columns (total 10 columns):\n",
      " #   Column      Non-Null Count   Dtype   \n",
      "---  ------      --------------   -----   \n",
      " 0   rw_type     260941 non-null  object  \n",
      " 1   bike_lane   35822 non-null   object  \n",
      " 2   shape_leng  260941 non-null  object  \n",
      " 3   trafdir     260902 non-null  object  \n",
      " 4   road_geom   260941 non-null  geometry\n",
      " 5   st_width    260941 non-null  object  \n",
      " 6   geometry    260941 non-null  geometry\n",
      " 7   postvz_sg   247441 non-null  object  \n",
      " 8   postvz_sl   247441 non-null  object  \n",
      " 9   street      247441 non-null  object  \n",
      "dtypes: geometry(2), object(8)\n",
      "memory usage: 21.9+ MB\n"
     ]
    }
   ],
   "source": [
    "road_info.info()"
   ]
  },
  {
   "cell_type": "markdown",
   "metadata": {},
   "source": [
    "For the moment, I will fill null values in the speed limit column with the mode."
   ]
  },
  {
   "cell_type": "code",
   "execution_count": 66,
   "metadata": {},
   "outputs": [
    {
     "data": {
      "text/plain": [
       "'25'"
      ]
     },
     "execution_count": 66,
     "metadata": {},
     "output_type": "execute_result"
    }
   ],
   "source": [
    "speed_lim_mode = road_info.postvz_sl.mode().iloc[0]\n",
    "speed_lim_mode"
   ]
  },
  {
   "cell_type": "code",
   "execution_count": 67,
   "metadata": {},
   "outputs": [],
   "source": [
    "road_info[\"postvz_sl\"] = road_info[\"postvz_sl\"].fillna(speed_lim_mode)"
   ]
  },
  {
   "cell_type": "code",
   "execution_count": 68,
   "metadata": {},
   "outputs": [],
   "source": [
    "road_info[\"postvz_sl\"] = road_info[\"postvz_sl\"].astype(int)"
   ]
  },
  {
   "cell_type": "code",
   "execution_count": 69,
   "metadata": {},
   "outputs": [],
   "source": [
    "road_info = road_info.groupby(\n",
    "    by=[\n",
    "        \"rw_type\",\n",
    "        \"bike_lane\",\n",
    "        \"shape_leng\",\n",
    "        \"trafdir\",\n",
    "        \"geometry\",\n",
    "        \"road_geom\",\n",
    "        \"st_width\",\n",
    "    ],\n",
    "    dropna=False,\n",
    "    as_index=False,\n",
    ")[\"postvz_sl\"].mean()"
   ]
  },
  {
   "cell_type": "code",
   "execution_count": 70,
   "metadata": {},
   "outputs": [
    {
     "data": {
      "text/plain": [
       "Index(['rw_type', 'bike_lane', 'shape_leng', 'trafdir', 'geometry',\n",
       "       'road_geom', 'st_width', 'postvz_sl'],\n",
       "      dtype='object')"
      ]
     },
     "execution_count": 70,
     "metadata": {},
     "output_type": "execute_result"
    }
   ],
   "source": [
    "road_info.columns"
   ]
  },
  {
   "cell_type": "code",
   "execution_count": 71,
   "metadata": {},
   "outputs": [],
   "source": [
    "humps = humps[[\"humps\", \"geometry\"]]"
   ]
  },
  {
   "cell_type": "code",
   "execution_count": 72,
   "metadata": {},
   "outputs": [],
   "source": [
    "road_info = gpd.GeoDataFrame(road_info, geometry=road_info.geometry, crs=NYC_EPSG)"
   ]
  },
  {
   "cell_type": "code",
   "execution_count": 73,
   "metadata": {},
   "outputs": [],
   "source": [
    "humps[\"centroid\"] = humps[\"geometry\"].centroid\n",
    "humps.rename(columns={\"geometry\": \"road_geom\", \"centroid\": \"geometry\"}, inplace=True)\n",
    "humps.drop(columns=[\"road_geom\"], inplace=True)"
   ]
  },
  {
   "cell_type": "code",
   "execution_count": 74,
   "metadata": {},
   "outputs": [],
   "source": [
    "road_info = road_info.sjoin(humps, how=\"left\")"
   ]
  },
  {
   "cell_type": "code",
   "execution_count": 75,
   "metadata": {},
   "outputs": [
    {
     "name": "stdout",
     "output_type": "stream",
     "text": [
      "<class 'geopandas.geodataframe.GeoDataFrame'>\n",
      "Index: 121563 entries, 0 to 121426\n",
      "Data columns (total 10 columns):\n",
      " #   Column       Non-Null Count   Dtype   \n",
      "---  ------       --------------   -----   \n",
      " 0   rw_type      121563 non-null  object  \n",
      " 1   bike_lane    15685 non-null   object  \n",
      " 2   shape_leng   121563 non-null  object  \n",
      " 3   trafdir      121553 non-null  object  \n",
      " 4   geometry     121563 non-null  geometry\n",
      " 5   road_geom    121563 non-null  geometry\n",
      " 6   st_width     121563 non-null  object  \n",
      " 7   postvz_sl    121563 non-null  float64 \n",
      " 8   index_right  4194 non-null    float64 \n",
      " 9   humps        4194 non-null    object  \n",
      "dtypes: float64(2), geometry(2), object(6)\n",
      "memory usage: 10.2+ MB\n"
     ]
    }
   ],
   "source": [
    "road_info.info()"
   ]
  },
  {
   "cell_type": "code",
   "execution_count": 76,
   "metadata": {},
   "outputs": [
    {
     "data": {
      "text/plain": [
       "road_geom\n",
       "MULTILINESTRING ((1033693.814 151394.453, 1033...    3\n",
       "MULTILINESTRING ((1033738.440 151364.312, 1033...    3\n",
       "MULTILINESTRING ((1038917.563 153012.307, 1038...    3\n",
       "MULTILINESTRING ((1064548.187 210853.361, 1064...    3\n",
       "MULTILINESTRING ((1033281.328 151208.919, 1033...    3\n",
       "                                                    ..\n",
       "MULTILINESTRING ((1026875.484 208891.584, 1026...    1\n",
       "MULTILINESTRING ((1010806.216 218841.206, 1010...    1\n",
       "MULTILINESTRING ((982926.152 187113.168, 98295...    1\n",
       "MULTILINESTRING ((1000398.681 248722.021, 1000...    1\n",
       "MULTILINESTRING ((1039256.594 184744.169, 1039...    1\n",
       "Name: count, Length: 121427, dtype: int64"
      ]
     },
     "execution_count": 76,
     "metadata": {},
     "output_type": "execute_result"
    }
   ],
   "source": [
    "road_info.road_geom.value_counts()"
   ]
  },
  {
   "cell_type": "code",
   "execution_count": 77,
   "metadata": {},
   "outputs": [
    {
     "data": {
      "text/plain": [
       "['rw_type',\n",
       " 'bike_lane',\n",
       " 'shape_leng',\n",
       " 'trafdir',\n",
       " 'geometry',\n",
       " 'road_geom',\n",
       " 'st_width',\n",
       " 'postvz_sl']"
      ]
     },
     "execution_count": 77,
     "metadata": {},
     "output_type": "execute_result"
    }
   ],
   "source": [
    "columns_to_groupby = list(road_info.columns)\n",
    "columns_to_groupby.remove(\"index_right\")\n",
    "columns_to_groupby.remove(\"humps\")\n",
    "columns_to_groupby"
   ]
  },
  {
   "cell_type": "code",
   "execution_count": 79,
   "metadata": {},
   "outputs": [],
   "source": [
    "road_info[\"humps\"] = road_info[\"humps\"].fillna(0)\n",
    "road_info[\"humps\"] = road_info[\"humps\"].astype(float)"
   ]
  },
  {
   "cell_type": "code",
   "execution_count": 80,
   "metadata": {},
   "outputs": [],
   "source": [
    "road_info = road_info.groupby(by=columns_to_groupby, as_index=False, dropna=False)[\n",
    "    \"humps\"\n",
    "].sum()"
   ]
  },
  {
   "cell_type": "code",
   "execution_count": 82,
   "metadata": {},
   "outputs": [
    {
     "data": {
      "text/plain": [
       "humps\n",
       "0.0    117369\n",
       "1.0      2623\n",
       "2.0      1118\n",
       "3.0       189\n",
       "4.0        87\n",
       "9.0        16\n",
       "5.0         9\n",
       "8.0         8\n",
       "6.0         8\n",
       "Name: count, dtype: int64"
      ]
     },
     "execution_count": 82,
     "metadata": {},
     "output_type": "execute_result"
    }
   ],
   "source": [
    "road_info.humps.value_counts()"
   ]
  },
  {
   "cell_type": "code",
   "execution_count": 83,
   "metadata": {},
   "outputs": [],
   "source": [
    "road_info = gpd.GeoDataFrame(road_info, geometry=road_info.geometry, crs=NYC_EPSG)"
   ]
  },
  {
   "cell_type": "code",
   "execution_count": 84,
   "metadata": {},
   "outputs": [
    {
     "data": {
      "text/plain": [
       "road_geom\n",
       "MULTILINESTRING ((963341.333 173402.966, 96328...    1\n",
       "MULTILINESTRING ((1033288.969 251636.684, 1033...    1\n",
       "MULTILINESTRING ((993165.517 198810.190, 99316...    1\n",
       "MULTILINESTRING ((982782.907 198677.700, 98279...    1\n",
       "MULTILINESTRING ((934739.005 166936.419, 93474...    1\n",
       "                                                    ..\n",
       "MULTILINESTRING ((1015581.752 267292.839, 1015...    1\n",
       "MULTILINESTRING ((983378.113 198714.222, 98340...    1\n",
       "MULTILINESTRING ((983470.612 186474.070, 98351...    1\n",
       "MULTILINESTRING ((974902.903 160965.516, 97490...    1\n",
       "MULTILINESTRING ((1025923.485 240757.785, 1026...    1\n",
       "Name: count, Length: 121427, dtype: int64"
      ]
     },
     "execution_count": 84,
     "metadata": {},
     "output_type": "execute_result"
    }
   ],
   "source": [
    "road_info.road_geom.value_counts()"
   ]
  },
  {
   "cell_type": "code",
   "execution_count": 85,
   "metadata": {},
   "outputs": [
    {
     "name": "stdout",
     "output_type": "stream",
     "text": [
      "<class 'geopandas.geodataframe.GeoDataFrame'>\n",
      "RangeIndex: 121427 entries, 0 to 121426\n",
      "Data columns (total 9 columns):\n",
      " #   Column      Non-Null Count   Dtype   \n",
      "---  ------      --------------   -----   \n",
      " 0   rw_type     121427 non-null  object  \n",
      " 1   bike_lane   15670 non-null   object  \n",
      " 2   shape_leng  121427 non-null  object  \n",
      " 3   trafdir     121417 non-null  object  \n",
      " 4   geometry    121427 non-null  geometry\n",
      " 5   road_geom   121427 non-null  geometry\n",
      " 6   st_width    121427 non-null  object  \n",
      " 7   postvz_sl   121427 non-null  float64 \n",
      " 8   humps       121427 non-null  float64 \n",
      "dtypes: float64(2), geometry(2), object(5)\n",
      "memory usage: 8.3+ MB\n"
     ]
    }
   ],
   "source": [
    "road_info.info()"
   ]
  },
  {
   "cell_type": "code",
   "execution_count": 86,
   "metadata": {},
   "outputs": [],
   "source": [
    "crashes_gdf = gpd.GeoDataFrame(\n",
    "    crashes_eda,\n",
    "    geometry=gpd.points_from_xy(crashes_eda[\"LONGITUDE\"], crashes_eda[\"LATITUDE\"]),\n",
    "    crs=STD_EPSG,\n",
    ")"
   ]
  },
  {
   "cell_type": "code",
   "execution_count": 87,
   "metadata": {},
   "outputs": [],
   "source": [
    "road_info = gpd.GeoDataFrame(road_info, geometry=road_info.geometry, crs=NYC_EPSG)"
   ]
  },
  {
   "cell_type": "code",
   "execution_count": 88,
   "metadata": {},
   "outputs": [],
   "source": [
    "crashes_gdf.to_crs(NYC_EPSG, inplace=True)"
   ]
  },
  {
   "cell_type": "code",
   "execution_count": 89,
   "metadata": {},
   "outputs": [],
   "source": [
    "crashes_road = road_info.sjoin(crashes_gdf, how=\"left\")"
   ]
  },
  {
   "cell_type": "code",
   "execution_count": 90,
   "metadata": {},
   "outputs": [
    {
     "name": "stdout",
     "output_type": "stream",
     "text": [
      "<class 'geopandas.geodataframe.GeoDataFrame'>\n",
      "Index: 6254343 entries, 0 to 121426\n",
      "Data columns (total 13 columns):\n",
      " #   Column       Non-Null Count    Dtype         \n",
      "---  ------       --------------    -----         \n",
      " 0   rw_type      6254343 non-null  object        \n",
      " 1   bike_lane    1268397 non-null  object        \n",
      " 2   shape_leng   6254343 non-null  object        \n",
      " 3   trafdir      6253803 non-null  object        \n",
      " 4   geometry     6254343 non-null  geometry      \n",
      " 5   road_geom    6254343 non-null  geometry      \n",
      " 6   st_width     6254343 non-null  object        \n",
      " 7   postvz_sl    6254343 non-null  float64       \n",
      " 8   humps        6254343 non-null  float64       \n",
      " 9   index_right  6231038 non-null  float64       \n",
      " 10  LATITUDE     6231038 non-null  float64       \n",
      " 11  LONGITUDE    6231038 non-null  float64       \n",
      " 12  DATETIME     6231038 non-null  datetime64[ns]\n",
      "dtypes: datetime64[ns](1), float64(5), geometry(2), object(5)\n",
      "memory usage: 668.0+ MB\n"
     ]
    }
   ],
   "source": [
    "crashes_road.info(show_counts=True)"
   ]
  },
  {
   "cell_type": "code",
   "execution_count": 91,
   "metadata": {},
   "outputs": [],
   "source": [
    "crashes_road.drop(columns=[\"index_right\"], inplace=True)"
   ]
  },
  {
   "cell_type": "code",
   "execution_count": 92,
   "metadata": {},
   "outputs": [],
   "source": [
    "crashes_road.reset_index(inplace=True)\n",
    "crashes_road.drop(columns=[\"index\"], inplace=True)"
   ]
  },
  {
   "cell_type": "code",
   "execution_count": 93,
   "metadata": {},
   "outputs": [],
   "source": [
    "del crashes_gdf, crashes_eda, humps, road_info, centerline"
   ]
  },
  {
   "cell_type": "code",
   "execution_count": 94,
   "metadata": {},
   "outputs": [
    {
     "data": {
      "text/html": [
       "<div>\n",
       "<style scoped>\n",
       "    .dataframe tbody tr th:only-of-type {\n",
       "        vertical-align: middle;\n",
       "    }\n",
       "\n",
       "    .dataframe tbody tr th {\n",
       "        vertical-align: top;\n",
       "    }\n",
       "\n",
       "    .dataframe thead th {\n",
       "        text-align: right;\n",
       "    }\n",
       "</style>\n",
       "<table border=\"1\" class=\"dataframe\">\n",
       "  <thead>\n",
       "    <tr style=\"text-align: right;\">\n",
       "      <th></th>\n",
       "      <th>rw_type</th>\n",
       "      <th>bike_lane</th>\n",
       "      <th>shape_leng</th>\n",
       "      <th>trafdir</th>\n",
       "      <th>geometry</th>\n",
       "      <th>road_geom</th>\n",
       "      <th>st_width</th>\n",
       "      <th>postvz_sl</th>\n",
       "      <th>humps</th>\n",
       "      <th>LATITUDE</th>\n",
       "      <th>LONGITUDE</th>\n",
       "      <th>DATETIME</th>\n",
       "    </tr>\n",
       "  </thead>\n",
       "  <tbody>\n",
       "    <tr>\n",
       "      <th>0</th>\n",
       "      <td>1</td>\n",
       "      <td>1</td>\n",
       "      <td>10.4998278111</td>\n",
       "      <td>TF</td>\n",
       "      <td>POLYGON ((993192.181 198789.615, 993190.989 19...</td>\n",
       "      <td>MULTILINESTRING ((993165.517 198810.190, 99316...</td>\n",
       "      <td>40.0</td>\n",
       "      <td>25.0</td>\n",
       "      <td>0.0</td>\n",
       "      <td>NaN</td>\n",
       "      <td>NaN</td>\n",
       "      <td>NaT</td>\n",
       "    </tr>\n",
       "    <tr>\n",
       "      <th>1</th>\n",
       "      <td>1</td>\n",
       "      <td>1</td>\n",
       "      <td>10.5782844295</td>\n",
       "      <td>FT</td>\n",
       "      <td>POLYGON ((982795.001 198709.159, 982798.126 19...</td>\n",
       "      <td>MULTILINESTRING ((982782.907 198677.700, 98279...</td>\n",
       "      <td>30.0</td>\n",
       "      <td>27.5</td>\n",
       "      <td>0.0</td>\n",
       "      <td>40.711998</td>\n",
       "      <td>-74.005264</td>\n",
       "      <td>2021-07-25 12:23:00</td>\n",
       "    </tr>\n",
       "    <tr>\n",
       "      <th>2</th>\n",
       "      <td>1</td>\n",
       "      <td>1</td>\n",
       "      <td>10.5782844295</td>\n",
       "      <td>FT</td>\n",
       "      <td>POLYGON ((982795.001 198709.159, 982798.126 19...</td>\n",
       "      <td>MULTILINESTRING ((982782.907 198677.700, 98279...</td>\n",
       "      <td>30.0</td>\n",
       "      <td>27.5</td>\n",
       "      <td>0.0</td>\n",
       "      <td>40.711998</td>\n",
       "      <td>-74.005264</td>\n",
       "      <td>2022-02-03 14:13:00</td>\n",
       "    </tr>\n",
       "    <tr>\n",
       "      <th>3</th>\n",
       "      <td>1</td>\n",
       "      <td>1</td>\n",
       "      <td>10.5782844295</td>\n",
       "      <td>FT</td>\n",
       "      <td>POLYGON ((982795.001 198709.159, 982798.126 19...</td>\n",
       "      <td>MULTILINESTRING ((982782.907 198677.700, 98279...</td>\n",
       "      <td>30.0</td>\n",
       "      <td>27.5</td>\n",
       "      <td>0.0</td>\n",
       "      <td>40.711998</td>\n",
       "      <td>-74.005264</td>\n",
       "      <td>2022-02-17 04:46:00</td>\n",
       "    </tr>\n",
       "    <tr>\n",
       "      <th>4</th>\n",
       "      <td>1</td>\n",
       "      <td>1</td>\n",
       "      <td>10.5782844295</td>\n",
       "      <td>FT</td>\n",
       "      <td>POLYGON ((982795.001 198709.159, 982798.126 19...</td>\n",
       "      <td>MULTILINESTRING ((982782.907 198677.700, 98279...</td>\n",
       "      <td>30.0</td>\n",
       "      <td>27.5</td>\n",
       "      <td>0.0</td>\n",
       "      <td>40.711998</td>\n",
       "      <td>-74.005264</td>\n",
       "      <td>2023-09-25 20:45:00</td>\n",
       "    </tr>\n",
       "  </tbody>\n",
       "</table>\n",
       "</div>"
      ],
      "text/plain": [
       "  rw_type bike_lane     shape_leng trafdir  \\\n",
       "0       1         1  10.4998278111      TF   \n",
       "1       1         1  10.5782844295      FT   \n",
       "2       1         1  10.5782844295      FT   \n",
       "3       1         1  10.5782844295      FT   \n",
       "4       1         1  10.5782844295      FT   \n",
       "\n",
       "                                            geometry  \\\n",
       "0  POLYGON ((993192.181 198789.615, 993190.989 19...   \n",
       "1  POLYGON ((982795.001 198709.159, 982798.126 19...   \n",
       "2  POLYGON ((982795.001 198709.159, 982798.126 19...   \n",
       "3  POLYGON ((982795.001 198709.159, 982798.126 19...   \n",
       "4  POLYGON ((982795.001 198709.159, 982798.126 19...   \n",
       "\n",
       "                                           road_geom st_width  postvz_sl  \\\n",
       "0  MULTILINESTRING ((993165.517 198810.190, 99316...     40.0       25.0   \n",
       "1  MULTILINESTRING ((982782.907 198677.700, 98279...     30.0       27.5   \n",
       "2  MULTILINESTRING ((982782.907 198677.700, 98279...     30.0       27.5   \n",
       "3  MULTILINESTRING ((982782.907 198677.700, 98279...     30.0       27.5   \n",
       "4  MULTILINESTRING ((982782.907 198677.700, 98279...     30.0       27.5   \n",
       "\n",
       "   humps   LATITUDE  LONGITUDE            DATETIME  \n",
       "0    0.0        NaN        NaN                 NaT  \n",
       "1    0.0  40.711998 -74.005264 2021-07-25 12:23:00  \n",
       "2    0.0  40.711998 -74.005264 2022-02-03 14:13:00  \n",
       "3    0.0  40.711998 -74.005264 2022-02-17 04:46:00  \n",
       "4    0.0  40.711998 -74.005264 2023-09-25 20:45:00  "
      ]
     },
     "execution_count": 94,
     "metadata": {},
     "output_type": "execute_result"
    }
   ],
   "source": [
    "crashes_road.head()"
   ]
  },
  {
   "cell_type": "code",
   "execution_count": 95,
   "metadata": {},
   "outputs": [],
   "source": [
    "crashes_road[\"month\"] = crashes_road.DATETIME.apply(lambda o: o.month)"
   ]
  },
  {
   "cell_type": "code",
   "execution_count": 96,
   "metadata": {},
   "outputs": [],
   "source": [
    "crashes_road[\"hour\"] = crashes_road.DATETIME.apply(lambda o: o.hour)"
   ]
  },
  {
   "cell_type": "code",
   "execution_count": 97,
   "metadata": {},
   "outputs": [],
   "source": [
    "crashes_road[\"year\"] = crashes_road.DATETIME.apply(lambda o: o.year)"
   ]
  },
  {
   "cell_type": "code",
   "execution_count": 98,
   "metadata": {},
   "outputs": [
    {
     "name": "stdout",
     "output_type": "stream",
     "text": [
      "<class 'geopandas.geodataframe.GeoDataFrame'>\n",
      "RangeIndex: 6254343 entries, 0 to 6254342\n",
      "Data columns (total 15 columns):\n",
      " #   Column      Non-Null Count    Dtype         \n",
      "---  ------      --------------    -----         \n",
      " 0   rw_type     6254343 non-null  object        \n",
      " 1   bike_lane   1268397 non-null  object        \n",
      " 2   shape_leng  6254343 non-null  object        \n",
      " 3   trafdir     6253803 non-null  object        \n",
      " 4   geometry    6254343 non-null  geometry      \n",
      " 5   road_geom   6254343 non-null  geometry      \n",
      " 6   st_width    6254343 non-null  object        \n",
      " 7   postvz_sl   6254343 non-null  float64       \n",
      " 8   humps       6254343 non-null  float64       \n",
      " 9   LATITUDE    6231038 non-null  float64       \n",
      " 10  LONGITUDE   6231038 non-null  float64       \n",
      " 11  DATETIME    6231038 non-null  datetime64[ns]\n",
      " 12  month       6231038 non-null  float64       \n",
      " 13  hour        6231038 non-null  float64       \n",
      " 14  year        6231038 non-null  float64       \n",
      "dtypes: datetime64[ns](1), float64(7), geometry(2), object(5)\n",
      "memory usage: 715.8+ MB\n"
     ]
    }
   ],
   "source": [
    "crashes_road.info(show_counts=True)"
   ]
  },
  {
   "cell_type": "code",
   "execution_count": 99,
   "metadata": {},
   "outputs": [
    {
     "data": {
      "text/plain": [
       "<Axes: xlabel='month', ylabel='hour'>"
      ]
     },
     "execution_count": 99,
     "metadata": {},
     "output_type": "execute_result"
    },
    {
     "data": {
      "image/png": "[encoded data removed]",
      "text/plain": [
       "<Figure size 1500x500 with 1 Axes>"
      ]
     },
     "metadata": {},
     "output_type": "display_data"
    }
   ],
   "source": [
    "import seaborn as sns\n",
    "import matplotlib.pyplot as plt\n",
    "\n",
    "plt.figure(figsize=(15, 5))\n",
    "sns.violinplot(\n",
    "    crashes_road.dropna(subset=[\"month\"]), x=\"month\", y=\"hour\", bw_adjust=1.5\n",
    ")"
   ]
  },
  {
   "cell_type": "markdown",
   "metadata": {},
   "source": [
    "The distribution of crashes in NYC during the day does not change much from month to month, but it is clear that there are more crashes during peak times."
   ]
  },
  {
   "cell_type": "code",
   "execution_count": 100,
   "metadata": {},
   "outputs": [
    {
     "data": {
      "text/plain": [
       "142"
      ]
     },
     "execution_count": 100,
     "metadata": {},
     "output_type": "execute_result"
    }
   ],
   "source": [
    "number_of_months = len(crashes_road[[\"month\", \"year\"]].drop_duplicates())\n",
    "number_of_months"
   ]
  },
  {
   "cell_type": "code",
   "execution_count": 101,
   "metadata": {},
   "outputs": [],
   "source": [
    "crashes_road.columns\n",
    "columns_to_grouby = [\n",
    "    \"rw_type\",\n",
    "    \"bike_lane\",\n",
    "    \"shape_leng\",\n",
    "    \"trafdir\",\n",
    "    \"geometry\",\n",
    "    \"road_geom\",\n",
    "    \"st_width\",\n",
    "    \"postvz_sl\",\n",
    "    \"humps\",\n",
    "    \"hour\",\n",
    "]"
   ]
  },
  {
   "cell_type": "code",
   "execution_count": 102,
   "metadata": {},
   "outputs": [],
   "source": [
    "crashes_road[\"crashes\"] = crashes_road.hour.apply(lambda o: not np.isnan(o))"
   ]
  },
  {
   "cell_type": "code",
   "execution_count": 103,
   "metadata": {},
   "outputs": [],
   "source": [
    "crashes_road_hour_count = crashes_road.groupby(\n",
    "    by=columns_to_grouby, as_index=False, dropna=False\n",
    ")[\"crashes\"].sum()"
   ]
  },
  {
   "cell_type": "code",
   "execution_count": 104,
   "metadata": {},
   "outputs": [],
   "source": [
    "del crashes_road"
   ]
  },
  {
   "cell_type": "code",
   "execution_count": 105,
   "metadata": {},
   "outputs": [
    {
     "data": {
      "text/html": [
       "<div>\n",
       "<style scoped>\n",
       "    .dataframe tbody tr th:only-of-type {\n",
       "        vertical-align: middle;\n",
       "    }\n",
       "\n",
       "    .dataframe tbody tr th {\n",
       "        vertical-align: top;\n",
       "    }\n",
       "\n",
       "    .dataframe thead th {\n",
       "        text-align: right;\n",
       "    }\n",
       "</style>\n",
       "<table border=\"1\" class=\"dataframe\">\n",
       "  <thead>\n",
       "    <tr style=\"text-align: right;\">\n",
       "      <th></th>\n",
       "      <th>rw_type</th>\n",
       "      <th>bike_lane</th>\n",
       "      <th>shape_leng</th>\n",
       "      <th>trafdir</th>\n",
       "      <th>geometry</th>\n",
       "      <th>road_geom</th>\n",
       "      <th>st_width</th>\n",
       "      <th>postvz_sl</th>\n",
       "      <th>humps</th>\n",
       "      <th>hour</th>\n",
       "      <th>crashes</th>\n",
       "    </tr>\n",
       "  </thead>\n",
       "  <tbody>\n",
       "    <tr>\n",
       "      <th>970261</th>\n",
       "      <td>1</td>\n",
       "      <td>NaN</td>\n",
       "      <td>474.559662707</td>\n",
       "      <td>TW</td>\n",
       "      <td>POLYGON ((1012988.272 185000.542, 1012988.723 ...</td>\n",
       "      <td>MULTILINESTRING ((1012865.703 185460.115, 1012...</td>\n",
       "      <td>60.0</td>\n",
       "      <td>25.0</td>\n",
       "      <td>0.0</td>\n",
       "      <td>16.0</td>\n",
       "      <td>124</td>\n",
       "    </tr>\n",
       "    <tr>\n",
       "      <th>1127121</th>\n",
       "      <td>1</td>\n",
       "      <td>NaN</td>\n",
       "      <td>6528.61031702</td>\n",
       "      <td>TW</td>\n",
       "      <td>POLYGON ((1019937.337 260087.035, 1019937.418 ...</td>\n",
       "      <td>MULTILINESTRING ((1019758.386 259418.315, 1019...</td>\n",
       "      <td>54.0</td>\n",
       "      <td>25.0</td>\n",
       "      <td>0.0</td>\n",
       "      <td>8.0</td>\n",
       "      <td>122</td>\n",
       "    </tr>\n",
       "    <tr>\n",
       "      <th>1183010</th>\n",
       "      <td>1</td>\n",
       "      <td>NaN</td>\n",
       "      <td>718.071632481</td>\n",
       "      <td>FT</td>\n",
       "      <td>POLYGON ((994151.618 216413.573, 994154.291 21...</td>\n",
       "      <td>MULTILINESTRING ((993507.232 216732.034, 99413...</td>\n",
       "      <td>35.0</td>\n",
       "      <td>25.0</td>\n",
       "      <td>0.0</td>\n",
       "      <td>17.0</td>\n",
       "      <td>120</td>\n",
       "    </tr>\n",
       "    <tr>\n",
       "      <th>1127130</th>\n",
       "      <td>1</td>\n",
       "      <td>NaN</td>\n",
       "      <td>6528.61031702</td>\n",
       "      <td>TW</td>\n",
       "      <td>POLYGON ((1019937.337 260087.035, 1019937.418 ...</td>\n",
       "      <td>MULTILINESTRING ((1019758.386 259418.315, 1019...</td>\n",
       "      <td>54.0</td>\n",
       "      <td>25.0</td>\n",
       "      <td>0.0</td>\n",
       "      <td>17.0</td>\n",
       "      <td>116</td>\n",
       "    </tr>\n",
       "    <tr>\n",
       "      <th>1022766</th>\n",
       "      <td>1</td>\n",
       "      <td>NaN</td>\n",
       "      <td>524.287333558</td>\n",
       "      <td>TW</td>\n",
       "      <td>POLYGON ((1012888.646 185509.624, 1012889.094 ...</td>\n",
       "      <td>MULTILINESTRING ((1012757.078 186018.143, 1012...</td>\n",
       "      <td>60.0</td>\n",
       "      <td>25.0</td>\n",
       "      <td>0.0</td>\n",
       "      <td>16.0</td>\n",
       "      <td>110</td>\n",
       "    </tr>\n",
       "    <tr>\n",
       "      <th>...</th>\n",
       "      <td>...</td>\n",
       "      <td>...</td>\n",
       "      <td>...</td>\n",
       "      <td>...</td>\n",
       "      <td>...</td>\n",
       "      <td>...</td>\n",
       "      <td>...</td>\n",
       "      <td>...</td>\n",
       "      <td>...</td>\n",
       "      <td>...</td>\n",
       "      <td>...</td>\n",
       "    </tr>\n",
       "    <tr>\n",
       "      <th>1428137</th>\n",
       "      <td>8</td>\n",
       "      <td>NaN</td>\n",
       "      <td>109.35064386</td>\n",
       "      <td>TW</td>\n",
       "      <td>POLYGON ((1047880.540 191150.009, 1047852.751 ...</td>\n",
       "      <td>MULTILINESTRING ((1047883.568 191212.696, 1047...</td>\n",
       "      <td>24.0</td>\n",
       "      <td>25.0</td>\n",
       "      <td>0.0</td>\n",
       "      <td>NaN</td>\n",
       "      <td>0</td>\n",
       "    </tr>\n",
       "    <tr>\n",
       "      <th>1428138</th>\n",
       "      <td>8</td>\n",
       "      <td>NaN</td>\n",
       "      <td>1096.35845777</td>\n",
       "      <td>TW</td>\n",
       "      <td>POLYGON ((929568.749 150840.832, 929565.612 15...</td>\n",
       "      <td>MULTILINESTRING ((930665.015 150875.870, 92956...</td>\n",
       "      <td>46.0</td>\n",
       "      <td>25.0</td>\n",
       "      <td>0.0</td>\n",
       "      <td>NaN</td>\n",
       "      <td>0</td>\n",
       "    </tr>\n",
       "    <tr>\n",
       "      <th>1428140</th>\n",
       "      <td>8</td>\n",
       "      <td>NaN</td>\n",
       "      <td>111.206388612</td>\n",
       "      <td>TW</td>\n",
       "      <td>POLYGON ((963410.107 166583.696, 963412.807 16...</td>\n",
       "      <td>MULTILINESTRING ((963412.444 166543.028, 96343...</td>\n",
       "      <td>20.0</td>\n",
       "      <td>25.0</td>\n",
       "      <td>0.0</td>\n",
       "      <td>NaN</td>\n",
       "      <td>0</td>\n",
       "    </tr>\n",
       "    <tr>\n",
       "      <th>1428141</th>\n",
       "      <td>8</td>\n",
       "      <td>NaN</td>\n",
       "      <td>111.515275033</td>\n",
       "      <td>TW</td>\n",
       "      <td>POLYGON ((1016050.739 146141.524, 1016053.778 ...</td>\n",
       "      <td>MULTILINESTRING ((1015953.941 146077.573, 1016...</td>\n",
       "      <td>12.0</td>\n",
       "      <td>25.0</td>\n",
       "      <td>0.0</td>\n",
       "      <td>NaN</td>\n",
       "      <td>0</td>\n",
       "    </tr>\n",
       "    <tr>\n",
       "      <th>1428105</th>\n",
       "      <td>8</td>\n",
       "      <td>NaN</td>\n",
       "      <td>101.074443694</td>\n",
       "      <td>TW</td>\n",
       "      <td>POLYGON ((1017779.598 186634.700, 1017782.712 ...</td>\n",
       "      <td>MULTILINESTRING ((1017685.824 186585.238, 1017...</td>\n",
       "      <td>10.0</td>\n",
       "      <td>25.0</td>\n",
       "      <td>0.0</td>\n",
       "      <td>NaN</td>\n",
       "      <td>0</td>\n",
       "    </tr>\n",
       "  </tbody>\n",
       "</table>\n",
       "<p>1451521 rows × 11 columns</p>\n",
       "</div>"
      ],
      "text/plain": [
       "        rw_type bike_lane     shape_leng trafdir  \\\n",
       "970261        1       NaN  474.559662707      TW   \n",
       "1127121       1       NaN  6528.61031702      TW   \n",
       "1183010       1       NaN  718.071632481      FT   \n",
       "1127130       1       NaN  6528.61031702      TW   \n",
       "1022766       1       NaN  524.287333558      TW   \n",
       "...         ...       ...            ...     ...   \n",
       "1428137       8       NaN   109.35064386      TW   \n",
       "1428138       8       NaN  1096.35845777      TW   \n",
       "1428140       8       NaN  111.206388612      TW   \n",
       "1428141       8       NaN  111.515275033      TW   \n",
       "1428105       8       NaN  101.074443694      TW   \n",
       "\n",
       "                                                  geometry  \\\n",
       "970261   POLYGON ((1012988.272 185000.542, 1012988.723 ...   \n",
       "1127121  POLYGON ((1019937.337 260087.035, 1019937.418 ...   \n",
       "1183010  POLYGON ((994151.618 216413.573, 994154.291 21...   \n",
       "1127130  POLYGON ((1019937.337 260087.035, 1019937.418 ...   \n",
       "1022766  POLYGON ((1012888.646 185509.624, 1012889.094 ...   \n",
       "...                                                    ...   \n",
       "1428137  POLYGON ((1047880.540 191150.009, 1047852.751 ...   \n",
       "1428138  POLYGON ((929568.749 150840.832, 929565.612 15...   \n",
       "1428140  POLYGON ((963410.107 166583.696, 963412.807 16...   \n",
       "1428141  POLYGON ((1016050.739 146141.524, 1016053.778 ...   \n",
       "1428105  POLYGON ((1017779.598 186634.700, 1017782.712 ...   \n",
       "\n",
       "                                                 road_geom st_width  \\\n",
       "970261   MULTILINESTRING ((1012865.703 185460.115, 1012...     60.0   \n",
       "1127121  MULTILINESTRING ((1019758.386 259418.315, 1019...     54.0   \n",
       "1183010  MULTILINESTRING ((993507.232 216732.034, 99413...     35.0   \n",
       "1127130  MULTILINESTRING ((1019758.386 259418.315, 1019...     54.0   \n",
       "1022766  MULTILINESTRING ((1012757.078 186018.143, 1012...     60.0   \n",
       "...                                                    ...      ...   \n",
       "1428137  MULTILINESTRING ((1047883.568 191212.696, 1047...     24.0   \n",
       "1428138  MULTILINESTRING ((930665.015 150875.870, 92956...     46.0   \n",
       "1428140  MULTILINESTRING ((963412.444 166543.028, 96343...     20.0   \n",
       "1428141  MULTILINESTRING ((1015953.941 146077.573, 1016...     12.0   \n",
       "1428105  MULTILINESTRING ((1017685.824 186585.238, 1017...     10.0   \n",
       "\n",
       "         postvz_sl  humps  hour  crashes  \n",
       "970261        25.0    0.0  16.0      124  \n",
       "1127121       25.0    0.0   8.0      122  \n",
       "1183010       25.0    0.0  17.0      120  \n",
       "1127130       25.0    0.0  17.0      116  \n",
       "1022766       25.0    0.0  16.0      110  \n",
       "...            ...    ...   ...      ...  \n",
       "1428137       25.0    0.0   NaN        0  \n",
       "1428138       25.0    0.0   NaN        0  \n",
       "1428140       25.0    0.0   NaN        0  \n",
       "1428141       25.0    0.0   NaN        0  \n",
       "1428105       25.0    0.0   NaN        0  \n",
       "\n",
       "[1451521 rows x 11 columns]"
      ]
     },
     "execution_count": 105,
     "metadata": {},
     "output_type": "execute_result"
    }
   ],
   "source": [
    "crashes_road_hour_count.sort_values(\"crashes\", ascending=False)"
   ]
  },
  {
   "cell_type": "code",
   "execution_count": 106,
   "metadata": {},
   "outputs": [],
   "source": [
    "crashes_road_hour_count[\"crashes\"] = (\n",
    "    crashes_road_hour_count[\"crashes\"] / number_of_months\n",
    ")"
   ]
  },
  {
   "cell_type": "code",
   "execution_count": 107,
   "metadata": {},
   "outputs": [],
   "source": [
    "crashes_road_hour_count.drop(columns=[\"geometry\", \"road_geom\"]).to_csv(\n",
    "    \"./data/crashes_avg.csv\", index=False\n",
    ")"
   ]
  },
  {
   "cell_type": "markdown",
   "metadata": {},
   "source": [
    "#### Further comments"
   ]
  },
  {
   "cell_type": "markdown",
   "metadata": {},
   "source": [
    "- Not all streets will have data for all times of the day. We may want to think about whether we should add one row per hour per street. The new added rows will have 0 crashes. "
   ]
  }
 ],
 "metadata": {
  "kernelspec": {
   "display_name": "erdos_sp_2024",
   "language": "python",
   "name": "python3"
  },
  "language_info": {
   "codemirror_mode": {
    "name": "ipython",
    "version": 3
   },
   "file_extension": ".py",
   "mimetype": "text/x-python",
   "name": "python",
   "nbconvert_exporter": "python",
   "pygments_lexer": "ipython3",
   "version": "3.11.7"
  }
 },
 "nbformat": 4,
 "nbformat_minor": 2
}

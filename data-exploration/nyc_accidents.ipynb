{
 "cells": [
  {
   "cell_type": "markdown",
   "metadata": {},
   "source": [
    "## Creating a dataset"
   ]
  },
  {
   "cell_type": "markdown",
   "metadata": {},
   "source": [
    "The main purpose of this notebook is to combine a few datasets of interest to our project into a single one with the aim of creating a minimal working example and a baseline model. I had to make some options throughout the process, and some have some shortcomings that we will have to address. For instance, I am using all the data available for a given street when creating a model, but some features of a street change with time (perhaps some speed humps were installed last year in the street we are studying). Any model based on the dataset created in this notebook will ignore this considerations. "
   ]
  },
  {
   "cell_type": "markdown",
   "metadata": {},
   "source": [
    "The baseline model and MWE will both try to estimate the number of crashes occurring in a given street of NYC, at a given time of day during the period of one month.\n",
    "\n",
    "The only data sources used were the ones from the NYC OpenData project. The datasets are directly loaded into memory at the start of the notebook. I used GeoPandas to join these atasets. Joining by the road name is not reliable, as the road names are not uniform across different datasets. (They are not even uniform WITHIN the crash dataset.) Moreover, not all datasets include road names."
   ]
  },
  {
   "cell_type": "markdown",
   "metadata": {},
   "source": [
    "One thing that I want to do soon is to create a class with methods that streamline this whole data engineering process. At the moment, it is rather cumbersome to use this notebook for data wrangling. A centralized set of methods to reduce boilerplate code would likely improve our efficiency."
   ]
  },
  {
   "cell_type": "code",
   "execution_count": 1,
   "metadata": {},
   "outputs": [],
   "source": [
    "import geopandas as gpd\n",
    "import pandas as pd\n",
    "import numpy as np"
   ]
  },
  {
   "cell_type": "code",
   "execution_count": 2,
   "metadata": {},
   "outputs": [],
   "source": [
    "CRASHES_ENDPOINT = \"h9gi-nx95\"\n",
    "CENTERLINE_ENDPOINT = \"8rma-cm9c\"\n",
    "SPEEDLIMITS_ENDPOINT = \"iw2g-2u2i\"\n",
    "SPEEDHUMPS_ENDPOINT = \"5z7h-pt8n\""
   ]
  },
  {
   "cell_type": "code",
   "execution_count": 3,
   "metadata": {},
   "outputs": [],
   "source": [
    "from data_downloader import OpenDataDownloader\n",
    "from dotenv import load_dotenv\n",
    "import os\n",
    "\n",
    "load_dotenv()\n",
    "\n",
    "nyc_app_token = os.getenv(\"NYC_OPENDATA_APPTOKEN\")\n",
    "\n",
    "data_loader = OpenDataDownloader(nyc_app_token)"
   ]
  },
  {
   "cell_type": "code",
   "execution_count": 4,
   "metadata": {},
   "outputs": [],
   "source": [
    "crashes = data_loader.load_data(CRASHES_ENDPOINT, limit=3000000)"
   ]
  },
  {
   "cell_type": "code",
   "execution_count": 5,
   "metadata": {},
   "outputs": [],
   "source": [
    "NYC_EPSG = \"EPSG:2263\"\n",
    "STD_EPSG = \"EPSG:4326\"\n",
    "\n",
    "centerline = data_loader.load_geo_dataframe(\n",
    "    CENTERLINE_ENDPOINT, geometry_column=\"the_geom\", limit=3000000, to_crs=NYC_EPSG\n",
    ")\n",
    "speed_lims = data_loader.load_geo_dataframe(\n",
    "    SPEEDLIMITS_ENDPOINT, geometry_column=\"the_geom\", limit=3000000, to_crs=NYC_EPSG\n",
    ")\n",
    "humps = data_loader.load_geo_dataframe(\n",
    "    SPEEDHUMPS_ENDPOINT, geometry_column=\"the_geom\", limit=3000000, to_crs=NYC_EPSG\n",
    ")"
   ]
  },
  {
   "cell_type": "code",
   "execution_count": 6,
   "metadata": {},
   "outputs": [
    {
     "data": {
      "text/html": [
       "<div>\n",
       "<style scoped>\n",
       "    .dataframe tbody tr th:only-of-type {\n",
       "        vertical-align: middle;\n",
       "    }\n",
       "\n",
       "    .dataframe tbody tr th {\n",
       "        vertical-align: top;\n",
       "    }\n",
       "\n",
       "    .dataframe thead th {\n",
       "        text-align: right;\n",
       "    }\n",
       "</style>\n",
       "<table border=\"1\" class=\"dataframe\">\n",
       "  <thead>\n",
       "    <tr style=\"text-align: right;\">\n",
       "      <th></th>\n",
       "      <th>crash_date</th>\n",
       "      <th>crash_time</th>\n",
       "      <th>on_street_name</th>\n",
       "      <th>off_street_name</th>\n",
       "      <th>number_of_persons_injured</th>\n",
       "      <th>number_of_persons_killed</th>\n",
       "      <th>number_of_pedestrians_injured</th>\n",
       "      <th>number_of_pedestrians_killed</th>\n",
       "      <th>number_of_cyclist_injured</th>\n",
       "      <th>number_of_cyclist_killed</th>\n",
       "      <th>...</th>\n",
       "      <th>latitude</th>\n",
       "      <th>longitude</th>\n",
       "      <th>location</th>\n",
       "      <th>cross_street_name</th>\n",
       "      <th>contributing_factor_vehicle_3</th>\n",
       "      <th>vehicle_type_code_3</th>\n",
       "      <th>contributing_factor_vehicle_4</th>\n",
       "      <th>vehicle_type_code_4</th>\n",
       "      <th>contributing_factor_vehicle_5</th>\n",
       "      <th>vehicle_type_code_5</th>\n",
       "    </tr>\n",
       "  </thead>\n",
       "  <tbody>\n",
       "    <tr>\n",
       "      <th>0</th>\n",
       "      <td>2021-09-11T00:00:00.000</td>\n",
       "      <td>2:39</td>\n",
       "      <td>WHITESTONE EXPRESSWAY</td>\n",
       "      <td>20 AVENUE</td>\n",
       "      <td>2</td>\n",
       "      <td>0</td>\n",
       "      <td>0</td>\n",
       "      <td>0</td>\n",
       "      <td>0</td>\n",
       "      <td>0</td>\n",
       "      <td>...</td>\n",
       "      <td>NaN</td>\n",
       "      <td>NaN</td>\n",
       "      <td>NaN</td>\n",
       "      <td>NaN</td>\n",
       "      <td>NaN</td>\n",
       "      <td>NaN</td>\n",
       "      <td>NaN</td>\n",
       "      <td>NaN</td>\n",
       "      <td>NaN</td>\n",
       "      <td>NaN</td>\n",
       "    </tr>\n",
       "    <tr>\n",
       "      <th>1</th>\n",
       "      <td>2022-03-26T00:00:00.000</td>\n",
       "      <td>11:45</td>\n",
       "      <td>QUEENSBORO BRIDGE UPPER</td>\n",
       "      <td>NaN</td>\n",
       "      <td>1</td>\n",
       "      <td>0</td>\n",
       "      <td>0</td>\n",
       "      <td>0</td>\n",
       "      <td>0</td>\n",
       "      <td>0</td>\n",
       "      <td>...</td>\n",
       "      <td>NaN</td>\n",
       "      <td>NaN</td>\n",
       "      <td>NaN</td>\n",
       "      <td>NaN</td>\n",
       "      <td>NaN</td>\n",
       "      <td>NaN</td>\n",
       "      <td>NaN</td>\n",
       "      <td>NaN</td>\n",
       "      <td>NaN</td>\n",
       "      <td>NaN</td>\n",
       "    </tr>\n",
       "    <tr>\n",
       "      <th>2</th>\n",
       "      <td>2022-06-29T00:00:00.000</td>\n",
       "      <td>6:55</td>\n",
       "      <td>THROGS NECK BRIDGE</td>\n",
       "      <td>NaN</td>\n",
       "      <td>0</td>\n",
       "      <td>0</td>\n",
       "      <td>0</td>\n",
       "      <td>0</td>\n",
       "      <td>0</td>\n",
       "      <td>0</td>\n",
       "      <td>...</td>\n",
       "      <td>NaN</td>\n",
       "      <td>NaN</td>\n",
       "      <td>NaN</td>\n",
       "      <td>NaN</td>\n",
       "      <td>NaN</td>\n",
       "      <td>NaN</td>\n",
       "      <td>NaN</td>\n",
       "      <td>NaN</td>\n",
       "      <td>NaN</td>\n",
       "      <td>NaN</td>\n",
       "    </tr>\n",
       "    <tr>\n",
       "      <th>3</th>\n",
       "      <td>2021-09-11T00:00:00.000</td>\n",
       "      <td>9:35</td>\n",
       "      <td>NaN</td>\n",
       "      <td>NaN</td>\n",
       "      <td>0</td>\n",
       "      <td>0</td>\n",
       "      <td>0</td>\n",
       "      <td>0</td>\n",
       "      <td>0</td>\n",
       "      <td>0</td>\n",
       "      <td>...</td>\n",
       "      <td>40.667202</td>\n",
       "      <td>-73.8665</td>\n",
       "      <td>{'latitude': '40.667202', 'longitude': '-73.86...</td>\n",
       "      <td>1211      LORING AVENUE</td>\n",
       "      <td>NaN</td>\n",
       "      <td>NaN</td>\n",
       "      <td>NaN</td>\n",
       "      <td>NaN</td>\n",
       "      <td>NaN</td>\n",
       "      <td>NaN</td>\n",
       "    </tr>\n",
       "    <tr>\n",
       "      <th>4</th>\n",
       "      <td>2021-12-14T00:00:00.000</td>\n",
       "      <td>8:13</td>\n",
       "      <td>SARATOGA AVENUE</td>\n",
       "      <td>DECATUR STREET</td>\n",
       "      <td>0</td>\n",
       "      <td>0</td>\n",
       "      <td>0</td>\n",
       "      <td>0</td>\n",
       "      <td>0</td>\n",
       "      <td>0</td>\n",
       "      <td>...</td>\n",
       "      <td>40.683304</td>\n",
       "      <td>-73.917274</td>\n",
       "      <td>{'latitude': '40.683304', 'longitude': '-73.91...</td>\n",
       "      <td>NaN</td>\n",
       "      <td>NaN</td>\n",
       "      <td>NaN</td>\n",
       "      <td>NaN</td>\n",
       "      <td>NaN</td>\n",
       "      <td>NaN</td>\n",
       "      <td>NaN</td>\n",
       "    </tr>\n",
       "  </tbody>\n",
       "</table>\n",
       "<p>5 rows × 29 columns</p>\n",
       "</div>"
      ],
      "text/plain": [
       "                crash_date crash_time           on_street_name  \\\n",
       "0  2021-09-11T00:00:00.000       2:39    WHITESTONE EXPRESSWAY   \n",
       "1  2022-03-26T00:00:00.000      11:45  QUEENSBORO BRIDGE UPPER   \n",
       "2  2022-06-29T00:00:00.000       6:55       THROGS NECK BRIDGE   \n",
       "3  2021-09-11T00:00:00.000       9:35                      NaN   \n",
       "4  2021-12-14T00:00:00.000       8:13          SARATOGA AVENUE   \n",
       "\n",
       "  off_street_name number_of_persons_injured number_of_persons_killed  \\\n",
       "0       20 AVENUE                         2                        0   \n",
       "1             NaN                         1                        0   \n",
       "2             NaN                         0                        0   \n",
       "3             NaN                         0                        0   \n",
       "4  DECATUR STREET                         0                        0   \n",
       "\n",
       "  number_of_pedestrians_injured number_of_pedestrians_killed  \\\n",
       "0                             0                            0   \n",
       "1                             0                            0   \n",
       "2                             0                            0   \n",
       "3                             0                            0   \n",
       "4                             0                            0   \n",
       "\n",
       "  number_of_cyclist_injured number_of_cyclist_killed  ...   latitude  \\\n",
       "0                         0                        0  ...        NaN   \n",
       "1                         0                        0  ...        NaN   \n",
       "2                         0                        0  ...        NaN   \n",
       "3                         0                        0  ...  40.667202   \n",
       "4                         0                        0  ...  40.683304   \n",
       "\n",
       "    longitude                                           location  \\\n",
       "0         NaN                                                NaN   \n",
       "1         NaN                                                NaN   \n",
       "2         NaN                                                NaN   \n",
       "3    -73.8665  {'latitude': '40.667202', 'longitude': '-73.86...   \n",
       "4  -73.917274  {'latitude': '40.683304', 'longitude': '-73.91...   \n",
       "\n",
       "         cross_street_name contributing_factor_vehicle_3 vehicle_type_code_3  \\\n",
       "0                      NaN                           NaN                 NaN   \n",
       "1                      NaN                           NaN                 NaN   \n",
       "2                      NaN                           NaN                 NaN   \n",
       "3  1211      LORING AVENUE                           NaN                 NaN   \n",
       "4                      NaN                           NaN                 NaN   \n",
       "\n",
       "  contributing_factor_vehicle_4 vehicle_type_code_4  \\\n",
       "0                           NaN                 NaN   \n",
       "1                           NaN                 NaN   \n",
       "2                           NaN                 NaN   \n",
       "3                           NaN                 NaN   \n",
       "4                           NaN                 NaN   \n",
       "\n",
       "  contributing_factor_vehicle_5 vehicle_type_code_5  \n",
       "0                           NaN                 NaN  \n",
       "1                           NaN                 NaN  \n",
       "2                           NaN                 NaN  \n",
       "3                           NaN                 NaN  \n",
       "4                           NaN                 NaN  \n",
       "\n",
       "[5 rows x 29 columns]"
      ]
     },
     "execution_count": 6,
     "metadata": {},
     "output_type": "execute_result"
    }
   ],
   "source": [
    "crashes.head()"
   ]
  },
  {
   "cell_type": "markdown",
   "metadata": {},
   "source": [
    "For the sake of this example, I will only keep a few columns. There are several other features of this dataset that we may be interested about. For instance, we may want to know how many people died in a given car crash so that we can rank each in terms of its severity."
   ]
  },
  {
   "cell_type": "code",
   "execution_count": 7,
   "metadata": {},
   "outputs": [],
   "source": [
    "columns_to_keep = [\"crash_date\", \"crash_time\", \"latitude\", \"longitude\"]"
   ]
  },
  {
   "cell_type": "code",
   "execution_count": 8,
   "metadata": {},
   "outputs": [],
   "source": [
    "crashes = crashes[columns_to_keep]"
   ]
  },
  {
   "cell_type": "markdown",
   "metadata": {},
   "source": [
    "We can only work with rows with non-null latitude and longitude entries."
   ]
  },
  {
   "cell_type": "code",
   "execution_count": 9,
   "metadata": {},
   "outputs": [
    {
     "name": "stdout",
     "output_type": "stream",
     "text": [
      "<class 'pandas.core.frame.DataFrame'>\n",
      "Index: 1840116 entries, 3 to 2073638\n",
      "Data columns (total 4 columns):\n",
      " #   Column      Non-Null Count    Dtype \n",
      "---  ------      --------------    ----- \n",
      " 0   crash_date  1840116 non-null  object\n",
      " 1   crash_time  1840116 non-null  object\n",
      " 2   latitude    1840116 non-null  object\n",
      " 3   longitude   1840116 non-null  object\n",
      "dtypes: object(4)\n",
      "memory usage: 70.2+ MB\n"
     ]
    }
   ],
   "source": [
    "crashes = crashes.dropna(subset=[\"longitude\", \"latitude\"])\n",
    "crashes.info(show_counts=True)"
   ]
  },
  {
   "cell_type": "code",
   "execution_count": 10,
   "metadata": {},
   "outputs": [],
   "source": [
    "crashes_gdf = gpd.GeoDataFrame(\n",
    "    crashes,\n",
    "    geometry=gpd.points_from_xy(crashes[\"longitude\"], crashes[\"latitude\"]),\n",
    "    crs=STD_EPSG,\n",
    ")\n",
    "\n",
    "crashes_gdf.to_crs(NYC_EPSG, inplace=True)"
   ]
  },
  {
   "cell_type": "code",
   "execution_count": 11,
   "metadata": {},
   "outputs": [],
   "source": [
    "del crashes"
   ]
  },
  {
   "cell_type": "code",
   "execution_count": 17,
   "metadata": {},
   "outputs": [],
   "source": [
    "import datetime\n",
    "\n",
    "\n",
    "def create_datetime_feature(row: pd.DataFrame) -> datetime.datetime:\n",
    "    year, month, day = list(map(int, row[\"crash_date\"].split(\"T\")[0].split(\"-\")))\n",
    "    hour, minute = list(map(int, row[\"crash_time\"].split(\":\")))\n",
    "    return datetime.datetime(year, month, day, hour, minute)"
   ]
  },
  {
   "cell_type": "code",
   "execution_count": 18,
   "metadata": {},
   "outputs": [],
   "source": [
    "crashes_gdf[\"datetime\"] = crashes_gdf[[\"crash_date\", \"crash_time\"]].apply(\n",
    "    create_datetime_feature, axis=1\n",
    ")"
   ]
  },
  {
   "cell_type": "code",
   "execution_count": 20,
   "metadata": {},
   "outputs": [],
   "source": [
    "crashes_gdf.drop(columns=[\"crash_date\", \"crash_time\"], inplace=True)"
   ]
  },
  {
   "cell_type": "code",
   "execution_count": 21,
   "metadata": {},
   "outputs": [],
   "source": [
    "centerline_cols_keep = [\n",
    "    \"rw_type\",\n",
    "    \"bike_lane\",\n",
    "    \"shape_leng\",\n",
    "    \"trafdir\",\n",
    "    \"geometry\",\n",
    "    \"st_width\",\n",
    "]\n",
    "centerline = centerline[centerline_cols_keep]"
   ]
  },
  {
   "cell_type": "code",
   "execution_count": 22,
   "metadata": {},
   "outputs": [
    {
     "data": {
      "text/plain": [
       "geometry\n",
       "MULTILINESTRING ((1020363.754 220509.997, 1020...    2\n",
       "MULTILINESTRING ((995384.564 237575.420, 99550...    2\n",
       "MULTILINESTRING ((995508.586 237801.167, 99563...    2\n",
       "MULTILINESTRING ((995634.569 238028.993, 99575...    2\n",
       "MULTILINESTRING ((995222.714 237284.193, 99525...    2\n",
       "                                                    ..\n",
       "MULTILINESTRING ((980967.070 191446.957, 98088...    1\n",
       "MULTILINESTRING ((959813.450 174070.377, 95979...    1\n",
       "MULTILINESTRING ((993185.034 232807.373, 99318...    1\n",
       "MULTILINESTRING ((997111.937 235749.663, 99710...    1\n",
       "MULTILINESTRING ((1009309.441 248021.379, 1009...    1\n",
       "Name: count, Length: 121678, dtype: int64"
      ]
     },
     "execution_count": 22,
     "metadata": {},
     "output_type": "execute_result"
    }
   ],
   "source": [
    "centerline.geometry.value_counts()"
   ]
  },
  {
   "cell_type": "markdown",
   "metadata": {},
   "source": [
    "There are several duplicated roads in the `centerline` dataset. Perhaps each corresponds to a direction of traffic? For now, I will only keep the first copy."
   ]
  },
  {
   "cell_type": "code",
   "execution_count": 23,
   "metadata": {},
   "outputs": [],
   "source": [
    "centerline = centerline.drop_duplicates(subset=[\"geometry\"])"
   ]
  },
  {
   "cell_type": "code",
   "execution_count": 24,
   "metadata": {},
   "outputs": [],
   "source": [
    "speed_lims[\"centroid\"] = speed_lims.geometry.centroid"
   ]
  },
  {
   "cell_type": "code",
   "execution_count": 25,
   "metadata": {},
   "outputs": [],
   "source": [
    "speed_lims.rename(\n",
    "    columns={\"geometry\": \"road_geom\", \"centroid\": \"geometry\"}, inplace=True\n",
    ")"
   ]
  },
  {
   "cell_type": "code",
   "execution_count": 26,
   "metadata": {},
   "outputs": [],
   "source": [
    "centerline[\"buffered\"] = centerline.geometry.buffer(32)\n",
    "centerline.rename(\n",
    "    columns={\"geometry\": \"road_geom\", \"buffered\": \"geometry\"}, inplace=True\n",
    ")"
   ]
  },
  {
   "cell_type": "code",
   "execution_count": 27,
   "metadata": {},
   "outputs": [],
   "source": [
    "road_info = centerline.sjoin(speed_lims, how=\"left\")"
   ]
  },
  {
   "cell_type": "code",
   "execution_count": 28,
   "metadata": {},
   "outputs": [],
   "source": [
    "road_info.drop(\n",
    "    columns=[\"shape_leng_right\", \"road_geom_right\", \"index_right\"], inplace=True\n",
    ")\n",
    "road_info.rename(\n",
    "    columns={\"shape_leng_left\": \"shape_leng\", \"road_geom_left\": \"road_geom\"},\n",
    "    inplace=True,\n",
    ")"
   ]
  },
  {
   "cell_type": "code",
   "execution_count": 29,
   "metadata": {},
   "outputs": [
    {
     "name": "stdout",
     "output_type": "stream",
     "text": [
      "<class 'geopandas.geodataframe.GeoDataFrame'>\n",
      "Index: 261196 entries, 0 to 121905\n",
      "Data columns (total 10 columns):\n",
      " #   Column      Non-Null Count   Dtype   \n",
      "---  ------      --------------   -----   \n",
      " 0   rw_type     261196 non-null  object  \n",
      " 1   bike_lane   35825 non-null   object  \n",
      " 2   shape_leng  261196 non-null  object  \n",
      " 3   trafdir     261157 non-null  object  \n",
      " 4   road_geom   261196 non-null  geometry\n",
      " 5   st_width    261196 non-null  object  \n",
      " 6   geometry    261196 non-null  geometry\n",
      " 7   street      247500 non-null  object  \n",
      " 8   postvz_sl   247500 non-null  object  \n",
      " 9   postvz_sg   247500 non-null  object  \n",
      "dtypes: geometry(2), object(8)\n",
      "memory usage: 21.9+ MB\n"
     ]
    }
   ],
   "source": [
    "road_info.info()"
   ]
  },
  {
   "cell_type": "markdown",
   "metadata": {},
   "source": [
    "For the moment, I will fill null values in the speed limit column with the mode."
   ]
  },
  {
   "cell_type": "code",
   "execution_count": 30,
   "metadata": {},
   "outputs": [
    {
     "data": {
      "text/plain": [
       "'25'"
      ]
     },
     "execution_count": 30,
     "metadata": {},
     "output_type": "execute_result"
    }
   ],
   "source": [
    "speed_lim_mode = road_info.postvz_sl.mode().iloc[0]\n",
    "speed_lim_mode"
   ]
  },
  {
   "cell_type": "code",
   "execution_count": 31,
   "metadata": {},
   "outputs": [],
   "source": [
    "road_info[\"postvz_sl\"] = road_info[\"postvz_sl\"].fillna(speed_lim_mode)"
   ]
  },
  {
   "cell_type": "code",
   "execution_count": 32,
   "metadata": {},
   "outputs": [],
   "source": [
    "road_info[\"postvz_sl\"] = road_info[\"postvz_sl\"].astype(int)"
   ]
  },
  {
   "cell_type": "code",
   "execution_count": 33,
   "metadata": {},
   "outputs": [],
   "source": [
    "road_info = road_info.groupby(\n",
    "    by=[\n",
    "        \"rw_type\",\n",
    "        \"bike_lane\",\n",
    "        \"shape_leng\",\n",
    "        \"trafdir\",\n",
    "        \"geometry\",\n",
    "        \"road_geom\",\n",
    "        \"st_width\",\n",
    "    ],\n",
    "    dropna=False,\n",
    "    as_index=False,\n",
    ")[\"postvz_sl\"].mean()"
   ]
  },
  {
   "cell_type": "code",
   "execution_count": 34,
   "metadata": {},
   "outputs": [
    {
     "data": {
      "text/plain": [
       "Index(['rw_type', 'bike_lane', 'shape_leng', 'trafdir', 'geometry',\n",
       "       'road_geom', 'st_width', 'postvz_sl'],\n",
       "      dtype='object')"
      ]
     },
     "execution_count": 34,
     "metadata": {},
     "output_type": "execute_result"
    }
   ],
   "source": [
    "road_info.columns"
   ]
  },
  {
   "cell_type": "code",
   "execution_count": 35,
   "metadata": {},
   "outputs": [],
   "source": [
    "humps = humps[[\"humps\", \"geometry\"]]"
   ]
  },
  {
   "cell_type": "code",
   "execution_count": 36,
   "metadata": {},
   "outputs": [],
   "source": [
    "# Group bys turn geo dataframes into regular dataframes\n",
    "\n",
    "road_info = gpd.GeoDataFrame(road_info, geometry=road_info.geometry, crs=NYC_EPSG)"
   ]
  },
  {
   "cell_type": "code",
   "execution_count": 37,
   "metadata": {},
   "outputs": [],
   "source": [
    "humps[\"centroid\"] = humps[\"geometry\"].centroid\n",
    "humps.rename(columns={\"geometry\": \"road_geom\", \"centroid\": \"geometry\"}, inplace=True)\n",
    "humps.drop(columns=[\"road_geom\"], inplace=True)"
   ]
  },
  {
   "cell_type": "code",
   "execution_count": 38,
   "metadata": {},
   "outputs": [],
   "source": [
    "road_info = road_info.sjoin(humps, how=\"left\")"
   ]
  },
  {
   "cell_type": "code",
   "execution_count": 39,
   "metadata": {},
   "outputs": [
    {
     "name": "stdout",
     "output_type": "stream",
     "text": [
      "<class 'geopandas.geodataframe.GeoDataFrame'>\n",
      "Index: 121814 entries, 0 to 121677\n",
      "Data columns (total 10 columns):\n",
      " #   Column       Non-Null Count   Dtype   \n",
      "---  ------       --------------   -----   \n",
      " 0   rw_type      121814 non-null  object  \n",
      " 1   bike_lane    15688 non-null   object  \n",
      " 2   shape_leng   121814 non-null  object  \n",
      " 3   trafdir      121804 non-null  object  \n",
      " 4   geometry     121814 non-null  geometry\n",
      " 5   road_geom    121814 non-null  geometry\n",
      " 6   st_width     121814 non-null  object  \n",
      " 7   postvz_sl    121814 non-null  float64 \n",
      " 8   index_right  4195 non-null    float64 \n",
      " 9   humps        4195 non-null    object  \n",
      "dtypes: float64(2), geometry(2), object(6)\n",
      "memory usage: 10.2+ MB\n"
     ]
    }
   ],
   "source": [
    "road_info.info()"
   ]
  },
  {
   "cell_type": "code",
   "execution_count": 40,
   "metadata": {},
   "outputs": [
    {
     "data": {
      "text/plain": [
       "road_geom\n",
       "MULTILINESTRING ((1038682.193 153036.382, 1038...    3\n",
       "MULTILINESTRING ((1033263.313 151248.859, 1033...    3\n",
       "MULTILINESTRING ((1038917.563 153012.307, 1038...    3\n",
       "MULTILINESTRING ((989093.930 202786.694, 98946...    3\n",
       "MULTILINESTRING ((1033263.313 151248.859, 1033...    3\n",
       "                                                    ..\n",
       "MULTILINESTRING ((991015.416 200270.174, 99113...    1\n",
       "MULTILINESTRING ((1026875.484 208891.584, 1026...    1\n",
       "MULTILINESTRING ((1010806.216 218841.206, 1010...    1\n",
       "MULTILINESTRING ((982926.152 187113.168, 98295...    1\n",
       "MULTILINESTRING ((1025371.127 214004.434, 1025...    1\n",
       "Name: count, Length: 121678, dtype: int64"
      ]
     },
     "execution_count": 40,
     "metadata": {},
     "output_type": "execute_result"
    }
   ],
   "source": [
    "road_info.road_geom.value_counts()"
   ]
  },
  {
   "cell_type": "code",
   "execution_count": 41,
   "metadata": {},
   "outputs": [
    {
     "data": {
      "text/plain": [
       "['rw_type',\n",
       " 'bike_lane',\n",
       " 'shape_leng',\n",
       " 'trafdir',\n",
       " 'geometry',\n",
       " 'road_geom',\n",
       " 'st_width',\n",
       " 'postvz_sl']"
      ]
     },
     "execution_count": 41,
     "metadata": {},
     "output_type": "execute_result"
    }
   ],
   "source": [
    "columns_to_groupby = list(road_info.columns)\n",
    "columns_to_groupby.remove(\"index_right\")\n",
    "columns_to_groupby.remove(\"humps\")\n",
    "columns_to_groupby"
   ]
  },
  {
   "cell_type": "code",
   "execution_count": 42,
   "metadata": {},
   "outputs": [],
   "source": [
    "road_info[\"humps\"] = road_info[\"humps\"].fillna(0)\n",
    "road_info[\"humps\"] = road_info[\"humps\"].astype(float)"
   ]
  },
  {
   "cell_type": "code",
   "execution_count": 43,
   "metadata": {},
   "outputs": [],
   "source": [
    "road_info = road_info.groupby(by=columns_to_groupby, as_index=False, dropna=False)[\n",
    "    \"humps\"\n",
    "].sum()"
   ]
  },
  {
   "cell_type": "code",
   "execution_count": 44,
   "metadata": {},
   "outputs": [
    {
     "data": {
      "text/plain": [
       "humps\n",
       "0.0    117619\n",
       "1.0      2623\n",
       "2.0      1119\n",
       "3.0       189\n",
       "4.0        87\n",
       "9.0        16\n",
       "5.0         9\n",
       "8.0         8\n",
       "6.0         8\n",
       "Name: count, dtype: int64"
      ]
     },
     "execution_count": 44,
     "metadata": {},
     "output_type": "execute_result"
    }
   ],
   "source": [
    "road_info.humps.value_counts()"
   ]
  },
  {
   "cell_type": "code",
   "execution_count": 45,
   "metadata": {},
   "outputs": [],
   "source": [
    "road_info = gpd.GeoDataFrame(road_info, geometry=road_info.geometry, crs=NYC_EPSG)"
   ]
  },
  {
   "cell_type": "code",
   "execution_count": 46,
   "metadata": {},
   "outputs": [
    {
     "data": {
      "text/plain": [
       "road_geom\n",
       "MULTILINESTRING ((979522.293 189565.875, 97863...    1\n",
       "MULTILINESTRING ((1033288.969 251636.684, 1033...    1\n",
       "MULTILINESTRING ((993165.517 198810.190, 99316...    1\n",
       "MULTILINESTRING ((982782.907 198677.700, 98279...    1\n",
       "MULTILINESTRING ((934739.005 166936.419, 93474...    1\n",
       "                                                    ..\n",
       "MULTILINESTRING ((1015581.752 267292.839, 1015...    1\n",
       "MULTILINESTRING ((983378.113 198714.222, 98340...    1\n",
       "MULTILINESTRING ((983470.612 186474.070, 98351...    1\n",
       "MULTILINESTRING ((974902.903 160965.516, 97490...    1\n",
       "MULTILINESTRING ((1025923.485 240757.785, 1026...    1\n",
       "Name: count, Length: 121678, dtype: int64"
      ]
     },
     "execution_count": 46,
     "metadata": {},
     "output_type": "execute_result"
    }
   ],
   "source": [
    "road_info.road_geom.value_counts()"
   ]
  },
  {
   "cell_type": "code",
   "execution_count": 47,
   "metadata": {},
   "outputs": [
    {
     "name": "stdout",
     "output_type": "stream",
     "text": [
      "<class 'geopandas.geodataframe.GeoDataFrame'>\n",
      "RangeIndex: 121678 entries, 0 to 121677\n",
      "Data columns (total 9 columns):\n",
      " #   Column      Non-Null Count   Dtype   \n",
      "---  ------      --------------   -----   \n",
      " 0   rw_type     121678 non-null  object  \n",
      " 1   bike_lane   15673 non-null   object  \n",
      " 2   shape_leng  121678 non-null  object  \n",
      " 3   trafdir     121668 non-null  object  \n",
      " 4   geometry    121678 non-null  geometry\n",
      " 5   road_geom   121678 non-null  geometry\n",
      " 6   st_width    121678 non-null  object  \n",
      " 7   postvz_sl   121678 non-null  float64 \n",
      " 8   humps       121678 non-null  float64 \n",
      "dtypes: float64(2), geometry(2), object(5)\n",
      "memory usage: 8.4+ MB\n"
     ]
    }
   ],
   "source": [
    "road_info.info()"
   ]
  },
  {
   "cell_type": "code",
   "execution_count": 48,
   "metadata": {},
   "outputs": [],
   "source": [
    "road_info = gpd.GeoDataFrame(road_info, geometry=road_info.geometry, crs=NYC_EPSG)"
   ]
  },
  {
   "cell_type": "code",
   "execution_count": 49,
   "metadata": {},
   "outputs": [],
   "source": [
    "crashes_road = road_info.sjoin(crashes_gdf, how=\"left\")"
   ]
  },
  {
   "cell_type": "code",
   "execution_count": 50,
   "metadata": {},
   "outputs": [
    {
     "name": "stdout",
     "output_type": "stream",
     "text": [
      "<class 'geopandas.geodataframe.GeoDataFrame'>\n",
      "Index: 6257156 entries, 0 to 121677\n",
      "Data columns (total 13 columns):\n",
      " #   Column       Non-Null Count    Dtype         \n",
      "---  ------       --------------    -----         \n",
      " 0   rw_type      6257156 non-null  object        \n",
      " 1   bike_lane    1268856 non-null  object        \n",
      " 2   shape_leng   6257156 non-null  object        \n",
      " 3   trafdir      6256616 non-null  object        \n",
      " 4   geometry     6257156 non-null  geometry      \n",
      " 5   road_geom    6257156 non-null  geometry      \n",
      " 6   st_width     6257156 non-null  object        \n",
      " 7   postvz_sl    6257156 non-null  float64       \n",
      " 8   humps        6257156 non-null  float64       \n",
      " 9   index_right  6233710 non-null  float64       \n",
      " 10  latitude     6233710 non-null  object        \n",
      " 11  longitude    6233710 non-null  object        \n",
      " 12  datetime     6233710 non-null  datetime64[ns]\n",
      "dtypes: datetime64[ns](1), float64(3), geometry(2), object(7)\n",
      "memory usage: 668.3+ MB\n"
     ]
    }
   ],
   "source": [
    "crashes_road.info(show_counts=True)"
   ]
  },
  {
   "cell_type": "code",
   "execution_count": 51,
   "metadata": {},
   "outputs": [],
   "source": [
    "crashes_road.drop(columns=[\"index_right\"], inplace=True)"
   ]
  },
  {
   "cell_type": "code",
   "execution_count": 52,
   "metadata": {},
   "outputs": [],
   "source": [
    "crashes_road.reset_index(inplace=True)\n",
    "crashes_road.drop(columns=[\"index\"], inplace=True)"
   ]
  },
  {
   "cell_type": "code",
   "execution_count": 53,
   "metadata": {},
   "outputs": [],
   "source": [
    "del crashes_gdf, humps, road_info, centerline"
   ]
  },
  {
   "cell_type": "code",
   "execution_count": 54,
   "metadata": {},
   "outputs": [
    {
     "data": {
      "text/html": [
       "<div>\n",
       "<style scoped>\n",
       "    .dataframe tbody tr th:only-of-type {\n",
       "        vertical-align: middle;\n",
       "    }\n",
       "\n",
       "    .dataframe tbody tr th {\n",
       "        vertical-align: top;\n",
       "    }\n",
       "\n",
       "    .dataframe thead th {\n",
       "        text-align: right;\n",
       "    }\n",
       "</style>\n",
       "<table border=\"1\" class=\"dataframe\">\n",
       "  <thead>\n",
       "    <tr style=\"text-align: right;\">\n",
       "      <th></th>\n",
       "      <th>rw_type</th>\n",
       "      <th>bike_lane</th>\n",
       "      <th>shape_leng</th>\n",
       "      <th>trafdir</th>\n",
       "      <th>geometry</th>\n",
       "      <th>road_geom</th>\n",
       "      <th>st_width</th>\n",
       "      <th>postvz_sl</th>\n",
       "      <th>humps</th>\n",
       "      <th>latitude</th>\n",
       "      <th>longitude</th>\n",
       "      <th>datetime</th>\n",
       "    </tr>\n",
       "  </thead>\n",
       "  <tbody>\n",
       "    <tr>\n",
       "      <th>0</th>\n",
       "      <td>1</td>\n",
       "      <td>1</td>\n",
       "      <td>10.4998278111</td>\n",
       "      <td>TF</td>\n",
       "      <td>POLYGON ((993192.181 198789.615, 993190.989 19...</td>\n",
       "      <td>MULTILINESTRING ((993165.517 198810.190, 99316...</td>\n",
       "      <td>40.0</td>\n",
       "      <td>25.0</td>\n",
       "      <td>0.0</td>\n",
       "      <td>NaN</td>\n",
       "      <td>NaN</td>\n",
       "      <td>NaT</td>\n",
       "    </tr>\n",
       "    <tr>\n",
       "      <th>1</th>\n",
       "      <td>1</td>\n",
       "      <td>1</td>\n",
       "      <td>10.5782844295</td>\n",
       "      <td>FT</td>\n",
       "      <td>POLYGON ((982795.001 198709.159, 982798.126 19...</td>\n",
       "      <td>MULTILINESTRING ((982782.907 198677.700, 98279...</td>\n",
       "      <td>30.0</td>\n",
       "      <td>27.5</td>\n",
       "      <td>0.0</td>\n",
       "      <td>40.711998</td>\n",
       "      <td>-74.005264</td>\n",
       "      <td>2021-07-25 12:23:00</td>\n",
       "    </tr>\n",
       "    <tr>\n",
       "      <th>2</th>\n",
       "      <td>1</td>\n",
       "      <td>1</td>\n",
       "      <td>10.5782844295</td>\n",
       "      <td>FT</td>\n",
       "      <td>POLYGON ((982795.001 198709.159, 982798.126 19...</td>\n",
       "      <td>MULTILINESTRING ((982782.907 198677.700, 98279...</td>\n",
       "      <td>30.0</td>\n",
       "      <td>27.5</td>\n",
       "      <td>0.0</td>\n",
       "      <td>40.711998</td>\n",
       "      <td>-74.005264</td>\n",
       "      <td>2023-09-25 20:45:00</td>\n",
       "    </tr>\n",
       "    <tr>\n",
       "      <th>3</th>\n",
       "      <td>1</td>\n",
       "      <td>1</td>\n",
       "      <td>10.5782844295</td>\n",
       "      <td>FT</td>\n",
       "      <td>POLYGON ((982795.001 198709.159, 982798.126 19...</td>\n",
       "      <td>MULTILINESTRING ((982782.907 198677.700, 98279...</td>\n",
       "      <td>30.0</td>\n",
       "      <td>27.5</td>\n",
       "      <td>0.0</td>\n",
       "      <td>40.711998</td>\n",
       "      <td>-74.005264</td>\n",
       "      <td>2022-02-17 04:46:00</td>\n",
       "    </tr>\n",
       "    <tr>\n",
       "      <th>4</th>\n",
       "      <td>1</td>\n",
       "      <td>1</td>\n",
       "      <td>10.5782844295</td>\n",
       "      <td>FT</td>\n",
       "      <td>POLYGON ((982795.001 198709.159, 982798.126 19...</td>\n",
       "      <td>MULTILINESTRING ((982782.907 198677.700, 98279...</td>\n",
       "      <td>30.0</td>\n",
       "      <td>27.5</td>\n",
       "      <td>0.0</td>\n",
       "      <td>40.711998</td>\n",
       "      <td>-74.005264</td>\n",
       "      <td>2022-02-03 14:13:00</td>\n",
       "    </tr>\n",
       "  </tbody>\n",
       "</table>\n",
       "</div>"
      ],
      "text/plain": [
       "  rw_type bike_lane     shape_leng trafdir  \\\n",
       "0       1         1  10.4998278111      TF   \n",
       "1       1         1  10.5782844295      FT   \n",
       "2       1         1  10.5782844295      FT   \n",
       "3       1         1  10.5782844295      FT   \n",
       "4       1         1  10.5782844295      FT   \n",
       "\n",
       "                                            geometry  \\\n",
       "0  POLYGON ((993192.181 198789.615, 993190.989 19...   \n",
       "1  POLYGON ((982795.001 198709.159, 982798.126 19...   \n",
       "2  POLYGON ((982795.001 198709.159, 982798.126 19...   \n",
       "3  POLYGON ((982795.001 198709.159, 982798.126 19...   \n",
       "4  POLYGON ((982795.001 198709.159, 982798.126 19...   \n",
       "\n",
       "                                           road_geom st_width  postvz_sl  \\\n",
       "0  MULTILINESTRING ((993165.517 198810.190, 99316...     40.0       25.0   \n",
       "1  MULTILINESTRING ((982782.907 198677.700, 98279...     30.0       27.5   \n",
       "2  MULTILINESTRING ((982782.907 198677.700, 98279...     30.0       27.5   \n",
       "3  MULTILINESTRING ((982782.907 198677.700, 98279...     30.0       27.5   \n",
       "4  MULTILINESTRING ((982782.907 198677.700, 98279...     30.0       27.5   \n",
       "\n",
       "   humps   latitude   longitude            datetime  \n",
       "0    0.0        NaN         NaN                 NaT  \n",
       "1    0.0  40.711998  -74.005264 2021-07-25 12:23:00  \n",
       "2    0.0  40.711998  -74.005264 2023-09-25 20:45:00  \n",
       "3    0.0  40.711998  -74.005264 2022-02-17 04:46:00  \n",
       "4    0.0  40.711998  -74.005264 2022-02-03 14:13:00  "
      ]
     },
     "execution_count": 54,
     "metadata": {},
     "output_type": "execute_result"
    }
   ],
   "source": [
    "crashes_road.head()"
   ]
  },
  {
   "cell_type": "code",
   "execution_count": 56,
   "metadata": {},
   "outputs": [],
   "source": [
    "crashes_road[\"month\"] = crashes_road.datetime.apply(lambda o: o.month)"
   ]
  },
  {
   "cell_type": "code",
   "execution_count": 57,
   "metadata": {},
   "outputs": [],
   "source": [
    "crashes_road[\"hour\"] = crashes_road.datetime.apply(lambda o: o.hour)"
   ]
  },
  {
   "cell_type": "code",
   "execution_count": 58,
   "metadata": {},
   "outputs": [],
   "source": [
    "crashes_road[\"year\"] = crashes_road.datetime.apply(lambda o: o.year)"
   ]
  },
  {
   "cell_type": "code",
   "execution_count": 59,
   "metadata": {},
   "outputs": [
    {
     "name": "stdout",
     "output_type": "stream",
     "text": [
      "<class 'geopandas.geodataframe.GeoDataFrame'>\n",
      "RangeIndex: 6257156 entries, 0 to 6257155\n",
      "Data columns (total 15 columns):\n",
      " #   Column      Non-Null Count    Dtype         \n",
      "---  ------      --------------    -----         \n",
      " 0   rw_type     6257156 non-null  object        \n",
      " 1   bike_lane   1268856 non-null  object        \n",
      " 2   shape_leng  6257156 non-null  object        \n",
      " 3   trafdir     6256616 non-null  object        \n",
      " 4   geometry    6257156 non-null  geometry      \n",
      " 5   road_geom   6257156 non-null  geometry      \n",
      " 6   st_width    6257156 non-null  object        \n",
      " 7   postvz_sl   6257156 non-null  float64       \n",
      " 8   humps       6257156 non-null  float64       \n",
      " 9   latitude    6233710 non-null  object        \n",
      " 10  longitude   6233710 non-null  object        \n",
      " 11  datetime    6233710 non-null  datetime64[ns]\n",
      " 12  month       6233710 non-null  float64       \n",
      " 13  hour        6233710 non-null  float64       \n",
      " 14  year        6233710 non-null  float64       \n",
      "dtypes: datetime64[ns](1), float64(5), geometry(2), object(7)\n",
      "memory usage: 716.1+ MB\n"
     ]
    }
   ],
   "source": [
    "crashes_road.info(show_counts=True)"
   ]
  },
  {
   "cell_type": "code",
   "execution_count": 60,
   "metadata": {},
   "outputs": [
    {
     "data": {
      "text/plain": [
       "<Axes: xlabel='month', ylabel='hour'>"
      ]
     },
     "execution_count": 60,
     "metadata": {},
     "output_type": "execute_result"
    },
    {
     "data": {
      "image/png": "[encoded data removed]",
      "text/plain": [
       "<Figure size 1500x500 with 1 Axes>"
      ]
     },
     "metadata": {},
     "output_type": "display_data"
    }
   ],
   "source": [
    "import seaborn as sns\n",
    "import matplotlib.pyplot as plt\n",
    "\n",
    "plt.figure(figsize=(15, 5))\n",
    "sns.violinplot(\n",
    "    crashes_road.dropna(subset=[\"month\"]), x=\"month\", y=\"hour\", bw_adjust=1.5\n",
    ")"
   ]
  },
  {
   "cell_type": "markdown",
   "metadata": {},
   "source": [
    "The distribution of crashes in NYC during the day does not change much from month to month, but it is clear that there are more crashes during peak times."
   ]
  },
  {
   "cell_type": "code",
   "execution_count": 61,
   "metadata": {},
   "outputs": [
    {
     "data": {
      "text/plain": [
       "142"
      ]
     },
     "execution_count": 61,
     "metadata": {},
     "output_type": "execute_result"
    }
   ],
   "source": [
    "number_of_months = len(crashes_road[[\"month\", \"year\"]].drop_duplicates())\n",
    "number_of_months"
   ]
  },
  {
   "cell_type": "code",
   "execution_count": 62,
   "metadata": {},
   "outputs": [],
   "source": [
    "crashes_road.columns\n",
    "columns_to_grouby = [\n",
    "    \"rw_type\",\n",
    "    \"bike_lane\",\n",
    "    \"shape_leng\",\n",
    "    \"trafdir\",\n",
    "    \"geometry\",\n",
    "    \"road_geom\",\n",
    "    \"st_width\",\n",
    "    \"postvz_sl\",\n",
    "    \"humps\",\n",
    "    \"hour\",\n",
    "]"
   ]
  },
  {
   "cell_type": "code",
   "execution_count": 63,
   "metadata": {},
   "outputs": [],
   "source": [
    "crashes_road[\"crashes\"] = crashes_road.hour.apply(lambda o: not np.isnan(o))"
   ]
  },
  {
   "cell_type": "code",
   "execution_count": 64,
   "metadata": {},
   "outputs": [],
   "source": [
    "crashes_road_hour_count = crashes_road.groupby(\n",
    "    by=columns_to_grouby, as_index=False, dropna=False\n",
    ")[\"crashes\"].sum()"
   ]
  },
  {
   "cell_type": "code",
   "execution_count": 65,
   "metadata": {},
   "outputs": [],
   "source": [
    "del crashes_road"
   ]
  },
  {
   "cell_type": "code",
   "execution_count": 66,
   "metadata": {},
   "outputs": [
    {
     "data": {
      "text/html": [
       "<div>\n",
       "<style scoped>\n",
       "    .dataframe tbody tr th:only-of-type {\n",
       "        vertical-align: middle;\n",
       "    }\n",
       "\n",
       "    .dataframe tbody tr th {\n",
       "        vertical-align: top;\n",
       "    }\n",
       "\n",
       "    .dataframe thead th {\n",
       "        text-align: right;\n",
       "    }\n",
       "</style>\n",
       "<table border=\"1\" class=\"dataframe\">\n",
       "  <thead>\n",
       "    <tr style=\"text-align: right;\">\n",
       "      <th></th>\n",
       "      <th>rw_type</th>\n",
       "      <th>bike_lane</th>\n",
       "      <th>shape_leng</th>\n",
       "      <th>trafdir</th>\n",
       "      <th>geometry</th>\n",
       "      <th>road_geom</th>\n",
       "      <th>st_width</th>\n",
       "      <th>postvz_sl</th>\n",
       "      <th>humps</th>\n",
       "      <th>hour</th>\n",
       "      <th>crashes</th>\n",
       "    </tr>\n",
       "  </thead>\n",
       "  <tbody>\n",
       "    <tr>\n",
       "      <th>970351</th>\n",
       "      <td>1</td>\n",
       "      <td>NaN</td>\n",
       "      <td>474.559662707</td>\n",
       "      <td>TW</td>\n",
       "      <td>POLYGON ((1012988.272 185000.542, 1012988.723 ...</td>\n",
       "      <td>MULTILINESTRING ((1012865.703 185460.115, 1012...</td>\n",
       "      <td>60.0</td>\n",
       "      <td>25.0</td>\n",
       "      <td>0.0</td>\n",
       "      <td>16.0</td>\n",
       "      <td>124</td>\n",
       "    </tr>\n",
       "    <tr>\n",
       "      <th>1127268</th>\n",
       "      <td>1</td>\n",
       "      <td>NaN</td>\n",
       "      <td>6528.61031702</td>\n",
       "      <td>TW</td>\n",
       "      <td>POLYGON ((1019937.337 260087.035, 1019937.418 ...</td>\n",
       "      <td>MULTILINESTRING ((1019758.386 259418.315, 1019...</td>\n",
       "      <td>54.0</td>\n",
       "      <td>25.0</td>\n",
       "      <td>0.0</td>\n",
       "      <td>8.0</td>\n",
       "      <td>122</td>\n",
       "    </tr>\n",
       "    <tr>\n",
       "      <th>1183163</th>\n",
       "      <td>1</td>\n",
       "      <td>NaN</td>\n",
       "      <td>718.071632481</td>\n",
       "      <td>FT</td>\n",
       "      <td>POLYGON ((994151.618 216413.573, 994154.291 21...</td>\n",
       "      <td>MULTILINESTRING ((993507.232 216732.034, 99413...</td>\n",
       "      <td>35.0</td>\n",
       "      <td>25.0</td>\n",
       "      <td>0.0</td>\n",
       "      <td>17.0</td>\n",
       "      <td>120</td>\n",
       "    </tr>\n",
       "    <tr>\n",
       "      <th>1127277</th>\n",
       "      <td>1</td>\n",
       "      <td>NaN</td>\n",
       "      <td>6528.61031702</td>\n",
       "      <td>TW</td>\n",
       "      <td>POLYGON ((1019937.337 260087.035, 1019937.418 ...</td>\n",
       "      <td>MULTILINESTRING ((1019758.386 259418.315, 1019...</td>\n",
       "      <td>54.0</td>\n",
       "      <td>25.0</td>\n",
       "      <td>0.0</td>\n",
       "      <td>17.0</td>\n",
       "      <td>116</td>\n",
       "    </tr>\n",
       "    <tr>\n",
       "      <th>1302297</th>\n",
       "      <td>1</td>\n",
       "      <td>NaN</td>\n",
       "      <td>900.018865798</td>\n",
       "      <td>TW</td>\n",
       "      <td>POLYGON ((986275.437 215565.184, 986272.768 21...</td>\n",
       "      <td>MULTILINESTRING ((987078.370 215157.316, 98629...</td>\n",
       "      <td>60.0</td>\n",
       "      <td>25.0</td>\n",
       "      <td>0.0</td>\n",
       "      <td>18.0</td>\n",
       "      <td>110</td>\n",
       "    </tr>\n",
       "    <tr>\n",
       "      <th>...</th>\n",
       "      <td>...</td>\n",
       "      <td>...</td>\n",
       "      <td>...</td>\n",
       "      <td>...</td>\n",
       "      <td>...</td>\n",
       "      <td>...</td>\n",
       "      <td>...</td>\n",
       "      <td>...</td>\n",
       "      <td>...</td>\n",
       "      <td>...</td>\n",
       "      <td>...</td>\n",
       "    </tr>\n",
       "    <tr>\n",
       "      <th>1428966</th>\n",
       "      <td>7</td>\n",
       "      <td>NaN</td>\n",
       "      <td>81.8783963972</td>\n",
       "      <td>NV</td>\n",
       "      <td>POLYGON ((1006626.143 250052.108, 1006623.703 ...</td>\n",
       "      <td>MULTILINESTRING ((1006711.118 250029.585, 1006...</td>\n",
       "      <td>0.0</td>\n",
       "      <td>25.0</td>\n",
       "      <td>0.0</td>\n",
       "      <td>NaN</td>\n",
       "      <td>0</td>\n",
       "    </tr>\n",
       "    <tr>\n",
       "      <th>1428967</th>\n",
       "      <td>7</td>\n",
       "      <td>NaN</td>\n",
       "      <td>82.0148939754</td>\n",
       "      <td>NV</td>\n",
       "      <td>POLYGON ((1021508.581 218714.616, 1021510.676 ...</td>\n",
       "      <td>MULTILINESTRING ((1021481.810 218630.749, 1021...</td>\n",
       "      <td>0.0</td>\n",
       "      <td>25.0</td>\n",
       "      <td>0.0</td>\n",
       "      <td>NaN</td>\n",
       "      <td>0</td>\n",
       "    </tr>\n",
       "    <tr>\n",
       "      <th>1428968</th>\n",
       "      <td>7</td>\n",
       "      <td>NaN</td>\n",
       "      <td>82.0792107377</td>\n",
       "      <td>NV</td>\n",
       "      <td>POLYGON ((975187.337 169507.423, 975190.282 16...</td>\n",
       "      <td>MULTILINESTRING ((975099.432 169501.621, 97517...</td>\n",
       "      <td>0.0</td>\n",
       "      <td>25.0</td>\n",
       "      <td>0.0</td>\n",
       "      <td>NaN</td>\n",
       "      <td>0</td>\n",
       "    </tr>\n",
       "    <tr>\n",
       "      <th>1428969</th>\n",
       "      <td>7</td>\n",
       "      <td>NaN</td>\n",
       "      <td>83.3443638266</td>\n",
       "      <td>NV</td>\n",
       "      <td>POLYGON ((1013118.330 218690.923, 1013117.335 ...</td>\n",
       "      <td>MULTILINESTRING ((1013149.771 218685.145, 1013...</td>\n",
       "      <td>0.0</td>\n",
       "      <td>25.0</td>\n",
       "      <td>0.0</td>\n",
       "      <td>NaN</td>\n",
       "      <td>0</td>\n",
       "    </tr>\n",
       "    <tr>\n",
       "      <th>1428931</th>\n",
       "      <td>7</td>\n",
       "      <td>NaN</td>\n",
       "      <td>66.6872220862</td>\n",
       "      <td>NV</td>\n",
       "      <td>POLYGON ((992624.667 212404.527, 992626.079 21...</td>\n",
       "      <td>MULTILINESTRING ((992650.682 212385.434, 99265...</td>\n",
       "      <td>32.0</td>\n",
       "      <td>25.0</td>\n",
       "      <td>0.0</td>\n",
       "      <td>NaN</td>\n",
       "      <td>0</td>\n",
       "    </tr>\n",
       "  </tbody>\n",
       "</table>\n",
       "<p>1452527 rows × 11 columns</p>\n",
       "</div>"
      ],
      "text/plain": [
       "        rw_type bike_lane     shape_leng trafdir  \\\n",
       "970351        1       NaN  474.559662707      TW   \n",
       "1127268       1       NaN  6528.61031702      TW   \n",
       "1183163       1       NaN  718.071632481      FT   \n",
       "1127277       1       NaN  6528.61031702      TW   \n",
       "1302297       1       NaN  900.018865798      TW   \n",
       "...         ...       ...            ...     ...   \n",
       "1428966       7       NaN  81.8783963972      NV   \n",
       "1428967       7       NaN  82.0148939754      NV   \n",
       "1428968       7       NaN  82.0792107377      NV   \n",
       "1428969       7       NaN  83.3443638266      NV   \n",
       "1428931       7       NaN  66.6872220862      NV   \n",
       "\n",
       "                                                  geometry  \\\n",
       "970351   POLYGON ((1012988.272 185000.542, 1012988.723 ...   \n",
       "1127268  POLYGON ((1019937.337 260087.035, 1019937.418 ...   \n",
       "1183163  POLYGON ((994151.618 216413.573, 994154.291 21...   \n",
       "1127277  POLYGON ((1019937.337 260087.035, 1019937.418 ...   \n",
       "1302297  POLYGON ((986275.437 215565.184, 986272.768 21...   \n",
       "...                                                    ...   \n",
       "1428966  POLYGON ((1006626.143 250052.108, 1006623.703 ...   \n",
       "1428967  POLYGON ((1021508.581 218714.616, 1021510.676 ...   \n",
       "1428968  POLYGON ((975187.337 169507.423, 975190.282 16...   \n",
       "1428969  POLYGON ((1013118.330 218690.923, 1013117.335 ...   \n",
       "1428931  POLYGON ((992624.667 212404.527, 992626.079 21...   \n",
       "\n",
       "                                                 road_geom st_width  \\\n",
       "970351   MULTILINESTRING ((1012865.703 185460.115, 1012...     60.0   \n",
       "1127268  MULTILINESTRING ((1019758.386 259418.315, 1019...     54.0   \n",
       "1183163  MULTILINESTRING ((993507.232 216732.034, 99413...     35.0   \n",
       "1127277  MULTILINESTRING ((1019758.386 259418.315, 1019...     54.0   \n",
       "1302297  MULTILINESTRING ((987078.370 215157.316, 98629...     60.0   \n",
       "...                                                    ...      ...   \n",
       "1428966  MULTILINESTRING ((1006711.118 250029.585, 1006...      0.0   \n",
       "1428967  MULTILINESTRING ((1021481.810 218630.749, 1021...      0.0   \n",
       "1428968  MULTILINESTRING ((975099.432 169501.621, 97517...      0.0   \n",
       "1428969  MULTILINESTRING ((1013149.771 218685.145, 1013...      0.0   \n",
       "1428931  MULTILINESTRING ((992650.682 212385.434, 99265...     32.0   \n",
       "\n",
       "         postvz_sl  humps  hour  crashes  \n",
       "970351        25.0    0.0  16.0      124  \n",
       "1127268       25.0    0.0   8.0      122  \n",
       "1183163       25.0    0.0  17.0      120  \n",
       "1127277       25.0    0.0  17.0      116  \n",
       "1302297       25.0    0.0  18.0      110  \n",
       "...            ...    ...   ...      ...  \n",
       "1428966       25.0    0.0   NaN        0  \n",
       "1428967       25.0    0.0   NaN        0  \n",
       "1428968       25.0    0.0   NaN        0  \n",
       "1428969       25.0    0.0   NaN        0  \n",
       "1428931       25.0    0.0   NaN        0  \n",
       "\n",
       "[1452527 rows x 11 columns]"
      ]
     },
     "execution_count": 66,
     "metadata": {},
     "output_type": "execute_result"
    }
   ],
   "source": [
    "crashes_road_hour_count.sort_values(\"crashes\", ascending=False)"
   ]
  },
  {
   "cell_type": "code",
   "execution_count": 67,
   "metadata": {},
   "outputs": [],
   "source": [
    "crashes_road_hour_count[\"crashes\"] = (\n",
    "    crashes_road_hour_count[\"crashes\"] / number_of_months\n",
    ")"
   ]
  },
  {
   "cell_type": "code",
   "execution_count": 68,
   "metadata": {},
   "outputs": [],
   "source": [
    "from pathlib import Path\n",
    "\n",
    "\n",
    "def save_dataset(dataframe: pd.DataFrame | gpd.GeoDataFrame, file_name: str):\n",
    "    data_folder = Path(\"./data\")\n",
    "    os.makedirs(data_folder, exist_ok=True)\n",
    "    dataframe.to_csv(data_folder / file_name, index=False)"
   ]
  },
  {
   "cell_type": "code",
   "execution_count": 69,
   "metadata": {},
   "outputs": [],
   "source": [
    "crashes_road_hour_count.drop(columns=[\"geometry\", \"road_geom\"], inplace=True)\n",
    "\n",
    "save_dataset(crashes_road_hour_count, \"crashes_avg.csv\")"
   ]
  },
  {
   "cell_type": "markdown",
   "metadata": {},
   "source": [
    "#### Further comments"
   ]
  },
  {
   "cell_type": "markdown",
   "metadata": {},
   "source": [
    "- Not all streets will have data for all times of the day. We may want to think about whether we should add one row per hour per street. The new added rows will have 0 crashes. "
   ]
  }
 ],
 "metadata": {
  "kernelspec": {
   "display_name": "erdos_sp_2024",
   "language": "python",
   "name": "python3"
  },
  "language_info": {
   "codemirror_mode": {
    "name": "ipython",
    "version": 3
   },
   "file_extension": ".py",
   "mimetype": "text/x-python",
   "name": "python",
   "nbconvert_exporter": "python",
   "pygments_lexer": "ipython3",
   "version": "3.11.7"
  }
 },
 "nbformat": 4,
 "nbformat_minor": 2
}
